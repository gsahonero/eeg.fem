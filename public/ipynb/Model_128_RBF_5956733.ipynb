{
 "cells": [
  {
   "cell_type": "code",
   "execution_count": 2,
   "source": [
    "import numpy as np\r\n",
    "from sklearn.svm import SVC\r\n",
    "from sklearn.model_selection import train_test_split\r\n",
    "from sklearn.model_selection import RandomizedSearchCV\r\n",
    "import pandas as pd"
   ],
   "outputs": [],
   "metadata": {}
  },
  {
   "cell_type": "code",
   "execution_count": 3,
   "source": [
    "df = np.genfromtxt('D:/Github/eeg.fem/public/data/Musical/5956733/data_for_train/ALL_3C_128.csv',delimiter=',')\r\n",
    "x = df[:, :-1]\r\n",
    "y = df[:, -1]\r\n",
    "X_train, X_test, y_train, y_test = train_test_split(x, y, random_state=3, test_size=0.3)"
   ],
   "outputs": [],
   "metadata": {}
  },
  {
   "cell_type": "code",
   "execution_count": 3,
   "source": [
    "%%time\r\n",
    "classifier = SVC(kernel='rbf', max_iter=-1 ,decision_function_shape='ovr')\r\n",
    "params = {'C': [1e-5, 1, 1e5],\r\n",
    "          'gamma': [1e-5, 1, 1e5, 'scale'],\r\n",
    "          'tol': [1e-3]}\r\n",
    "rs = RandomizedSearchCV(classifier, params, cv=8, scoring='accuracy', n_iter=12)\r\n",
    "rs.fit(X_train, y_train)\r\n",
    "print(pd.DataFrame(rs.cv_results_)[['param_C','param_gamma','mean_test_score']])"
   ],
   "outputs": [
    {
     "output_type": "stream",
     "name": "stdout",
     "text": [
      "   param_C param_gamma  mean_test_score\n",
      "0    1e-05       1e-05         0.373902\n",
      "1    1e-05           1         0.373902\n",
      "2    1e-05      100000         0.373902\n",
      "3    1e-05       scale         0.373902\n",
      "4        1       1e-05         0.533172\n",
      "5        1           1         0.373902\n",
      "6        1      100000         0.373902\n",
      "7        1       scale         0.525703\n",
      "8   100000       1e-05         0.584139\n",
      "9   100000           1         0.373902\n",
      "10  100000      100000         0.373902\n",
      "11  100000       scale         0.585896\n",
      "Wall time: 4h 22min 47s\n"
     ]
    }
   ],
   "metadata": {}
  },
  {
   "cell_type": "code",
   "execution_count": 4,
   "source": [
    "%%time\r\n",
    "classifier = SVC(kernel='rbf', max_iter=-1 ,decision_function_shape='ovr')\r\n",
    "params = {'C': [1, 1e5],\r\n",
    "          'gamma': [1e-8, 'scale'],\r\n",
    "          'tol': [1e-3]}\r\n",
    "rs = RandomizedSearchCV(classifier, params, cv=8, scoring='accuracy', n_iter=4)\r\n",
    "rs.fit(X_train, y_train)\r\n",
    "print(pd.DataFrame(rs.cv_results_)[['param_C','param_gamma','mean_test_score']])"
   ],
   "outputs": [
    {
     "output_type": "stream",
     "name": "stdout",
     "text": [
      "  param_C param_gamma  mean_test_score\n",
      "0       1       1e-08         0.373902\n",
      "1       1       scale         0.525703\n",
      "2  100000       1e-08         0.968805\n",
      "3  100000       scale         0.585896\n",
      "Wall time: 1h 51min 55s\n"
     ]
    }
   ],
   "metadata": {}
  },
  {
   "cell_type": "code",
   "execution_count": 3,
   "source": [
    "%%time\r\n",
    "classifier = SVC(kernel='rbf', max_iter=-1 ,decision_function_shape='ovr')\r\n",
    "params = {'C': [1, 1e5, 1e7],\r\n",
    "          'gamma': [1e-9, 1e-8, 'scale'],\r\n",
    "          'tol': [1e-3]}\r\n",
    "rs = RandomizedSearchCV(classifier, params, cv=8, scoring='accuracy', n_iter=9)\r\n",
    "rs.fit(X_train, y_train)\r\n",
    "print(pd.DataFrame(rs.cv_results_)[['param_C','param_gamma','mean_test_score']])"
   ],
   "outputs": [
    {
     "output_type": "stream",
     "name": "stdout",
     "text": [
      "  param_C param_gamma  mean_test_score\n",
      "0       1       1e-09         0.373902\n",
      "1       1       1e-08         0.373902\n",
      "2       1       scale         0.525703\n",
      "3  100000       1e-09         0.402900\n",
      "4  100000       1e-08         0.968805\n",
      "5  100000       scale         0.585896\n",
      "6   1e+07       1e-09         0.762302\n",
      "7   1e+07       1e-08         0.997803\n",
      "8   1e+07       scale         0.585896\n",
      "Wall time: 6h 7min 52s\n"
     ]
    }
   ],
   "metadata": {}
  },
  {
   "cell_type": "code",
   "execution_count": 4,
   "source": [
    "%%time\r\n",
    "classifier = SVC(kernel='rbf', max_iter=-1 ,decision_function_shape='ovr')\r\n",
    "params = {'C': [1e5],\r\n",
    "          'gamma': [1e-9, 1e-8, 1e-7],\r\n",
    "          'tol': [1e-3]}\r\n",
    "rs = RandomizedSearchCV(classifier, params, cv=8, scoring='accuracy', n_iter=3)\r\n",
    "rs.fit(X_train, y_train)\r\n",
    "print(pd.DataFrame(rs.cv_results_)[['param_C','param_gamma','mean_test_score']])"
   ],
   "outputs": [
    {
     "output_type": "stream",
     "name": "stdout",
     "text": [
      "  param_C param_gamma  mean_test_score\n",
      "0  100000       1e-09         0.402900\n",
      "1  100000       1e-08         0.968805\n",
      "2  100000       1e-07         0.820958\n",
      "Wall time: 1h 32min 29s\n"
     ]
    }
   ],
   "metadata": {}
  },
  {
   "cell_type": "code",
   "execution_count": 3,
   "source": [
    "%%time\r\n",
    "import joblib\r\n",
    "from sklearn.metrics import classification_report\r\n",
    "#Dividimos el test set en test y val\r\n",
    "X_val, X_test, y_val, y_test = train_test_split(X_test, y_test, random_state=3, test_size=2/3)\r\n",
    "classifier = SVC(kernel='rbf', gamma=1e-8, max_iter=-1, C=1e5, tol=1e-3, decision_function_shape='ovr')\r\n",
    "classifier.fit(X_train, y_train)\r\n",
    "y_predict = classifier.predict(X_test)\r\n",
    "print('TEST SET:')\r\n",
    "print(classification_report(y_test, y_predict))\r\n",
    "print('VAL SET:')\r\n",
    "y_val_predict = classifier.predict(X_val)\r\n",
    "print(classification_report(y_val, y_val_predict))\r\n",
    "joblib.dump(classifier, 'D:/Github/eeg.fem/public/data/Musical/5956733/ML_models/Model_RBF_128')"
   ],
   "outputs": [
    {
     "output_type": "stream",
     "name": "stdout",
     "text": [
      "TEST SET:\n",
      "              precision    recall  f1-score   support\n",
      "\n",
      "         1.0       1.00      1.00      1.00       515\n",
      "         2.0       0.98      0.99      0.99       464\n",
      "         3.0       0.99      0.97      0.98       323\n",
      "\n",
      "    accuracy                           0.99      1302\n",
      "   macro avg       0.99      0.99      0.99      1302\n",
      "weighted avg       0.99      0.99      0.99      1302\n",
      "\n",
      "VAL SET:\n",
      "              precision    recall  f1-score   support\n",
      "\n",
      "         1.0       1.00      1.00      1.00       239\n",
      "         2.0       0.96      1.00      0.98       234\n",
      "         3.0       0.99      0.94      0.97       177\n",
      "\n",
      "    accuracy                           0.98       650\n",
      "   macro avg       0.98      0.98      0.98       650\n",
      "weighted avg       0.98      0.98      0.98       650\n",
      "\n",
      "Wall time: 6min 18s\n"
     ]
    }
   ],
   "metadata": {}
  },
  {
   "cell_type": "code",
   "execution_count": 4,
   "source": [
    "%%time\r\n",
    "classifier = SVC(kernel='rbf', max_iter=-1 ,decision_function_shape='ovr')\r\n",
    "params = {'C': [1e5],\r\n",
    "          'gamma': [1e-7, 5e-7, 1e-8],\r\n",
    "          'tol': [1e-3]}\r\n",
    "rs = RandomizedSearchCV(classifier, params, cv=8, scoring='accuracy', n_iter=3)\r\n",
    "rs.fit(X_train, y_train)\r\n",
    "print(pd.DataFrame(rs.cv_results_)[['param_C','param_gamma','mean_test_score']])"
   ],
   "outputs": [
    {
     "output_type": "stream",
     "name": "stdout",
     "text": [
      "  param_C param_gamma  mean_test_score\n",
      "0  100000       1e-07         0.820958\n",
      "1  100000       5e-07         0.643234\n",
      "2  100000       1e-08         0.968805\n",
      "Wall time: 1h 48min 11s\n"
     ]
    }
   ],
   "metadata": {}
  },
  {
   "cell_type": "code",
   "execution_count": 18,
   "source": [
    "import matplotlib.pyplot as plt\r\n",
    "\r\n",
    "c_param = ['1', '1e5', '1e7']\r\n",
    "gamma_param = ['1e-9', '1e-8', 'scale']\r\n",
    " \r\n",
    "\"\"\" test_score = np.array(([0.373902, 0.373902, 0.525703],[0.402900, 0.968805, 0.585896],[0.762302, 0.997803, 0.585896])) \"\"\"\r\n",
    "\r\n",
    "test_score = np.array(([0.373902, 0.402900, 0.762302],[0.373902, 0.968805, 0.997803],[0.525703, 0.585896, 0.585896]))\r\n",
    "\r\n",
    "figure = plt.figure()\r\n",
    "axes = figure.add_subplot(111)\r\n",
    " \r\n",
    "# using the matshow() function\r\n",
    "caxes = axes.matshow(test_score, interpolation ='nearest')\r\n",
    "figure.colorbar(caxes)\r\n",
    " \r\n",
    "axes.set_xticklabels(['']+c_param)\r\n",
    "axes.set_yticklabels(['']+gamma_param)\r\n",
    "axes.set_title('Matriz de confusión modelo 128_RBF', pad=15)\r\n",
    "axes.set_xlabel('C')\r\n",
    "axes.set_ylabel('gamma')\r\n",
    "plt.show()"
   ],
   "outputs": [
    {
     "output_type": "display_data",
     "data": {
      "image/png": "[encoded data removed]",
      "text/plain": [
       "<Figure size 432x288 with 2 Axes>"
      ]
     },
     "metadata": {
      "needs_background": "light"
     }
    }
   ],
   "metadata": {}
  }
 ],
 "metadata": {
  "orig_nbformat": 4,
  "language_info": {
   "name": "python",
   "version": "3.6.13",
   "mimetype": "text/x-python",
   "codemirror_mode": {
    "name": "ipython",
    "version": 3
   },
   "pygments_lexer": "ipython3",
   "nbconvert_exporter": "python",
   "file_extension": ".py"
  },
  "kernelspec": {
   "name": "python3",
   "display_name": "Python 3.6.13 64-bit ('BCIMusical': conda)"
  },
  "interpreter": {
   "hash": "f9ecac2d14d2bb269a4709d9862e512850489fa6d8ba68695ffcc8a638687dcf"
  }
 },
 "nbformat": 4,
 "nbformat_minor": 2
}