{
 "cells": [
  {
   "cell_type": "code",
   "execution_count": 1,
   "source": [
    "import numpy as np\r\n",
    "from sklearn.svm import SVC\r\n",
    "from sklearn.model_selection import train_test_split\r\n",
    "from sklearn.model_selection import RandomizedSearchCV\r\n",
    "import pandas as pd"
   ],
   "outputs": [],
   "metadata": {}
  },
  {
   "cell_type": "code",
   "execution_count": 2,
   "source": [
    "df = np.genfromtxt('D:/Github/eeg.fem/public/data/Musical/6080072/data_for_train/ALL_3C_128.csv',delimiter=',')\r\n",
    "x = df[:, :-1]\r\n",
    "y = df[:, -1]\r\n",
    "X_train, X_test, y_train, y_test = train_test_split(x, y, random_state=3, test_size=0.3)"
   ],
   "outputs": [],
   "metadata": {}
  },
  {
   "cell_type": "code",
   "execution_count": 3,
   "source": [
    "%%time\r\n",
    "classifier = SVC(kernel='rbf', max_iter=-1 ,decision_function_shape='ovr')\r\n",
    "params = {'C': [1e-5, 1, 1e5],\r\n",
    "          'gamma': [1e-5, 1, 1e5, 'scale'],\r\n",
    "          'tol': [1e-3]}\r\n",
    "rs = RandomizedSearchCV(classifier, params, cv=8, scoring='accuracy', n_iter=12)\r\n",
    "rs.fit(X_train, y_train)\r\n",
    "print(pd.DataFrame(rs.cv_results_)[['param_C','param_gamma','mean_test_score']])"
   ],
   "outputs": [
    {
     "output_type": "stream",
     "name": "stdout",
     "text": [
      "   param_C param_gamma  mean_test_score\n",
      "0    1e-05       1e-05         0.373902\n",
      "1    1e-05           1         0.373902\n",
      "2    1e-05      100000         0.373902\n",
      "3    1e-05       scale         0.373902\n",
      "4        1       1e-05         0.539323\n",
      "5        1           1         0.373902\n",
      "6        1      100000         0.373902\n",
      "7        1       scale         0.516696\n",
      "8   100000       1e-05         0.598638\n",
      "9   100000           1         0.373902\n",
      "10  100000      100000         0.373902\n",
      "11  100000       scale         0.590949\n",
      "Wall time: 4h 32min 49s\n"
     ]
    }
   ],
   "metadata": {}
  },
  {
   "cell_type": "code",
   "execution_count": 4,
   "source": [
    "%%time\r\n",
    "classifier = SVC(kernel='rbf', max_iter=-1 ,decision_function_shape='ovr')\r\n",
    "params = {'C': [1, 1e5, 1e10],\r\n",
    "          'gamma': [1e-8, 1e-5, 'scale'],\r\n",
    "          'tol': [1e-3]}\r\n",
    "rs = RandomizedSearchCV(classifier, params, cv=8, scoring='accuracy', n_iter=9)\r\n",
    "rs.fit(X_train, y_train)\r\n",
    "print(pd.DataFrame(rs.cv_results_)[['param_C','param_gamma','mean_test_score']])"
   ],
   "outputs": [
    {
     "output_type": "stream",
     "name": "stdout",
     "text": [
      "  param_C param_gamma  mean_test_score\n",
      "0       1       1e-08         0.373902\n",
      "1       1       1e-05         0.539323\n",
      "2       1       scale         0.516696\n",
      "3  100000       1e-08         0.914982\n",
      "4  100000       1e-05         0.598638\n",
      "5  100000       scale         0.590949\n",
      "6   1e+10       1e-08         0.968146\n",
      "7   1e+10       1e-05         0.598638\n",
      "8   1e+10       scale         0.590949\n",
      "Wall time: 5h 33min 28s\n"
     ]
    }
   ],
   "metadata": {}
  }
 ],
 "metadata": {
  "orig_nbformat": 4,
  "language_info": {
   "name": "python",
   "version": "3.6.13",
   "mimetype": "text/x-python",
   "codemirror_mode": {
    "name": "ipython",
    "version": 3
   },
   "pygments_lexer": "ipython3",
   "nbconvert_exporter": "python",
   "file_extension": ".py"
  },
  "kernelspec": {
   "name": "python3",
   "display_name": "Python 3.6.13 64-bit ('BCIMusical': conda)"
  },
  "interpreter": {
   "hash": "f9ecac2d14d2bb269a4709d9862e512850489fa6d8ba68695ffcc8a638687dcf"
  }
 },
 "nbformat": 4,
 "nbformat_minor": 2
}