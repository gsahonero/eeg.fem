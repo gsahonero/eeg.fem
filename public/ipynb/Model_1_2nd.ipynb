{
 "cells": [
  {
   "cell_type": "code",
   "execution_count": 4,
   "id": "883a58d3",
   "metadata": {},
   "outputs": [],
   "source": [
    "import numpy as np\n",
    "import pandas as pd\n",
    "from sklearn.svm import SVC\n",
    "from sklearn.model_selection import train_test_split\n",
    "from sklearn.model_selection import RandomizedSearchCV\n",
    "\n",
    "path = 'D:/Github/eeg.fem/public/data/Musical/6080072/All_Data/'\n",
    "df = np.genfromtxt(str(path)+'ALL_3C.csv',delimiter=',')\n",
    "\n",
    "X = df[:,:df.shape[1]-1]\n",
    "y = df[:,df.shape[1]-1]\n",
    " \n",
    "X_train, X_test, y_train, y_test = train_test_split(X, y, random_state=3, test_size=0.3)"
   ]
  },
  {
   "cell_type": "code",
   "execution_count": 3,
   "id": "4ece8d71",
   "metadata": {},
   "outputs": [
    {
     "name": "stdout",
     "output_type": "stream",
     "text": [
      "Wall time: 1h 1min 48s\n"
     ]
    }
   ],
   "source": [
    "%%time\n",
    "classifier = SVC(kernel='rbf', max_iter=-1 ,decision_function_shape='ovr', tol=1e-3)\n",
    "#classifier = SVC(C=4, kernel='rbf', gamma='scale', tol=1e-3, max_iter=-1, decision_function_shape='ovr')\n",
    "\n",
    "params = {'C': [0.1, 1, 2, 3, 4],\n",
    "          'gamma': [0.0001, 'scale']}\n",
    "\n",
    "rs = RandomizedSearchCV(classifier, params, cv=8, scoring='accuracy', n_iter=5)\n",
    "\n",
    "rs.fit(X_train, y_train)\n",
    "\n",
    "pd.DataFrame(rs.cv_results_)[['param_C','param_gamma','mean_test_score']]"
   ]
  },
  {
   "cell_type": "code",
   "execution_count": 4,
   "id": "2aaa8711",
   "metadata": {},
   "outputs": [
    {
     "name": "stdout",
     "output_type": "stream",
     "text": [
      "  param_C param_gamma  mean_test_score\n",
      "0       1       scale         0.531319\n",
      "1       2       scale         0.561263\n",
      "2       4      0.0001         0.453596\n",
      "3       3       scale         0.573578\n",
      "4       1      0.0001         0.431720\n"
     ]
    }
   ],
   "source": [
    "print(pd.DataFrame(rs.cv_results_)[['param_C','param_gamma','mean_test_score']])"
   ]
  },
  {
   "cell_type": "code",
   "execution_count": 5,
   "id": "55876c2c",
   "metadata": {},
   "outputs": [
    {
     "name": "stdout",
     "output_type": "stream",
     "text": [
      "  param_C param_gamma  mean_test_score\n",
      "0     100       10000         0.365470\n",
      "1   10000       10000         0.365470\n",
      "2     100       scale         0.621984\n",
      "3       1       10000         0.365470\n",
      "4       4           1         0.365470\n",
      "Wall time: 1h 6min 42s\n"
     ]
    }
   ],
   "source": [
    "%%time\n",
    "classifier = SVC(kernel='rbf', max_iter=-1 ,decision_function_shape='ovr', tol=1e-3)\n",
    "#classifier = SVC(C=4, kernel='rbf', gamma='scale', tol=1e-3, max_iter=-1, decision_function_shape='ovr')\n",
    "\n",
    "params = {'C': [1, 4, 100, 10000],\n",
    "          'gamma': ['scale', 1, 1000, 10000]}\n",
    "\n",
    "rs = RandomizedSearchCV(classifier, params, cv=8, scoring='accuracy', n_iter=5)\n",
    "\n",
    "rs.fit(X_train, y_train)\n",
    "\n",
    "print(pd.DataFrame(rs.cv_results_)[['param_C','param_gamma','mean_test_score']])"
   ]
  },
  {
   "cell_type": "code",
   "execution_count": 6,
   "id": "8fcda9c0",
   "metadata": {},
   "outputs": [
    {
     "name": "stdout",
     "output_type": "stream",
     "text": [
      "  param_C param_gamma  mean_test_score\n",
      "0     100       scale         0.621984\n",
      "1   10000       scale         0.621984\n",
      "2   1e+06       scale         0.621984\n",
      "3   1e+08       scale         0.621984\n",
      "4   1e+10       scale         0.621984\n",
      "Wall time: 1h 3min 34s\n"
     ]
    }
   ],
   "source": [
    "%%time\n",
    "classifier = SVC(kernel='rbf', max_iter=-1 ,decision_function_shape='ovr', tol=1e-3)\n",
    "#classifier = SVC(C=4, kernel='rbf', gamma='scale', tol=1e-3, max_iter=-1, decision_function_shape='ovr')\n",
    "\n",
    "params = {'C': [1e2, 1e4, 1e6, 1e8, 1e10],\n",
    "          'gamma': ['scale']}\n",
    "\n",
    "rs = RandomizedSearchCV(classifier, params, cv=8, scoring='accuracy', n_iter=5)\n",
    "\n",
    "rs.fit(X_train, y_train)\n",
    "\n",
    "print(pd.DataFrame(rs.cv_results_)[['param_C','param_gamma','mean_test_score']])"
   ]
  },
  {
   "cell_type": "code",
   "execution_count": 7,
   "id": "762cd7b8",
   "metadata": {},
   "outputs": [
    {
     "name": "stdout",
     "output_type": "stream",
     "text": [
      "  param_C param_gamma param_tol  mean_test_score\n",
      "0       1       scale     1e-06         0.531319\n",
      "1       1       scale      0.01         0.531744\n",
      "2      10       scale    0.0001         0.609461\n",
      "3     100       scale     1e-06         0.621984\n",
      "4      10       scale     1e-08         0.609461\n",
      "Wall time: 59min 48s\n"
     ]
    }
   ],
   "source": [
    "%%time\n",
    "classifier = SVC(kernel='rbf', max_iter=-1 ,decision_function_shape='ovr')\n",
    "#classifier = SVC(C=4, kernel='rbf', gamma='scale', tol=1e-3, max_iter=-1, decision_function_shape='ovr')\n",
    "\n",
    "params = {'C': [1, 10, 1e2],\n",
    "          'gamma': ['scale'],\n",
    "          'tol': [1e-2, 1e-4, 1e-6, 1e-8]}\n",
    "\n",
    "rs = RandomizedSearchCV(classifier, params, cv=8, scoring='accuracy', n_iter=5)\n",
    "\n",
    "rs.fit(X_train, y_train)\n",
    "\n",
    "print(pd.DataFrame(rs.cv_results_)[['param_C','param_gamma','param_tol','mean_test_score']])"
   ]
  },
  {
   "cell_type": "code",
   "execution_count": 8,
   "id": "51dac4f7",
   "metadata": {},
   "outputs": [
    {
     "name": "stdout",
     "output_type": "stream",
     "text": [
      "  param_C param_gamma param_tol  mean_test_score\n",
      "0    1000       scale      0.01         0.622408\n",
      "1   10000       scale      0.01         0.622408\n",
      "2    1000       scale        10         0.270121\n",
      "3     100       scale      0.01         0.622408\n",
      "4   10000       scale        10         0.270121\n",
      "Wall time: 38min 14s\n"
     ]
    }
   ],
   "source": [
    "%%time\n",
    "classifier = SVC(kernel='rbf', max_iter=-1 ,decision_function_shape='ovr')\n",
    "#classifier = SVC(C=4, kernel='rbf', gamma='scale', tol=1e-3, max_iter=-1, decision_function_shape='ovr')\n",
    "\n",
    "params = {'C': [1e2, 1e3, 1e4],\n",
    "          'gamma': ['scale'],\n",
    "          'tol': [10, 1e-2]}\n",
    "\n",
    "rs = RandomizedSearchCV(classifier, params, cv=8, scoring='accuracy', n_iter=5)\n",
    "\n",
    "rs.fit(X_train, y_train)\n",
    "\n",
    "print(pd.DataFrame(rs.cv_results_)[['param_C','param_gamma','param_tol','mean_test_score']])"
   ]
  },
  {
   "cell_type": "code",
   "execution_count": 9,
   "id": "79db2dbb",
   "metadata": {},
   "outputs": [
    {
     "name": "stdout",
     "output_type": "stream",
     "text": [
      "  param_C param_gamma param_tol  mean_test_score\n",
      "0     100       scale       0.9         0.616256\n",
      "1     100       scale      0.01         0.622408\n",
      "2    1000       scale       0.9         0.616256\n",
      "3    1000       scale     0.009         0.621984\n",
      "4   10000       scale       0.9         0.616256\n",
      "5   10000       scale        10         0.270121\n",
      "6    1000       scale      0.01         0.622408\n",
      "7    1000       scale        10         0.270121\n",
      "8   10000       scale     0.009         0.621984\n",
      "9   10000       scale      0.01         0.622408\n",
      "Wall time: 1h 47min 33s\n"
     ]
    }
   ],
   "source": [
    "%%time\n",
    "classifier = SVC(kernel='rbf', max_iter=-1 ,decision_function_shape='ovr')\n",
    "#classifier = SVC(C=4, kernel='rbf', gamma='scale', tol=1e-3, max_iter=-1, decision_function_shape='ovr')\n",
    "\n",
    "params = {'C': [1e2, 1e3, 1e4],\n",
    "          'gamma': ['scale'],\n",
    "          'tol': [1e1, 1e-2, 9e-1, 9e-3]}\n",
    "\n",
    "rs = RandomizedSearchCV(classifier, params, cv=8, scoring='accuracy', n_iter=10)\n",
    "\n",
    "rs.fit(X_train, y_train)\n",
    "\n",
    "print(pd.DataFrame(rs.cv_results_)[['param_C','param_gamma','param_tol','mean_test_score']])"
   ]
  },
  {
   "cell_type": "code",
   "execution_count": 10,
   "id": "cc939a94",
   "metadata": {},
   "outputs": [
    {
     "name": "stdout",
     "output_type": "stream",
     "text": [
      "  param_C param_tol  mean_test_score\n",
      "0     500        10         0.270121\n",
      "1    1000      0.01         0.622408\n",
      "2    1000     0.009         0.621984\n",
      "3     100      0.01         0.622408\n",
      "4    1000       0.9         0.616256\n",
      "5     100     0.009         0.621984\n",
      "6     100       0.9         0.616256\n",
      "7     500     0.009         0.621984\n",
      "8    1000        10         0.270121\n",
      "9     100        10         0.270121\n",
      "Wall time: 1h 33min 8s\n"
     ]
    }
   ],
   "source": [
    "%%time\n",
    "classifier = SVC(kernel='rbf', max_iter=-1 ,decision_function_shape='ovr', gamma='scale')\n",
    "#classifier = SVC(C=4, kernel='rbf', gamma='scale', tol=1e-3, max_iter=-1, decision_function_shape='ovr')\n",
    "\n",
    "params = {'C': [1e2, 1e3, 5e2],\n",
    "          'tol': [1e1, 1e-2, 9e-1, 9e-3]}\n",
    "\n",
    "rs = RandomizedSearchCV(classifier, params, cv=8, scoring='accuracy', n_iter=10)\n",
    "\n",
    "rs.fit(X_train, y_train)\n",
    "\n",
    "print(pd.DataFrame(rs.cv_results_)[['param_C','param_tol','mean_test_score']])"
   ]
  },
  {
   "cell_type": "code",
   "execution_count": 3,
   "id": "fa2ace36",
   "metadata": {},
   "outputs": [
    {
     "name": "stdout",
     "output_type": "stream",
     "text": [
      "   param_C param_tol  mean_test_score\n",
      "0      100     0.001         0.365470\n",
      "1      0.1     0.001         0.463366\n",
      "2        1    0.0001         0.365470\n",
      "3      100    0.0001         0.365470\n",
      "4        1     0.001         0.531319\n",
      "5     0.01      0.01         0.365470\n",
      "6      0.1     0.001         0.365470\n",
      "7     0.01      0.01         0.365470\n",
      "8      0.1     0.001         0.365470\n",
      "9        1     0.001         0.365470\n",
      "10      10    0.0001         0.365470\n",
      "11       1      0.01         0.365470\n",
      "12     0.1      0.01         0.365470\n",
      "13     0.1      0.01         0.463153\n",
      "14    0.01     0.001         0.365470\n",
      "15      10      0.01         0.609461\n",
      "16       1     0.001         0.365470\n",
      "17     100      0.01         0.622408\n",
      "18      10      0.01         0.365470\n",
      "19     100     0.001         0.365470\n",
      "Wall time: 5h 29min 47s\n"
     ]
    }
   ],
   "source": [
    "%%time\n",
    "classifier = SVC(kernel='rbf', max_iter=-1 ,decision_function_shape='ovr', gamma='scale')\n",
    "#classifier = SVC(C=4, kernel='rbf', gamma='scale', tol=1e-3, max_iter=-1, decision_function_shape='ovr')\n",
    "\n",
    "params = {'C': [1e2, 1e1, 1, 1e-1, 1e-2],\n",
    "          'tol': [1e-2, 1e-3, 1e-4],\n",
    "          'gamma': ['scale', 1e-3, 1e3]}\n",
    "\n",
    "rs = RandomizedSearchCV(classifier, params, cv=8, scoring='accuracy', n_iter=20)\n",
    "\n",
    "rs.fit(X_train, y_train)\n",
    "\n",
    "print(pd.DataFrame(rs.cv_results_)[['param_C','param_tol','mean_test_score']])"
   ]
  },
  {
   "cell_type": "code",
   "execution_count": 4,
   "id": "064a0793",
   "metadata": {},
   "outputs": [
    {
     "name": "stdout",
     "output_type": "stream",
     "text": [
      "   param_C param_tol param_gamma  mean_test_score\n",
      "0      100     0.001       0.001         0.365470\n",
      "1      0.1     0.001       scale         0.463366\n",
      "2        1    0.0001        1000         0.365470\n",
      "3      100    0.0001        1000         0.365470\n",
      "4        1     0.001       scale         0.531319\n",
      "5     0.01      0.01        1000         0.365470\n",
      "6      0.1     0.001       0.001         0.365470\n",
      "7     0.01      0.01       0.001         0.365470\n",
      "8      0.1     0.001        1000         0.365470\n",
      "9        1     0.001       0.001         0.365470\n",
      "10      10    0.0001        1000         0.365470\n",
      "11       1      0.01       0.001         0.365470\n",
      "12     0.1      0.01        1000         0.365470\n",
      "13     0.1      0.01       scale         0.463153\n",
      "14    0.01     0.001       scale         0.365470\n",
      "15      10      0.01       scale         0.609461\n",
      "16       1     0.001        1000         0.365470\n",
      "17     100      0.01       scale         0.622408\n",
      "18      10      0.01        1000         0.365470\n",
      "19     100     0.001        1000         0.365470\n"
     ]
    }
   ],
   "source": [
    "print(pd.DataFrame(rs.cv_results_)[['param_C','param_tol','param_gamma','mean_test_score']])"
   ]
  },
  {
   "cell_type": "code",
   "execution_count": 5,
   "id": "a334d45f",
   "metadata": {},
   "outputs": [
    {
     "name": "stdout",
     "output_type": "stream",
     "text": [
      "  param_C param_tol  mean_test_score\n",
      "0     0.1      0.01         0.463153\n",
      "1  100000      0.01         0.622408\n",
      "2     0.1     0.001         0.463366\n",
      "3     100     0.001         0.621984\n",
      "4      10      0.01         0.609461\n",
      "Wall time: 1h 5min 22s\n"
     ]
    }
   ],
   "source": [
    "%%time\n",
    "classifier = SVC(kernel='rbf', max_iter=-1 ,decision_function_shape='ovr', gamma='scale')\n",
    "#classifier = SVC(C=4, kernel='rbf', gamma='scale', tol=1e-3, max_iter=-1, decision_function_shape='ovr')\n",
    "\n",
    "params = {'C': [1e5, 1e2, 1e1, 1, 1e-1],\n",
    "          'tol': [1e-2, 1e-3],\n",
    "          'gamma': ['scale']}\n",
    "\n",
    "rs = RandomizedSearchCV(classifier, params, cv=8, scoring='accuracy', n_iter=5)\n",
    "\n",
    "rs.fit(X_train, y_train)\n",
    "\n",
    "print(pd.DataFrame(rs.cv_results_)[['param_C','param_tol','mean_test_score']])"
   ]
  },
  {
   "cell_type": "code",
   "execution_count": 6,
   "id": "390f12b4",
   "metadata": {},
   "outputs": [
    {
     "name": "stdout",
     "output_type": "stream",
     "text": [
      "  param_C param_tol  mean_test_score\n",
      "0       1     0.001         0.531319\n",
      "1      10      0.01         0.609461\n",
      "2      10     0.001         0.609461\n",
      "3     100      0.01         0.622408\n",
      "4  100000     0.001         0.621984\n",
      "Wall time: 1h 19min 34s\n"
     ]
    }
   ],
   "source": [
    "%%time\n",
    "classifier = SVC(kernel='rbf', max_iter=-1 ,decision_function_shape='ovr', gamma='scale')\n",
    "#classifier = SVC(C=4, kernel='rbf', gamma='scale', tol=1e-3, max_iter=-1, decision_function_shape='ovr')\n",
    "\n",
    "params = {'C': [1e5, 1e2, 1e1, 1],\n",
    "          'tol': [1e-2, 1e-3]}\n",
    "\n",
    "rs = RandomizedSearchCV(classifier, params, cv=8, scoring='accuracy', n_iter=5)\n",
    "\n",
    "rs.fit(X_train, y_train)\n",
    "\n",
    "print(pd.DataFrame(rs.cv_results_)[['param_C','param_tol','mean_test_score']])"
   ]
  },
  {
   "cell_type": "code",
   "execution_count": 3,
   "id": "7b0dd19c",
   "metadata": {},
   "outputs": [
    {
     "name": "stdout",
     "output_type": "stream",
     "text": [
      "  param_C param_tol  mean_test_score\n",
      "0      10    0.0001         0.609461\n",
      "1       1    0.0001         0.531319\n",
      "2       1      0.01         0.531744\n",
      "3      10     0.001         0.609461\n",
      "4     100     0.001         0.621984\n",
      "Wall time: 1h 12min 20s\n"
     ]
    }
   ],
   "source": [
    "%%time\n",
    "classifier = SVC(kernel='rbf', max_iter=-1 ,decision_function_shape='ovr', gamma='scale')\n",
    "#classifier = SVC(C=4, kernel='rbf', gamma='scale', tol=1e-3, max_iter=-1, decision_function_shape='ovr')\n",
    "\n",
    "params = {'C': [1e2, 1e1, 1],\n",
    "          'tol': [1e-2, 1e-3, 1e-4]}\n",
    "\n",
    "rs = RandomizedSearchCV(classifier, params, cv=8, scoring='accuracy', n_iter=5)\n",
    "\n",
    "rs.fit(X_train, y_train)\n",
    "\n",
    "print(pd.DataFrame(rs.cv_results_)[['param_C','param_tol','mean_test_score']])"
   ]
  },
  {
   "cell_type": "code",
   "execution_count": 5,
   "id": "b99bc853",
   "metadata": {},
   "outputs": [
    {
     "name": "stdout",
     "output_type": "stream",
     "text": [
      "Clasifier DONE\n",
      "TEST SET:\n",
      "              precision    recall  f1-score   support\n",
      "\n",
      "         1.0       0.61      0.68      0.65       498\n",
      "         2.0       0.57      0.58      0.58       484\n",
      "         3.0       0.74      0.62      0.67       364\n",
      "\n",
      "    accuracy                           0.63      1346\n",
      "   macro avg       0.64      0.63      0.63      1346\n",
      "weighted avg       0.63      0.63      0.63      1346\n",
      "\n",
      "VAL SET:\n",
      "              precision    recall  f1-score   support\n",
      "\n",
      "         1.0       0.65      0.71      0.68       250\n",
      "         2.0       0.62      0.58      0.59       259\n",
      "         3.0       0.70      0.68      0.69       164\n",
      "\n",
      "    accuracy                           0.65       673\n",
      "   macro avg       0.66      0.66      0.66       673\n",
      "weighted avg       0.65      0.65      0.65       673\n",
      "\n",
      "Wall time: 2min 26s\n"
     ]
    }
   ],
   "source": [
    "%%time\n",
    "import joblib\n",
    "from sklearn.metrics import classification_report\n",
    "#Dividimos el test set en test y val\n",
    "X_val, X_test, y_val, y_test = train_test_split(X_test, y_test, random_state=3, test_size=2/3)\n",
    "\n",
    "classifier = SVC(kernel='rbf', max_iter=-1 ,decision_function_shape='ovr', gamma='scale', C=100, tol=1e-3)\n",
    "classifier.fit(X_train, y_train)\n",
    "print('Clasifier DONE')\n",
    "y_predict = classifier.predict(X_test)\n",
    "print('TEST SET:')\n",
    "print(classification_report(y_test, y_predict))\n",
    "print('VAL SET:')\n",
    "y_val_predict = classifier.predict(X_val)\n",
    "print(classification_report(y_val, y_val_predict))\n",
    "\n",
    "joblib.dump(classifier, 'D:/Github/eeg.fem/public/data/Musical/6080072/ML model/Models/Model_RBF_1')"
   ]
  },
  {
   "cell_type": "code",
   "execution_count": null,
   "id": "340693b4",
   "metadata": {},
   "outputs": [],
   "source": [
    "import numpy as np\n",
    "import matplotlib.pyplot as plt\n",
    "\n",
    "c_param = ['1', '1e5', '1e7']\n",
    "gamma_param = ['1e-9', '1e-8', 'scale']\n",
    "\n",
    "test_score = np.array(([0.373902, 0.402900, 0.762302],[0.373902, 0.968805, 0.997803],[0.525703, 0.585896, 0.585896]))\n",
    "\n",
    "figure = plt.figure()\n",
    "axes = figure.add_subplot(111)\n",
    " \n",
    "# using the matshow() function\n",
    "caxes = axes.matshow(test_score, interpolation ='nearest')\n",
    "figure.colorbar(caxes)\n",
    " \n",
    "axes.set_xticklabels(['']+c_param)\n",
    "axes.set_yticklabels(['']+gamma_param)\n",
    "axes.set_title('Matriz de confusión modelo 128_RBF', pad=15)\n",
    "axes.set_xlabel('C')\n",
    "axes.set_ylabel('gamma')\n",
    "plt.show()"
   ]
  }
 ],
 "metadata": {
  "kernelspec": {
   "display_name": "Python 3",
   "language": "python",
   "name": "python3"
  },
  "language_info": {
   "codemirror_mode": {
    "name": "ipython",
    "version": 3
   },
   "file_extension": ".py",
   "mimetype": "text/x-python",
   "name": "python",
   "nbconvert_exporter": "python",
   "pygments_lexer": "ipython3",
   "version": "3.6.13"
  }
 },
 "nbformat": 4,
 "nbformat_minor": 5
}
