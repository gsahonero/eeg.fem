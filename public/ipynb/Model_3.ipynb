{
 "cells": [
  {
   "cell_type": "code",
   "execution_count": 6,
   "id": "f7460660",
   "metadata": {},
   "outputs": [],
   "source": [
    "import numpy as np\n",
    "import pandas as pd\n",
    "from sklearn.svm import SVC\n",
    "from sklearn.model_selection import train_test_split\n",
    "from sklearn.model_selection import RandomizedSearchCV\n",
    "\n",
    "path = 'D:/Github/eeg.fem/public/data/Musical/5956733/All_Data/'\n",
    "df = np.genfromtxt(str(path)+'ALL_3C.csv',delimiter=',')\n",
    "\n",
    "X = df[:,:df.shape[1]-1]\n",
    "y = df[:,df.shape[1]-1]\n",
    " \n",
    "X_train, X_test, y_train, y_test = train_test_split(X, y, random_state=3, test_size=0.3)"
   ]
  },
  {
   "cell_type": "code",
   "execution_count": 2,
   "id": "f212c114",
   "metadata": {},
   "outputs": [
    {
     "data": {
      "text/html": [
       "<div>\n",
       "<style scoped>\n",
       "    .dataframe tbody tr th:only-of-type {\n",
       "        vertical-align: middle;\n",
       "    }\n",
       "\n",
       "    .dataframe tbody tr th {\n",
       "        vertical-align: top;\n",
       "    }\n",
       "\n",
       "    .dataframe thead th {\n",
       "        text-align: right;\n",
       "    }\n",
       "</style>\n",
       "<table border=\"1\" class=\"dataframe\">\n",
       "  <thead>\n",
       "    <tr style=\"text-align: right;\">\n",
       "      <th></th>\n",
       "      <th>param_C</th>\n",
       "      <th>param_gamma</th>\n",
       "      <th>mean_test_score</th>\n",
       "    </tr>\n",
       "  </thead>\n",
       "  <tbody>\n",
       "    <tr>\n",
       "      <th>0</th>\n",
       "      <td>1</td>\n",
       "      <td>0.0001</td>\n",
       "      <td>0.402634</td>\n",
       "    </tr>\n",
       "    <tr>\n",
       "      <th>1</th>\n",
       "      <td>4</td>\n",
       "      <td>scale</td>\n",
       "      <td>0.578252</td>\n",
       "    </tr>\n",
       "    <tr>\n",
       "      <th>2</th>\n",
       "      <td>4</td>\n",
       "      <td>0.0001</td>\n",
       "      <td>0.403486</td>\n",
       "    </tr>\n",
       "    <tr>\n",
       "      <th>3</th>\n",
       "      <td>3</td>\n",
       "      <td>0.0001</td>\n",
       "      <td>0.403486</td>\n",
       "    </tr>\n",
       "    <tr>\n",
       "      <th>4</th>\n",
       "      <td>1</td>\n",
       "      <td>scale</td>\n",
       "      <td>0.532596</td>\n",
       "    </tr>\n",
       "  </tbody>\n",
       "</table>\n",
       "</div>"
      ],
      "text/plain": [
       "  param_C param_gamma  mean_test_score\n",
       "0       1      0.0001         0.402634\n",
       "1       4       scale         0.578252\n",
       "2       4      0.0001         0.403486\n",
       "3       3      0.0001         0.403486\n",
       "4       1       scale         0.532596"
      ]
     },
     "execution_count": 2,
     "metadata": {},
     "output_type": "execute_result"
    }
   ],
   "source": [
    "classifier = SVC(kernel='rbf', max_iter=-1 ,decision_function_shape='ovr', tol=1e-3)\n",
    "#classifier = SVC(C=4, kernel='rbf', gamma='scale', tol=1e-3, max_iter=-1, decision_function_shape='ovr')\n",
    "\n",
    "params = {'C': [0.1, 1, 2, 3, 4],\n",
    "          'gamma': [0.0001, 'scale']}\n",
    "\n",
    "rs = RandomizedSearchCV(classifier, params, cv=8, scoring='accuracy', n_iter=5)\n",
    "\n",
    "rs.fit(X_train, y_train)\n",
    "\n",
    "pd.DataFrame(rs.cv_results_)[['param_C','param_gamma','mean_test_score']]"
   ]
  },
  {
   "cell_type": "code",
   "execution_count": 3,
   "id": "b43e7ab5",
   "metadata": {},
   "outputs": [
    {
     "name": "stdout",
     "output_type": "stream",
     "text": [
      "Wall time: 1h 17min 47s\n"
     ]
    }
   ],
   "source": [
    "%%time\n",
    "classifier = SVC(kernel='rbf', max_iter=-1 ,decision_function_shape='ovr', tol=1e-3)\n",
    "#classifier = SVC(C=4, kernel='rbf', gamma='scale', tol=1e-3, max_iter=-1, decision_function_shape='ovr')\n",
    "\n",
    "params = {'C': [1, 4, 100, 10000],\n",
    "          'gamma': ['scale', 1, 1000, 10000]}\n",
    "\n",
    "rs = RandomizedSearchCV(classifier, params, cv=8, scoring='accuracy', n_iter=5)\n",
    "\n",
    "rs.fit(X_train, y_train)\n",
    "\n",
    "pd.DataFrame(rs.cv_results_)[['param_C','param_gamma','mean_test_score']]"
   ]
  },
  {
   "cell_type": "code",
   "execution_count": 4,
   "id": "3d1499ff",
   "metadata": {},
   "outputs": [
    {
     "data": {
      "text/html": [
       "<div>\n",
       "<style scoped>\n",
       "    .dataframe tbody tr th:only-of-type {\n",
       "        vertical-align: middle;\n",
       "    }\n",
       "\n",
       "    .dataframe tbody tr th {\n",
       "        vertical-align: top;\n",
       "    }\n",
       "\n",
       "    .dataframe thead th {\n",
       "        text-align: right;\n",
       "    }\n",
       "</style>\n",
       "<table border=\"1\" class=\"dataframe\">\n",
       "  <thead>\n",
       "    <tr style=\"text-align: right;\">\n",
       "      <th></th>\n",
       "      <th>param_C</th>\n",
       "      <th>param_gamma</th>\n",
       "      <th>mean_test_score</th>\n",
       "    </tr>\n",
       "  </thead>\n",
       "  <tbody>\n",
       "    <tr>\n",
       "      <th>0</th>\n",
       "      <td>100</td>\n",
       "      <td>scale</td>\n",
       "      <td>0.582711</td>\n",
       "    </tr>\n",
       "    <tr>\n",
       "      <th>1</th>\n",
       "      <td>1</td>\n",
       "      <td>1</td>\n",
       "      <td>0.365470</td>\n",
       "    </tr>\n",
       "    <tr>\n",
       "      <th>2</th>\n",
       "      <td>10000</td>\n",
       "      <td>10000</td>\n",
       "      <td>0.365470</td>\n",
       "    </tr>\n",
       "    <tr>\n",
       "      <th>3</th>\n",
       "      <td>4</td>\n",
       "      <td>1</td>\n",
       "      <td>0.365470</td>\n",
       "    </tr>\n",
       "    <tr>\n",
       "      <th>4</th>\n",
       "      <td>100</td>\n",
       "      <td>1</td>\n",
       "      <td>0.365470</td>\n",
       "    </tr>\n",
       "  </tbody>\n",
       "</table>\n",
       "</div>"
      ],
      "text/plain": [
       "  param_C param_gamma  mean_test_score\n",
       "0     100       scale         0.582711\n",
       "1       1           1         0.365470\n",
       "2   10000       10000         0.365470\n",
       "3       4           1         0.365470\n",
       "4     100           1         0.365470"
      ]
     },
     "execution_count": 4,
     "metadata": {},
     "output_type": "execute_result"
    }
   ],
   "source": [
    "pd.DataFrame(rs.cv_results_)[['param_C','param_gamma','mean_test_score']]"
   ]
  },
  {
   "cell_type": "code",
   "execution_count": 5,
   "id": "991c88df",
   "metadata": {},
   "outputs": [
    {
     "name": "stdout",
     "output_type": "stream",
     "text": [
      "  param_C param_gamma  mean_test_score\n",
      "0     100       scale         0.582711\n",
      "1   10000       scale         0.582711\n",
      "2   1e+06       scale         0.582711\n",
      "3   1e+08       scale         0.582711\n",
      "4   1e+10       scale         0.582711\n",
      "Wall time: 1h 8min 21s\n"
     ]
    }
   ],
   "source": [
    "%%time\n",
    "classifier = SVC(kernel='rbf', max_iter=-1 ,decision_function_shape='ovr', tol=1e-3)\n",
    "#classifier = SVC(C=4, kernel='rbf', gamma='scale', tol=1e-3, max_iter=-1, decision_function_shape='ovr')\n",
    "\n",
    "params = {'C': [1e2, 1e4, 1e6, 1e8, 1e10],\n",
    "          'gamma': ['scale']}\n",
    "\n",
    "rs = RandomizedSearchCV(classifier, params, cv=8, scoring='accuracy', n_iter=5)\n",
    "\n",
    "rs.fit(X_train, y_train)\n",
    "\n",
    "print(pd.DataFrame(rs.cv_results_)[['param_C','param_gamma','mean_test_score']])"
   ]
  },
  {
   "cell_type": "code",
   "execution_count": 6,
   "id": "07afbe3c",
   "metadata": {},
   "outputs": [
    {
     "name": "stderr",
     "output_type": "stream",
     "text": [
      "D:\\Programas\\anaconda3\\envs\\BCIMusical\\lib\\site-packages\\sklearn\\model_selection\\_validation.py:536: FitFailedWarning: Estimator fit failed. The score on this train-test partition for these parameters will be set to nan. Details: \n",
      "ValueError: eps <= 0\n",
      "\n",
      "  FitFailedWarning)\n",
      "D:\\Programas\\anaconda3\\envs\\BCIMusical\\lib\\site-packages\\sklearn\\model_selection\\_validation.py:536: FitFailedWarning: Estimator fit failed. The score on this train-test partition for these parameters will be set to nan. Details: \n",
      "ValueError: eps <= 0\n",
      "\n",
      "  FitFailedWarning)\n",
      "D:\\Programas\\anaconda3\\envs\\BCIMusical\\lib\\site-packages\\sklearn\\model_selection\\_validation.py:536: FitFailedWarning: Estimator fit failed. The score on this train-test partition for these parameters will be set to nan. Details: \n",
      "ValueError: eps <= 0\n",
      "\n",
      "  FitFailedWarning)\n",
      "D:\\Programas\\anaconda3\\envs\\BCIMusical\\lib\\site-packages\\sklearn\\model_selection\\_validation.py:536: FitFailedWarning: Estimator fit failed. The score on this train-test partition for these parameters will be set to nan. Details: \n",
      "ValueError: eps <= 0\n",
      "\n",
      "  FitFailedWarning)\n",
      "D:\\Programas\\anaconda3\\envs\\BCIMusical\\lib\\site-packages\\sklearn\\model_selection\\_validation.py:536: FitFailedWarning: Estimator fit failed. The score on this train-test partition for these parameters will be set to nan. Details: \n",
      "ValueError: eps <= 0\n",
      "\n",
      "  FitFailedWarning)\n",
      "D:\\Programas\\anaconda3\\envs\\BCIMusical\\lib\\site-packages\\sklearn\\model_selection\\_validation.py:536: FitFailedWarning: Estimator fit failed. The score on this train-test partition for these parameters will be set to nan. Details: \n",
      "ValueError: eps <= 0\n",
      "\n",
      "  FitFailedWarning)\n",
      "D:\\Programas\\anaconda3\\envs\\BCIMusical\\lib\\site-packages\\sklearn\\model_selection\\_validation.py:536: FitFailedWarning: Estimator fit failed. The score on this train-test partition for these parameters will be set to nan. Details: \n",
      "ValueError: eps <= 0\n",
      "\n",
      "  FitFailedWarning)\n",
      "D:\\Programas\\anaconda3\\envs\\BCIMusical\\lib\\site-packages\\sklearn\\model_selection\\_validation.py:536: FitFailedWarning: Estimator fit failed. The score on this train-test partition for these parameters will be set to nan. Details: \n",
      "ValueError: eps <= 0\n",
      "\n",
      "  FitFailedWarning)\n",
      "D:\\Programas\\anaconda3\\envs\\BCIMusical\\lib\\site-packages\\sklearn\\model_selection\\_validation.py:536: FitFailedWarning: Estimator fit failed. The score on this train-test partition for these parameters will be set to nan. Details: \n",
      "ValueError: eps <= 0\n",
      "\n",
      "  FitFailedWarning)\n",
      "D:\\Programas\\anaconda3\\envs\\BCIMusical\\lib\\site-packages\\sklearn\\model_selection\\_validation.py:536: FitFailedWarning: Estimator fit failed. The score on this train-test partition for these parameters will be set to nan. Details: \n",
      "ValueError: eps <= 0\n",
      "\n",
      "  FitFailedWarning)\n",
      "D:\\Programas\\anaconda3\\envs\\BCIMusical\\lib\\site-packages\\sklearn\\model_selection\\_validation.py:536: FitFailedWarning: Estimator fit failed. The score on this train-test partition for these parameters will be set to nan. Details: \n",
      "ValueError: eps <= 0\n",
      "\n",
      "  FitFailedWarning)\n",
      "D:\\Programas\\anaconda3\\envs\\BCIMusical\\lib\\site-packages\\sklearn\\model_selection\\_validation.py:536: FitFailedWarning: Estimator fit failed. The score on this train-test partition for these parameters will be set to nan. Details: \n",
      "ValueError: eps <= 0\n",
      "\n",
      "  FitFailedWarning)\n",
      "D:\\Programas\\anaconda3\\envs\\BCIMusical\\lib\\site-packages\\sklearn\\model_selection\\_validation.py:536: FitFailedWarning: Estimator fit failed. The score on this train-test partition for these parameters will be set to nan. Details: \n",
      "ValueError: eps <= 0\n",
      "\n",
      "  FitFailedWarning)\n",
      "D:\\Programas\\anaconda3\\envs\\BCIMusical\\lib\\site-packages\\sklearn\\model_selection\\_validation.py:536: FitFailedWarning: Estimator fit failed. The score on this train-test partition for these parameters will be set to nan. Details: \n",
      "ValueError: eps <= 0\n",
      "\n",
      "  FitFailedWarning)\n",
      "D:\\Programas\\anaconda3\\envs\\BCIMusical\\lib\\site-packages\\sklearn\\model_selection\\_validation.py:536: FitFailedWarning: Estimator fit failed. The score on this train-test partition for these parameters will be set to nan. Details: \n",
      "ValueError: eps <= 0\n",
      "\n",
      "  FitFailedWarning)\n",
      "D:\\Programas\\anaconda3\\envs\\BCIMusical\\lib\\site-packages\\sklearn\\model_selection\\_validation.py:536: FitFailedWarning: Estimator fit failed. The score on this train-test partition for these parameters will be set to nan. Details: \n",
      "ValueError: eps <= 0\n",
      "\n",
      "  FitFailedWarning)\n"
     ]
    },
    {
     "name": "stdout",
     "output_type": "stream",
     "text": [
      "  param_C param_gamma param_tol  mean_test_score\n",
      "0     100       scale         0              NaN\n",
      "1      10       scale      0.01         0.582711\n",
      "2      10       scale       100         0.270121\n",
      "3     100       scale      0.01         0.582923\n",
      "4       1       scale         0              NaN\n",
      "Wall time: 28min 2s\n"
     ]
    }
   ],
   "source": [
    "%%time\n",
    "classifier = SVC(kernel='rbf', max_iter=-1 ,decision_function_shape='ovr')\n",
    "#classifier = SVC(C=4, kernel='rbf', gamma='scale', tol=1e-3, max_iter=-1, decision_function_shape='ovr')\n",
    "\n",
    "params = {'C': [1, 10, 1e2],\n",
    "          'gamma': ['scale'],\n",
    "          'tol': [1e-2, 0, 1e2]}\n",
    "\n",
    "rs = RandomizedSearchCV(classifier, params, cv=8, scoring='accuracy', n_iter=5)\n",
    "\n",
    "rs.fit(X_train, y_train)\n",
    "\n",
    "print(pd.DataFrame(rs.cv_results_)[['param_C','param_gamma','param_tol','mean_test_score']])"
   ]
  },
  {
   "cell_type": "code",
   "execution_count": 7,
   "id": "2635a73e",
   "metadata": {},
   "outputs": [
    {
     "name": "stdout",
     "output_type": "stream",
     "text": [
      "  param_C param_gamma param_tol  mean_test_score\n",
      "0       1       scale     1e-06         0.532596\n",
      "1       1       scale    0.0001         0.532596\n",
      "2      10       scale      0.01         0.582711\n",
      "3     100       scale      0.01         0.582923\n",
      "4       1       scale      0.01         0.533234\n",
      "Wall time: 1h 5min 30s\n"
     ]
    }
   ],
   "source": [
    "%%time\n",
    "classifier = SVC(kernel='rbf', max_iter=-1 ,decision_function_shape='ovr')\n",
    "#classifier = SVC(C=4, kernel='rbf', gamma='scale', tol=1e-3, max_iter=-1, decision_function_shape='ovr')\n",
    "\n",
    "params = {'C': [1, 10, 1e2],\n",
    "          'gamma': ['scale'],\n",
    "          'tol': [1e-2, 1e-4, 1e-6, 1e-8]}\n",
    "\n",
    "rs = RandomizedSearchCV(classifier, params, cv=8, scoring='accuracy', n_iter=5)\n",
    "\n",
    "rs.fit(X_train, y_train)\n",
    "\n",
    "print(pd.DataFrame(rs.cv_results_)[['param_C','param_gamma','param_tol','mean_test_score']])"
   ]
  },
  {
   "cell_type": "code",
   "execution_count": 8,
   "id": "05f9944f",
   "metadata": {},
   "outputs": [
    {
     "name": "stdout",
     "output_type": "stream",
     "text": [
      "  param_C param_gamma param_tol  mean_test_score\n",
      "0     100       scale      0.01         0.582923\n",
      "1    1000       scale      0.01         0.582923\n",
      "2    1000       scale        10         0.270121\n",
      "3     100       scale        10         0.270121\n",
      "4   10000       scale      0.01         0.582923\n",
      "Wall time: 42min 10s\n"
     ]
    }
   ],
   "source": [
    "%%time\n",
    "classifier = SVC(kernel='rbf', max_iter=-1 ,decision_function_shape='ovr')\n",
    "#classifier = SVC(C=4, kernel='rbf', gamma='scale', tol=1e-3, max_iter=-1, decision_function_shape='ovr')\n",
    "\n",
    "params = {'C': [1e2, 1e3, 1e4],\n",
    "          'gamma': ['scale'],\n",
    "          'tol': [10, 1e-2]}\n",
    "\n",
    "rs = RandomizedSearchCV(classifier, params, cv=8, scoring='accuracy', n_iter=5)\n",
    "\n",
    "rs.fit(X_train, y_train)\n",
    "\n",
    "print(pd.DataFrame(rs.cv_results_)[['param_C','param_gamma','param_tol','mean_test_score']])"
   ]
  },
  {
   "cell_type": "code",
   "execution_count": 9,
   "id": "beb03950",
   "metadata": {},
   "outputs": [
    {
     "name": "stderr",
     "output_type": "stream",
     "text": [
      "D:\\Programas\\anaconda3\\envs\\BCIMusical\\lib\\site-packages\\sklearn\\model_selection\\_search.py:281: UserWarning: The total space of parameters 4 is smaller than n_iter=5. Running 4 iterations. For exhaustive searches, use GridSearchCV.\n",
      "  % (grid_size, self.n_iter, grid_size), UserWarning)\n"
     ]
    },
    {
     "name": "stdout",
     "output_type": "stream",
     "text": [
      "  param_C param_gamma param_tol  mean_test_score\n",
      "0     100       scale         1         0.576339\n",
      "1     100       scale      0.01         0.582923\n",
      "2      50       scale         1         0.576339\n",
      "3      50       scale      0.01         0.582923\n",
      "Wall time: 55min 53s\n"
     ]
    }
   ],
   "source": [
    "%%time\n",
    "classifier = SVC(kernel='rbf', max_iter=-1 ,decision_function_shape='ovr')\n",
    "#classifier = SVC(C=4, kernel='rbf', gamma='scale', tol=1e-3, max_iter=-1, decision_function_shape='ovr')\n",
    "\n",
    "params = {'C': [1e2, 50],\n",
    "          'gamma': ['scale'],\n",
    "          'tol': [1, 1e-2]}\n",
    "\n",
    "rs = RandomizedSearchCV(classifier, params, cv=8, scoring='accuracy', n_iter=5)\n",
    "\n",
    "rs.fit(X_train, y_train)\n",
    "\n",
    "print(pd.DataFrame(rs.cv_results_)[['param_C','param_gamma','param_tol','mean_test_score']])"
   ]
  },
  {
   "cell_type": "code",
   "execution_count": 10,
   "id": "6971f35e",
   "metadata": {},
   "outputs": [
    {
     "name": "stdout",
     "output_type": "stream",
     "text": [
      "  param_C param_gamma param_tol param_decision_function_shape  mean_test_score\n",
      "0      50       scale         1                           ovr         0.576339\n",
      "1      25       scale         1                           ovo         0.576339\n",
      "2      50       scale      0.01                           ovo         0.582923\n",
      "3      25       scale      0.01                           ovo         0.582923\n",
      "4      25       scale      0.01                           ovr         0.582923\n",
      "Wall time: 1h 6min 20s\n"
     ]
    }
   ],
   "source": [
    "%%time\n",
    "classifier = SVC(kernel='rbf', max_iter=-1)\n",
    "#classifier = SVC(C=4, kernel='rbf', gamma='scale', tol=1e-3, max_iter=-1, decision_function_shape='ovr')\n",
    "\n",
    "params = {'C': [50, 25],\n",
    "          'gamma': ['scale'],\n",
    "          'tol': [1, 1e-2],\n",
    "          'decision_function_shape': ['ovr', 'ovo']}\n",
    "\n",
    "rs = RandomizedSearchCV(classifier, params, cv=8, scoring='accuracy', n_iter=5)\n",
    "\n",
    "rs.fit(X_train, y_train)\n",
    "\n",
    "print(pd.DataFrame(rs.cv_results_)[['param_C','param_gamma','param_tol', 'param_decision_function_shape','mean_test_score']])"
   ]
  },
  {
   "cell_type": "code",
   "execution_count": 11,
   "id": "2d0d87a9",
   "metadata": {},
   "outputs": [
    {
     "name": "stdout",
     "output_type": "stream",
     "text": [
      "  param_C param_gamma param_tol param_decision_function_shape  mean_test_score\n",
      "0      25       scale       0.1                           ovr         0.583136\n",
      "1      10       scale         1                           ovo         0.577190\n",
      "2      10       scale       0.1                           ovo         0.582498\n",
      "3      25       scale         1                           ovo         0.576339\n",
      "4      25       scale         1                           ovr         0.576339\n",
      "Wall time: 1h 1min 32s\n"
     ]
    }
   ],
   "source": [
    "%%time\n",
    "classifier = SVC(kernel='rbf', max_iter=-1)\n",
    "#classifier = SVC(C=4, kernel='rbf', gamma='scale', tol=1e-3, max_iter=-1, decision_function_shape='ovr')\n",
    "\n",
    "params = {'C': [10, 25],\n",
    "          'gamma': ['scale'],\n",
    "          'tol': [1, 1e-2, 1e-1],\n",
    "          'decision_function_shape': ['ovr', 'ovo']}\n",
    "\n",
    "rs = RandomizedSearchCV(classifier, params, cv=8, scoring='accuracy', n_iter=5)\n",
    "\n",
    "rs.fit(X_train, y_train)\n",
    "\n",
    "print(pd.DataFrame(rs.cv_results_)[['param_C','param_gamma','param_tol', 'param_decision_function_shape','mean_test_score']])"
   ]
  },
  {
   "cell_type": "code",
   "execution_count": 12,
   "id": "fc453bc3",
   "metadata": {},
   "outputs": [
    {
     "name": "stdout",
     "output_type": "stream",
     "text": [
      "  param_C param_gamma param_tol param_decision_function_shape  mean_test_score\n",
      "0      25       scale      0.01                           ovo         0.582923\n",
      "1      10       scale         1                           ovo         0.577190\n",
      "2      25       scale         1                           ovo         0.576339\n",
      "3      10       scale         1                           ovr         0.577190\n",
      "4      25       scale      0.01                           ovr         0.582923\n",
      "Wall time: 1h 3min 35s\n"
     ]
    }
   ],
   "source": [
    "%%time\n",
    "classifier = SVC(kernel='rbf', max_iter=-1)\n",
    "#classifier = SVC(C=4, kernel='rbf', gamma='scale', tol=1e-3, max_iter=-1, decision_function_shape='ovr')\n",
    "\n",
    "params = {'C': [10, 25],\n",
    "          'gamma': ['scale'],\n",
    "          'tol': [1, 1e-2],\n",
    "          'decision_function_shape': ['ovr', 'ovo']}\n",
    "\n",
    "rs = RandomizedSearchCV(classifier, params, cv=8, scoring='accuracy', n_iter=5)\n",
    "\n",
    "rs.fit(X_train, y_train)\n",
    "\n",
    "print(pd.DataFrame(rs.cv_results_)[['param_C','param_gamma','param_tol', 'param_decision_function_shape','mean_test_score']])"
   ]
  },
  {
   "cell_type": "code",
   "execution_count": 13,
   "id": "102177e4",
   "metadata": {},
   "outputs": [
    {
     "name": "stdout",
     "output_type": "stream",
     "text": [
      "  param_C param_gamma param_tol param_decision_function_shape  mean_test_score\n",
      "0      25       scale      0.01                           ovr         0.582923\n",
      "1      25        auto      0.01                           ovr         0.365470\n",
      "Wall time: 33min 35s\n"
     ]
    }
   ],
   "source": [
    "%%time\n",
    "classifier = SVC(kernel='rbf', max_iter=-1)\n",
    "#classifier = SVC(C=4, kernel='rbf', gamma='scale', tol=1e-3, max_iter=-1, decision_function_shape='ovr')\n",
    "\n",
    "params = {'C': [25],\n",
    "          'gamma': ['scale','auto'],\n",
    "          'tol': [1e-2],\n",
    "          'decision_function_shape': ['ovr']}\n",
    "\n",
    "rs = RandomizedSearchCV(classifier, params, cv=8, scoring='accuracy', n_iter=2)\n",
    "\n",
    "rs.fit(X_train, y_train)\n",
    "\n",
    "print(pd.DataFrame(rs.cv_results_)[['param_C','param_gamma','param_tol', 'param_decision_function_shape','mean_test_score']])"
   ]
  },
  {
   "cell_type": "code",
   "execution_count": 14,
   "id": "0a6207da",
   "metadata": {},
   "outputs": [
    {
     "name": "stderr",
     "output_type": "stream",
     "text": [
      "D:\\Programas\\anaconda3\\envs\\BCIMusical\\lib\\site-packages\\sklearn\\model_selection\\_validation.py:536: FitFailedWarning: Estimator fit failed. The score on this train-test partition for these parameters will be set to nan. Details: \n",
      "ValueError: class_weight must be dict, 'balanced', or None, got: 'None'\n",
      "\n",
      "  FitFailedWarning)\n",
      "D:\\Programas\\anaconda3\\envs\\BCIMusical\\lib\\site-packages\\sklearn\\model_selection\\_validation.py:536: FitFailedWarning: Estimator fit failed. The score on this train-test partition for these parameters will be set to nan. Details: \n",
      "ValueError: class_weight must be dict, 'balanced', or None, got: 'None'\n",
      "\n",
      "  FitFailedWarning)\n",
      "D:\\Programas\\anaconda3\\envs\\BCIMusical\\lib\\site-packages\\sklearn\\model_selection\\_validation.py:536: FitFailedWarning: Estimator fit failed. The score on this train-test partition for these parameters will be set to nan. Details: \n",
      "ValueError: class_weight must be dict, 'balanced', or None, got: 'None'\n",
      "\n",
      "  FitFailedWarning)\n",
      "D:\\Programas\\anaconda3\\envs\\BCIMusical\\lib\\site-packages\\sklearn\\model_selection\\_validation.py:536: FitFailedWarning: Estimator fit failed. The score on this train-test partition for these parameters will be set to nan. Details: \n",
      "ValueError: class_weight must be dict, 'balanced', or None, got: 'None'\n",
      "\n",
      "  FitFailedWarning)\n",
      "D:\\Programas\\anaconda3\\envs\\BCIMusical\\lib\\site-packages\\sklearn\\model_selection\\_validation.py:536: FitFailedWarning: Estimator fit failed. The score on this train-test partition for these parameters will be set to nan. Details: \n",
      "ValueError: class_weight must be dict, 'balanced', or None, got: 'None'\n",
      "\n",
      "  FitFailedWarning)\n",
      "D:\\Programas\\anaconda3\\envs\\BCIMusical\\lib\\site-packages\\sklearn\\model_selection\\_validation.py:536: FitFailedWarning: Estimator fit failed. The score on this train-test partition for these parameters will be set to nan. Details: \n",
      "ValueError: class_weight must be dict, 'balanced', or None, got: 'None'\n",
      "\n",
      "  FitFailedWarning)\n",
      "D:\\Programas\\anaconda3\\envs\\BCIMusical\\lib\\site-packages\\sklearn\\model_selection\\_validation.py:536: FitFailedWarning: Estimator fit failed. The score on this train-test partition for these parameters will be set to nan. Details: \n",
      "ValueError: class_weight must be dict, 'balanced', or None, got: 'None'\n",
      "\n",
      "  FitFailedWarning)\n",
      "D:\\Programas\\anaconda3\\envs\\BCIMusical\\lib\\site-packages\\sklearn\\model_selection\\_validation.py:536: FitFailedWarning: Estimator fit failed. The score on this train-test partition for these parameters will be set to nan. Details: \n",
      "ValueError: class_weight must be dict, 'balanced', or None, got: 'None'\n",
      "\n",
      "  FitFailedWarning)\n"
     ]
    },
    {
     "name": "stdout",
     "output_type": "stream",
     "text": [
      "  param_C param_gamma param_tol param_decision_function_shape  mean_test_score\n",
      "0      25       scale      0.01                           ovr              NaN\n",
      "1      25       scale      0.01                           ovr         0.582923\n",
      "Wall time: 16min 19s\n"
     ]
    }
   ],
   "source": [
    "%%time\n",
    "classifier = SVC(kernel='rbf', max_iter=-1)\n",
    "#classifier = SVC(C=25, kernel='rbf', gamma='scale', tol=1e-2, max_iter=-1, decision_function_shape='ovr')\n",
    "# C=25, kernel='rbf', gamma='scale', coef0=*, shrinking=*, probability=*, \n",
    "#tol=0.01, cache_size=*, class_weight=*, verbose=*, max_iter=- 1, decision_function_shape='ovr', \n",
    "#break_ties=*, random_state=*\n",
    "\n",
    "params = {'C': [25],\n",
    "          'gamma': ['scale'],\n",
    "          'tol': [1e-2],\n",
    "          'decision_function_shape': ['ovr'],\n",
    "          'class_weight': ['none', 'balanced']}\n",
    "\n",
    "rs = RandomizedSearchCV(classifier, params, cv=8, scoring='accuracy', n_iter=2)\n",
    "\n",
    "rs.fit(X_train, y_train)\n",
    "\n",
    "print(pd.DataFrame(rs.cv_results_)[['param_C','param_gamma','param_tol', 'param_decision_function_shape','mean_test_score']])"
   ]
  },
  {
   "cell_type": "code",
   "execution_count": 3,
   "id": "bd82f5e2",
   "metadata": {},
   "outputs": [
    {
     "name": "stdout",
     "output_type": "stream",
     "text": [
      "  param_C param_gamma  mean_test_score\n",
      "0   1e-05       1e-05         0.365470\n",
      "1     100        0.01         0.365470\n",
      "2  100000         100         0.365470\n",
      "3    0.01      100000         0.365470\n",
      "4   1e+10       1e+10         0.365470\n",
      "5   1e+10      100000         0.365470\n",
      "6   1e-10      100000         0.365470\n",
      "7     100       1e-05         0.588234\n",
      "8   1e+10         100         0.365470\n",
      "9   1e-05      100000         0.365470\n",
      "Wall time: 2h 46min 54s\n"
     ]
    }
   ],
   "source": [
    "%%time\n",
    "classifier = SVC(kernel='rbf', max_iter=-1)\n",
    "#classifier = SVC(C=25, kernel='rbf', gamma='scale', tol=1e-2, max_iter=-1, decision_function_shape='ovr')\n",
    "# C=25, kernel='rbf', gamma='scale', coef0=*, shrinking=*, probability=*, \n",
    "#tol=0.01, cache_size=*, class_weight=*, verbose=*, max_iter=- 1, decision_function_shape='ovr', \n",
    "#break_ties=*, random_state=*\n",
    "\n",
    "params = {'C': [1e-10, 1e-5, 1e-2, 25, 1e2, 1e5, 1e10],\n",
    "          'gamma': [1e-10, 1e-5, 1e-2,'scale', 1e2, 1e5, 1e10],\n",
    "          'tol': [1e-2],\n",
    "          'decision_function_shape': ['ovr']}\n",
    "\n",
    "rs = RandomizedSearchCV(classifier, params, cv=8, scoring='accuracy', n_iter=10)\n",
    "\n",
    "rs.fit(X_train, y_train)\n",
    "\n",
    "print(pd.DataFrame(rs.cv_results_)[['param_C','param_gamma','mean_test_score']])"
   ]
  },
  {
   "cell_type": "code",
   "execution_count": 2,
   "id": "d311c83b",
   "metadata": {},
   "outputs": [
    {
     "name": "stdout",
     "output_type": "stream",
     "text": [
      "   param_C param_gamma  mean_test_score\n",
      "0     0.01       1e-10         0.365470\n",
      "1    1e-05       1e-10         0.365470\n",
      "2   100000      100000         0.365470\n",
      "3    1e+10       1e+10         0.365470\n",
      "4       25      100000         0.365470\n",
      "5       25         100         0.365470\n",
      "6    1e-05       scale         0.365470\n",
      "7   100000        0.01         0.365470\n",
      "8      100        0.01         0.365470\n",
      "9   100000       1e-05         0.588234\n",
      "10   1e-05       1e-05         0.365470\n",
      "11      25        0.01         0.365470\n",
      "12   1e-10       1e-10         0.365470\n",
      "13     100       scale         0.582923\n",
      "14   1e-05      100000         0.365470\n",
      "15   1e-10       1e+10         0.365470\n",
      "16   1e+10        0.01         0.365470\n",
      "17    0.01       1e-05         0.365470\n",
      "18     100       1e+10         0.365470\n",
      "19  100000       scale         0.582923\n",
      "Wall time: 4h 34min 1s\n"
     ]
    }
   ],
   "source": [
    "%%time\n",
    "classifier = SVC(kernel='rbf', max_iter=-1)\n",
    "#classifier = SVC(C=25, kernel='rbf', gamma='scale', tol=1e-2, max_iter=-1, decision_function_shape='ovr')\n",
    "# C=25, kernel='rbf', gamma='scale', coef0=*, shrinking=*, probability=*, \n",
    "#tol=0.01, cache_size=*, class_weight=*, verbose=*, max_iter=- 1, decision_function_shape='ovr', \n",
    "#break_ties=*, random_state=*\n",
    "\n",
    "params = {'C': [1e-10, 1e-5, 1e-2, 25, 1e2, 1e5, 1e10],\n",
    "          'gamma': [1e-10, 1e-5, 1e-2,'scale', 1e2, 1e5, 1e10],\n",
    "          'tol': [1e-2],\n",
    "          'decision_function_shape': ['ovr']}\n",
    "\n",
    "rs = RandomizedSearchCV(classifier, params, cv=8, scoring='accuracy', n_iter=20)\n",
    "\n",
    "rs.fit(X_train, y_train)\n",
    "\n",
    "print(pd.DataFrame(rs.cv_results_)[['param_C','param_gamma','mean_test_score']])"
   ]
  },
  {
   "cell_type": "code",
   "execution_count": 2,
   "id": "f6010d2a",
   "metadata": {},
   "outputs": [
    {
     "name": "stdout",
     "output_type": "stream",
     "text": [
      "   param_C param_gamma  mean_test_score\n",
      "0      100       scale         0.582923\n",
      "1      100       1e-10         0.365470\n",
      "2      100       1e-05         0.588234\n",
      "3      100        0.01         0.365470\n",
      "4     1000       scale         0.582923\n",
      "5     1000       1e-10         0.365470\n",
      "6     1000       1e-05         0.588234\n",
      "7     1000        0.01         0.365470\n",
      "8   100000       scale         0.582923\n",
      "9   100000       1e-10         0.336803\n",
      "10  100000       1e-05         0.588234\n",
      "11  100000        0.01         0.365470\n",
      "12      10       scale         0.582711\n",
      "13      10       1e-10         0.365470\n",
      "14      10       1e-05         0.589294\n",
      "15      10        0.01         0.365470\n",
      "16   1e+10       scale         0.582923\n",
      "17   1e+10       1e-10         0.438523\n",
      "18   1e+10       1e-05         0.588234\n",
      "19   1e+10        0.01         0.365470\n",
      "Wall time: 4h 17min 5s\n"
     ]
    }
   ],
   "source": [
    "%%time\n",
    "classifier = SVC(kernel='rbf', max_iter=-1)\n",
    "#classifier = SVC(C=25, kernel='rbf', gamma='scale', tol=1e-2, max_iter=-1, decision_function_shape='ovr')\n",
    "# C=25, kernel='rbf', gamma='scale', coef0=*, shrinking=*, probability=*, \n",
    "#tol=0.01, cache_size=*, class_weight=*, verbose=*, max_iter=- 1, decision_function_shape='ovr', \n",
    "#break_ties=*, random_state=*\n",
    "\n",
    "params = {'C': [1e2, 1e3, 1e5, 1e1, 1e10],\n",
    "          'gamma': ['scale', 1e-10, 1e-5, 1e-2],\n",
    "          'tol': [1e-2],\n",
    "          'decision_function_shape': ['ovr']}\n",
    "\n",
    "rs = RandomizedSearchCV(classifier, params, cv=8, scoring='accuracy', n_iter=20)\n",
    "\n",
    "rs.fit(X_train, y_train)\n",
    "\n",
    "print(pd.DataFrame(rs.cv_results_)[['param_C','param_gamma','mean_test_score']])"
   ]
  },
  {
   "cell_type": "markdown",
   "id": "f760283a",
   "metadata": {},
   "source": [
    "## Model 4.2"
   ]
  },
  {
   "cell_type": "code",
   "execution_count": null,
   "id": "63ec0a45",
   "metadata": {},
   "outputs": [],
   "source": [
    "%%time\n",
    "classifier = SVC(kernel='linear', max_iter=-1)\n",
    "#classifier = SVC(kernel='linear', C=1, decision_function_shape='ovr', max_iter=-1)\n",
    "# C=25, kernel='rbf', gamma='scale', coef0=*, shrinking=*, probability=*, \n",
    "#tol=0.01, cache_size=*, class_weight=*, verbose=*, max_iter=- 1, decision_function_shape='ovr', \n",
    "#break_ties=*, random_state=*\n",
    "\n",
    "params = {'C': [1e-10, 1e-5, 1e-2, 1, 1e2, 1e5, 1e10],\n",
    "          'tol': [1e-2, 1e-5, 1e-10, 1e2, 1e5, 1e10],\n",
    "          'decision_function_shape': ['ovr', 'ovo']}\n",
    "\n",
    "rs = RandomizedSearchCV(classifier, params, cv=8, scoring='accuracy', n_iter=20)\n",
    "\n",
    "rs.fit(X_train, y_train)\n",
    "\n",
    "print(pd.DataFrame(rs.cv_results_)[['param_C','param_tol','param_decision_function_shape','mean_test_score']])"
   ]
  },
  {
   "cell_type": "markdown",
   "id": "cabf9650",
   "metadata": {},
   "source": [
    "## Model 3"
   ]
  },
  {
   "cell_type": "code",
   "execution_count": 2,
   "id": "2befdfdb",
   "metadata": {},
   "outputs": [
    {
     "name": "stdout",
     "output_type": "stream",
     "text": [
      "  param_C param_gamma  mean_test_score\n",
      "0      25       1e-05         0.588022\n",
      "1      10       1e-05         0.589294\n",
      "2      50       scale         0.582923\n",
      "3      25      1e-100         0.365470\n",
      "4      10      1e-100         0.365470\n",
      "5      50       1e-10         0.365470\n",
      "6      25       1e-10         0.365470\n",
      "7      50      1e-100         0.365470\n",
      "8      25       scale         0.582923\n",
      "9      10       scale         0.582711\n",
      "Wall time: 2h 6min 5s\n"
     ]
    }
   ],
   "source": [
    "%%time\n",
    "classifier = SVC(kernel='rbf', max_iter=-1)\n",
    "#classifier = SVC(C=25, kernel='rbf', gamma='scale', tol=1e-2, max_iter=-1, decision_function_shape='ovr')\n",
    "# C=25, kernel='rbf', gamma='scale', coef0=*, shrinking=*, probability=*, \n",
    "#tol=0.01, cache_size=*, class_weight=*, verbose=*, max_iter=- 1, decision_function_shape='ovr', \n",
    "#break_ties=*, random_state=*\n",
    "\n",
    "params = {'C': [1e1, 25, 50],\n",
    "          'gamma': ['scale', 1e-5, 1e-10, 1e-100],\n",
    "          'tol': [1e-2],\n",
    "          'decision_function_shape': ['ovr']}\n",
    "\n",
    "rs = RandomizedSearchCV(classifier, params, cv=8, scoring='accuracy', n_iter=10)\n",
    "\n",
    "rs.fit(X_train, y_train)\n",
    "\n",
    "print(pd.DataFrame(rs.cv_results_)[['param_C','param_gamma','mean_test_score']])"
   ]
  },
  {
   "cell_type": "code",
   "execution_count": 3,
   "id": "02b90b0b",
   "metadata": {},
   "outputs": [
    {
     "name": "stdout",
     "output_type": "stream",
     "text": [
      "  param_C param_gamma  mean_test_score\n",
      "0      10       1e-07         0.341475\n",
      "1      10       scale         0.582711\n",
      "2      15       1e-05         0.587806\n",
      "3      15       1e-07         0.337656\n",
      "4      50       1e-07         0.344657\n",
      "5      25       1e-05         0.588022\n",
      "6      25       scale         0.582923\n",
      "7      25       1e-07         0.341900\n",
      "8      50       1e-05         0.588234\n",
      "9      15       scale         0.582499\n",
      "Wall time: 2h 41min 27s\n"
     ]
    }
   ],
   "source": [
    "%%time\n",
    "classifier = SVC(kernel='rbf', max_iter=-1)\n",
    "#classifier = SVC(C=25, kernel='rbf', gamma='scale', tol=1e-2, max_iter=-1, decision_function_shape='ovr')\n",
    "# C=25, kernel='rbf', gamma='scale', coef0=*, shrinking=*, probability=*, \n",
    "#tol=0.01, cache_size=*, class_weight=*, verbose=*, max_iter=- 1, decision_function_shape='ovr', \n",
    "#break_ties=*, random_state=*\n",
    "\n",
    "params = {'C': [1e1, 15, 25, 50],\n",
    "          'gamma': ['scale', 1e-5, 1e-7],\n",
    "          'tol': [1e-2],\n",
    "          'decision_function_shape': ['ovr']}\n",
    "\n",
    "rs = RandomizedSearchCV(classifier, params, cv=8, scoring='accuracy', n_iter=10)\n",
    "\n",
    "rs.fit(X_train, y_train)\n",
    "\n",
    "print(pd.DataFrame(rs.cv_results_)[['param_C','param_gamma','mean_test_score']])"
   ]
  },
  {
   "cell_type": "code",
   "execution_count": 4,
   "id": "04b750a1",
   "metadata": {},
   "outputs": [
    {
     "name": "stdout",
     "output_type": "stream",
     "text": [
      "  param_C param_gamma  mean_test_score\n",
      "0      15       1e-06         0.430454\n",
      "1      15       scale         0.582499\n",
      "2      10       1e-06         0.413676\n",
      "3      10      0.0001         0.403273\n",
      "4      50       1e-05         0.588234\n",
      "5      50       scale         0.582923\n",
      "6      10       scale         0.582711\n",
      "7      15       1e-05         0.587806\n",
      "8      15      0.0001         0.403273\n",
      "9      25       1e-06         0.469737\n",
      "Wall time: 2h 11min 44s\n"
     ]
    }
   ],
   "source": [
    "%%time\n",
    "classifier = SVC(kernel='rbf', max_iter=-1)\n",
    "#classifier = SVC(C=25, kernel='rbf', gamma='scale', tol=1e-2, max_iter=-1, decision_function_shape='ovr')\n",
    "# C=25, kernel='rbf', gamma='scale', coef0=*, shrinking=*, probability=*, \n",
    "#tol=0.01, cache_size=*, class_weight=*, verbose=*, max_iter=- 1, decision_function_shape='ovr', \n",
    "#break_ties=*, random_state=*\n",
    "\n",
    "params = {'C': [1e1, 15, 25, 50],\n",
    "          'gamma': ['scale', 1e-5, 1e-6, 1e-4],\n",
    "          'tol': [1e-2],\n",
    "          'decision_function_shape': ['ovr']}\n",
    "\n",
    "rs = RandomizedSearchCV(classifier, params, cv=8, scoring='accuracy', n_iter=10)\n",
    "\n",
    "rs.fit(X_train, y_train)\n",
    "\n",
    "print(pd.DataFrame(rs.cv_results_)[['param_C','param_gamma','mean_test_score']])"
   ]
  },
  {
   "cell_type": "code",
   "execution_count": 3,
   "id": "b7b59a77",
   "metadata": {},
   "outputs": [
    {
     "name": "stdout",
     "output_type": "stream",
     "text": [
      "   param_C param_gamma  mean_test_score\n",
      "0       15       7e-05         0.486516\n",
      "1       50       7e-05         0.486516\n",
      "2       15       9e-05         0.407518\n",
      "3       50       1e-05         0.588234\n",
      "4       25       3e-05         0.560628\n",
      "5       15       scale         0.582499\n",
      "6       10       9e-05         0.407518\n",
      "7       25       1e-05         0.588022\n",
      "8       15       5e-05         0.516879\n",
      "9       10       7e-05         0.486516\n",
      "10      25       scale         0.582923\n",
      "11      50       9e-05         0.407518\n",
      "12      50       scale         0.582923\n",
      "13      10       scale         0.582711\n",
      "14      10       5e-05         0.516879\n",
      "15      25       7e-05         0.486516\n",
      "16      25       5e-05         0.516879\n",
      "17      15       1e-05         0.587806\n",
      "18      15       3e-05         0.560628\n",
      "19      25       9e-05         0.407518\n",
      "Wall time: 4h 15min 17s\n"
     ]
    }
   ],
   "source": [
    "%%time\n",
    "classifier = SVC(kernel='rbf', max_iter=-1)\n",
    "#classifier = SVC(C=25, kernel='rbf', gamma='scale', tol=1e-2, max_iter=-1, decision_function_shape='ovr')\n",
    "# C=25, kernel='rbf', gamma='scale', coef0=*, shrinking=*, probability=*, \n",
    "#tol=0.01, cache_size=*, class_weight=*, verbose=*, max_iter=- 1, decision_function_shape='ovr', \n",
    "#break_ties=*, random_state=*\n",
    "\n",
    "params = {'C': [1e1, 15, 25, 50],\n",
    "          'gamma': ['scale', 1e-5, 3e-5, 5e-5, 7e-5, 9e-5],\n",
    "          'tol': [1e-2],\n",
    "          'decision_function_shape': ['ovr']}\n",
    "\n",
    "rs = RandomizedSearchCV(classifier, params, cv=8, scoring='accuracy', n_iter=20)\n",
    "\n",
    "rs.fit(X_train, y_train)\n",
    "\n",
    "print(pd.DataFrame(rs.cv_results_)[['param_C','param_gamma','mean_test_score']])"
   ]
  },
  {
   "cell_type": "code",
   "execution_count": 4,
   "id": "174573c8",
   "metadata": {},
   "outputs": [
    {
     "name": "stdout",
     "output_type": "stream",
     "text": [
      "   param_C param_gamma  mean_test_score\n",
      "0       25       2e-05         0.574216\n",
      "1       15       9e-06         0.591202\n",
      "2       15       scale         0.582499\n",
      "3       10       1e-05         0.589294\n",
      "4       50       scale         0.582923\n",
      "5       50       1e-05         0.588234\n",
      "6       10       scale         0.582711\n",
      "7       50       9e-06         0.593116\n",
      "8       50       2e-05         0.574216\n",
      "9       25       1e-05         0.588022\n",
      "10      15       1e-05         0.587806\n",
      "11      10       2e-05         0.574428\n",
      "12      25       scale         0.582923\n",
      "13      15       2e-05         0.574216\n",
      "14      25       9e-06         0.594178\n",
      "Wall time: 3h 33min 35s\n"
     ]
    }
   ],
   "source": [
    "%%time\n",
    "classifier = SVC(kernel='rbf', max_iter=-1)\n",
    "#classifier = SVC(C=25, kernel='rbf', gamma='scale', tol=1e-2, max_iter=-1, decision_function_shape='ovr')\n",
    "# C=25, kernel='rbf', gamma='scale', coef0=*, shrinking=*, probability=*, \n",
    "#tol=0.01, cache_size=*, class_weight=*, verbose=*, max_iter=- 1, decision_function_shape='ovr', \n",
    "#break_ties=*, random_state=*\n",
    "\n",
    "params = {'C': [1e1, 15, 25, 50],\n",
    "          'gamma': ['scale', 1e-5, 9e-6, 2e-5],\n",
    "          'tol': [1e-2],\n",
    "          'decision_function_shape': ['ovr']}\n",
    "\n",
    "rs = RandomizedSearchCV(classifier, params, cv=8, scoring='accuracy', n_iter=15)\n",
    "\n",
    "rs.fit(X_train, y_train)\n",
    "\n",
    "print(pd.DataFrame(rs.cv_results_)[['param_C','param_gamma','mean_test_score']])"
   ]
  },
  {
   "cell_type": "code",
   "execution_count": 3,
   "id": "2937f888",
   "metadata": {},
   "outputs": [
    {
     "name": "stderr",
     "output_type": "stream",
     "text": [
      "D:\\Programas\\anaconda3\\envs\\BCIMusical\\lib\\site-packages\\sklearn\\model_selection\\_search.py:281: UserWarning: The total space of parameters 12 is smaller than n_iter=15. Running 12 iterations. For exhaustive searches, use GridSearchCV.\n",
      "  % (grid_size, self.n_iter, grid_size), UserWarning)\n"
     ]
    },
    {
     "name": "stdout",
     "output_type": "stream",
     "text": [
      "   param_C param_gamma  mean_test_score\n",
      "0       15       scale         0.582499\n",
      "1       15       8e-06         0.594388\n",
      "2       15       9e-06         0.591202\n",
      "3       15       1e-05         0.587806\n",
      "4       25       scale         0.582923\n",
      "5       25       8e-06         0.595451\n",
      "6       25       9e-06         0.594178\n",
      "7       25       1e-05         0.588022\n",
      "8       50       scale         0.582923\n",
      "9       50       8e-06         0.595027\n",
      "10      50       9e-06         0.593116\n",
      "11      50       1e-05         0.588234\n",
      "Wall time: 2h 56min 6s\n"
     ]
    }
   ],
   "source": [
    "%%time\n",
    "classifier = SVC(kernel='rbf', max_iter=-1)\n",
    "#classifier = SVC(C=25, kernel='rbf', gamma='scale', tol=1e-2, max_iter=-1, decision_function_shape='ovr')\n",
    "# C=25, kernel='rbf', gamma='scale', coef0=*, shrinking=*, probability=*, \n",
    "#tol=0.01, cache_size=*, class_weight=*, verbose=*, max_iter=- 1, decision_function_shape='ovr', \n",
    "#break_ties=*, random_state=*\n",
    "\n",
    "params = {'C': [15, 25, 50],\n",
    "          'gamma': ['scale', 8e-6, 9e-6, 1e-5],\n",
    "          'tol': [1e-2],\n",
    "          'decision_function_shape': ['ovr']}\n",
    "\n",
    "rs = RandomizedSearchCV(classifier, params, cv=8, scoring='accuracy', n_iter=15)\n",
    "\n",
    "rs.fit(X_train, y_train)\n",
    "\n",
    "print(pd.DataFrame(rs.cv_results_)[['param_C','param_gamma','mean_test_score']])"
   ]
  },
  {
   "cell_type": "code",
   "execution_count": 3,
   "id": "a0da2329",
   "metadata": {},
   "outputs": [
    {
     "name": "stderr",
     "output_type": "stream",
     "text": [
      "D:\\Programas\\anaconda3\\envs\\BCIMusical\\lib\\site-packages\\sklearn\\model_selection\\_search.py:281: UserWarning: The total space of parameters 9 is smaller than n_iter=15. Running 9 iterations. For exhaustive searches, use GridSearchCV.\n",
      "  % (grid_size, self.n_iter, grid_size), UserWarning)\n"
     ]
    },
    {
     "name": "stdout",
     "output_type": "stream",
     "text": [
      "  param_C param_gamma  mean_test_score\n",
      "0      15       8e-06         0.594388\n",
      "1      15       7e-06         0.598214\n",
      "2      15       6e-05         0.496495\n",
      "3      25       8e-06         0.595451\n",
      "4      25       7e-06         0.600760\n",
      "5      25       6e-05         0.496495\n",
      "6      50       8e-06         0.595027\n",
      "7      50       7e-06         0.600549\n",
      "8      50       6e-05         0.496495\n",
      "Wall time: 1h 54min 3s\n"
     ]
    }
   ],
   "source": [
    "%%time\n",
    "classifier = SVC(kernel='rbf', max_iter=-1)\n",
    "#classifier = SVC(C=25, kernel='rbf', gamma='scale', tol=1e-2, max_iter=-1, decision_function_shape='ovr')\n",
    "# C=25, kernel='rbf', gamma='scale', coef0=*, shrinking=*, probability=*, \n",
    "#tol=0.01, cache_size=*, class_weight=*, verbose=*, max_iter=- 1, decision_function_shape='ovr', \n",
    "#break_ties=*, random_state=*\n",
    "\n",
    "params = {'C': [15, 25, 50],\n",
    "          'gamma': [8e-6, 7e-6, 6e-5],\n",
    "          'tol': [1e-2],\n",
    "          'decision_function_shape': ['ovr']}\n",
    "\n",
    "rs = RandomizedSearchCV(classifier, params, cv=8, scoring='accuracy', n_iter=15)\n",
    "\n",
    "rs.fit(X_train, y_train)\n",
    "\n",
    "print(pd.DataFrame(rs.cv_results_)[['param_C','param_gamma','mean_test_score']])"
   ]
  },
  {
   "cell_type": "code",
   "execution_count": 4,
   "id": "0d9e470e",
   "metadata": {},
   "outputs": [
    {
     "name": "stdout",
     "output_type": "stream",
     "text": [
      "   param_C param_gamma  mean_test_score\n",
      "0       25       8e-06         0.595451\n",
      "1       25       7e-06         0.600760\n",
      "2       25       6e-06         0.604158\n",
      "3       30       8e-06         0.594389\n",
      "4       30       7e-06         0.602883\n",
      "5       30       6e-06         0.604157\n",
      "6       40       8e-06         0.596089\n",
      "7       40       7e-06         0.600549\n",
      "8       40       6e-06         0.608829\n",
      "9       50       8e-06         0.595027\n",
      "10      50       7e-06         0.600549\n",
      "11      50       6e-06         0.607981\n",
      "Wall time: 3h 45min 22s\n"
     ]
    }
   ],
   "source": [
    "%%time\n",
    "classifier = SVC(kernel='rbf', max_iter=-1)\n",
    "#classifier = SVC(C=25, kernel='rbf', gamma='scale', tol=1e-2, max_iter=-1, decision_function_shape='ovr')\n",
    "# C=25, kernel='rbf', gamma='scale', coef0=*, shrinking=*, probability=*, \n",
    "#tol=0.01, cache_size=*, class_weight=*, verbose=*, max_iter=- 1, decision_function_shape='ovr', \n",
    "#break_ties=*, random_state=*\n",
    "\n",
    "params = {'C': [25, 30, 40, 50],\n",
    "          'gamma': [8e-6, 7e-6, 6e-6],\n",
    "          'tol': [1e-2],\n",
    "          'decision_function_shape': ['ovr']}\n",
    "\n",
    "rs = RandomizedSearchCV(classifier, params, cv=8, scoring='accuracy', n_iter=12)\n",
    "\n",
    "rs.fit(X_train, y_train)\n",
    "\n",
    "print(pd.DataFrame(rs.cv_results_)[['param_C','param_gamma','mean_test_score']])"
   ]
  },
  {
   "cell_type": "code",
   "execution_count": 8,
   "id": "7136baa3",
   "metadata": {},
   "outputs": [
    {
     "name": "stdout",
     "output_type": "stream",
     "text": [
      "Clasifier DONE\n",
      "TEST SET:\n",
      "              precision    recall  f1-score   support\n",
      "\n",
      "         1.0       0.60      0.64      0.62       321\n",
      "         2.0       0.59      0.61      0.60       323\n",
      "         3.0       0.73      0.63      0.68       254\n",
      "\n",
      "    accuracy                           0.63       898\n",
      "   macro avg       0.64      0.63      0.63       898\n",
      "weighted avg       0.63      0.63      0.63       898\n",
      "\n",
      "VAL SET:\n",
      "              precision    recall  f1-score   support\n",
      "\n",
      "         1.0       0.64      0.68      0.66       177\n",
      "         2.0       0.60      0.61      0.61       161\n",
      "         3.0       0.70      0.62      0.66       110\n",
      "\n",
      "    accuracy                           0.64       448\n",
      "   macro avg       0.65      0.64      0.64       448\n",
      "weighted avg       0.64      0.64      0.64       448\n",
      "\n",
      "Wall time: 2min 46s\n"
     ]
    }
   ],
   "source": [
    "%%time\n",
    "import joblib\n",
    "from sklearn.metrics import classification_report\n",
    "#Dividimos el test set en test y val\n",
    "X_val, X_test, y_val, y_test = train_test_split(X_test, y_test, random_state=3, test_size=2/3)\n",
    "\n",
    "classifier = SVC(kernel='rbf', max_iter=-1, C=40, gamma=6e-6, tol=1e-2, decision_function_shape='ovr')\n",
    "classifier.fit(X_train, y_train)\n",
    "print('Clasifier DONE')\n",
    "y_predict = classifier.predict(X_test)\n",
    "print('TEST SET:')\n",
    "print(classification_report(y_test, y_predict))\n",
    "print('VAL SET:')\n",
    "y_val_predict = classifier.predict(X_val)\n",
    "print(classification_report(y_val, y_val_predict))\n",
    "\n",
    "joblib.dump(classifier, 'D:/Github/eeg.fem/public/data/Musical/5956733/ML model/Model_RBF')"
   ]
  }
 ],
 "metadata": {
  "kernelspec": {
   "display_name": "Python 3",
   "language": "python",
   "name": "python3"
  },
  "language_info": {
   "codemirror_mode": {
    "name": "ipython",
    "version": 3
   },
   "file_extension": ".py",
   "mimetype": "text/x-python",
   "name": "python",
   "nbconvert_exporter": "python",
   "pygments_lexer": "ipython3",
   "version": "3.6.13"
  }
 },
 "nbformat": 4,
 "nbformat_minor": 5
}
