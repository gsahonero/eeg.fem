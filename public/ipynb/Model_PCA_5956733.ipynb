{
 "cells": [
  {
   "cell_type": "code",
   "execution_count": 1,
   "source": [
    "import numpy as np\n",
    "from sklearn.svm import SVC\n",
    "from sklearn.model_selection import train_test_split\n",
    "from sklearn.model_selection import RandomizedSearchCV\n",
    "import pandas as pd"
   ],
   "outputs": [],
   "metadata": {}
  },
  {
   "cell_type": "code",
   "execution_count": 2,
   "source": [
    "df = np.genfromtxt('D:/Github/eeg.fem/public/data/Musical/5956733/data_for_train/ALL_PCA_64.csv',delimiter=',')\n",
    "x = df[:, :-1]\n",
    "y = df[:, -1]\n",
    "X_train, X_test, y_train, y_test = train_test_split(x, y, random_state=3, test_size=0.3)"
   ],
   "outputs": [],
   "metadata": {}
  },
  {
   "cell_type": "code",
   "execution_count": 3,
   "source": [
    "%%time\n",
    "classifier = SVC(kernel='rbf', max_iter=-1 ,decision_function_shape='ovr', tol=1e-3)\n",
    "params = {'C': [1e-5, 1, 1e5],\n",
    "          'gamma': [1e-5, 'scale', 1e5]}\n",
    "rs = RandomizedSearchCV(classifier, params, cv=8, scoring='accuracy', n_iter=9)\n",
    "rs.fit(X_train, y_train)\n",
    "print(pd.DataFrame(rs.cv_results_)[['param_C','param_gamma','mean_test_score']])"
   ],
   "outputs": [
    {
     "output_type": "stream",
     "name": "stdout",
     "text": [
      "  param_C param_gamma  mean_test_score\n",
      "0   1e-05       1e-05         0.365470\n",
      "1   1e-05       scale         0.365470\n",
      "2   1e-05      100000         0.365470\n",
      "3       1       1e-05         0.365470\n",
      "4       1       scale         0.999575\n",
      "5       1      100000         0.365470\n",
      "6  100000       1e-05         1.000000\n",
      "7  100000       scale         0.999788\n",
      "8  100000      100000         0.365470\n",
      "Wall time: 1min 42s\n"
     ]
    }
   ],
   "metadata": {}
  },
  {
   "cell_type": "code",
   "execution_count": 5,
   "source": [
    "%%time\n",
    "classifier = SVC(kernel='rbf', max_iter=-1 ,tol=1e-3)\n",
    "params = {'C': [1e-1, 1, 1e1],\n",
    "          'gamma': [1e-3, 1e-1,'scale'],\n",
    "          'decision_function_shape': ['ovr']}\n",
    "rs = RandomizedSearchCV(classifier, params, cv=8, scoring='accuracy', n_iter=9)\n",
    "rs.fit(X_train, y_train)\n",
    "print(pd.DataFrame(rs.cv_results_)[['param_C','param_gamma','mean_test_score']])"
   ],
   "outputs": [
    {
     "output_type": "stream",
     "name": "stdout",
     "text": [
      "  param_C param_gamma  mean_test_score\n",
      "0     0.1       0.001         0.365470\n",
      "1     0.1         0.1         0.998514\n",
      "2     0.1       scale         0.997664\n",
      "3       1       0.001         1.000000\n",
      "4       1         0.1         0.999575\n",
      "5       1       scale         0.999575\n",
      "6      10       0.001         1.000000\n",
      "7      10         0.1         1.000000\n",
      "8      10       scale         0.999788\n",
      "Wall time: 30 s\n"
     ]
    }
   ],
   "metadata": {}
  },
  {
   "cell_type": "code",
   "execution_count": 11,
   "source": [
    "%%time\n",
    "classifier = SVC(kernel='rbf', max_iter=-1 ,tol=1e-3)\n",
    "params = {'C': [1e-1, 1e-2, 1],\n",
    "          'gamma': [1e-2, 1e-1,'scale'],\n",
    "          'decision_function_shape': ['ovr']}\n",
    "rs = RandomizedSearchCV(classifier, params, cv=8, scoring='accuracy', n_iter=9)\n",
    "rs.fit(X_train, y_train)\n",
    "print(pd.DataFrame(rs.cv_results_)[['param_C','param_gamma','mean_test_score']])"
   ],
   "outputs": [
    {
     "output_type": "stream",
     "name": "stdout",
     "text": [
      "  param_C param_gamma  mean_test_score\n",
      "0     0.1        0.01         1.000000\n",
      "1     0.1         0.1         0.998514\n",
      "2     0.1       scale         0.997664\n",
      "3    0.01        0.01         0.365470\n",
      "4    0.01         0.1         0.858146\n",
      "5    0.01       scale         0.884906\n",
      "6       1        0.01         1.000000\n",
      "7       1         0.1         0.999575\n",
      "8       1       scale         0.999575\n",
      "Wall time: 41 s\n"
     ]
    }
   ],
   "metadata": {}
  },
  {
   "cell_type": "code",
   "execution_count": 12,
   "source": [
    "%%time\n",
    "classifier = SVC(kernel='rbf', max_iter=-1 ,tol=1e-3)\n",
    "params = {'C': [1e-1, 5e-2, 1],\n",
    "          'gamma': [1e-2, 1e-1,'scale'],\n",
    "          'decision_function_shape': ['ovr']}\n",
    "rs = RandomizedSearchCV(classifier, params, cv=8, scoring='accuracy', n_iter=9)\n",
    "rs.fit(X_train, y_train)\n",
    "print(pd.DataFrame(rs.cv_results_)[['param_C','param_gamma','mean_test_score']])"
   ],
   "outputs": [
    {
     "output_type": "stream",
     "name": "stdout",
     "text": [
      "  param_C param_gamma  mean_test_score\n",
      "0     0.1        0.01         1.000000\n",
      "1     0.1         0.1         0.998514\n",
      "2     0.1       scale         0.997664\n",
      "3    0.05        0.01         0.997452\n",
      "4    0.05         0.1         0.997877\n",
      "5    0.05       scale         0.997240\n",
      "6       1        0.01         1.000000\n",
      "7       1         0.1         0.999575\n",
      "8       1       scale         0.999575\n",
      "Wall time: 30.9 s\n"
     ]
    }
   ],
   "metadata": {}
  },
  {
   "cell_type": "code",
   "execution_count": 13,
   "source": [
    "%%time\n",
    "classifier = SVC(kernel='rbf', max_iter=-1 ,tol=1e-3)\n",
    "params = {'C': [5e-2, 5e-3],\n",
    "          'gamma': [1e-2, 1e-1,'scale'],\n",
    "          'decision_function_shape': ['ovr']}\n",
    "rs = RandomizedSearchCV(classifier, params, cv=8, scoring='accuracy', n_iter=6)\n",
    "rs.fit(X_train, y_train)\n",
    "print(pd.DataFrame(rs.cv_results_)[['param_C','param_gamma','mean_test_score']])"
   ],
   "outputs": [
    {
     "output_type": "stream",
     "name": "stdout",
     "text": [
      "  param_C param_gamma  mean_test_score\n",
      "0    0.05        0.01         0.997452\n",
      "1    0.05         0.1         0.997877\n",
      "2    0.05       scale         0.997240\n",
      "3   0.005        0.01         0.365470\n",
      "4   0.005         0.1         0.365470\n",
      "5   0.005       scale         0.366532\n",
      "Wall time: 38 s\n"
     ]
    }
   ],
   "metadata": {}
  },
  {
   "cell_type": "code",
   "execution_count": 14,
   "source": [
    "%%time\n",
    "classifier = SVC(kernel='rbf', max_iter=-1 ,tol=1e-3)\n",
    "params = {'C': [2e-2, 9e-3],\n",
    "          'gamma': [1e-2, 1e-1,'scale'],\n",
    "          'decision_function_shape': ['ovr']}\n",
    "rs = RandomizedSearchCV(classifier, params, cv=8, scoring='accuracy', n_iter=6)\n",
    "rs.fit(X_train, y_train)\n",
    "print(pd.DataFrame(rs.cv_results_)[['param_C','param_gamma','mean_test_score']])"
   ],
   "outputs": [
    {
     "output_type": "stream",
     "name": "stdout",
     "text": [
      "  param_C param_gamma  mean_test_score\n",
      "0    0.02        0.01         0.365470\n",
      "1    0.02         0.1         0.998726\n",
      "2    0.02       scale         0.997664\n",
      "3   0.009        0.01         0.365470\n",
      "4   0.009         0.1         0.729880\n",
      "5   0.009       scale         0.759823\n",
      "Wall time: 44.9 s\n"
     ]
    }
   ],
   "metadata": {}
  },
  {
   "cell_type": "code",
   "execution_count": 15,
   "source": [
    "%%time\n",
    "classifier = SVC(kernel='rbf', max_iter=-1 ,tol=1e-3)\n",
    "params = {'C': [2e-2, 9e-3],\n",
    "          'gamma': [5e-2, 1e-1, 'scale'],\n",
    "          'decision_function_shape': ['ovr']}\n",
    "rs = RandomizedSearchCV(classifier, params, cv=8, scoring='accuracy', n_iter=6)\n",
    "rs.fit(X_train, y_train)\n",
    "print(pd.DataFrame(rs.cv_results_)[['param_C','param_gamma','mean_test_score']])"
   ],
   "outputs": [
    {
     "output_type": "stream",
     "name": "stdout",
     "text": [
      "  param_C param_gamma  mean_test_score\n",
      "0    0.02        0.05         1.000000\n",
      "1    0.02         0.1         0.998726\n",
      "2    0.02       scale         0.997664\n",
      "3   0.009        0.05         0.553190\n",
      "4   0.009         0.1         0.729880\n",
      "5   0.009       scale         0.759823\n",
      "Wall time: 44.8 s\n"
     ]
    }
   ],
   "metadata": {}
  },
  {
   "cell_type": "code",
   "execution_count": 16,
   "source": [
    "%%time\n",
    "classifier = SVC(kernel='rbf', max_iter=-1 ,tol=1e-3)\n",
    "params = {'C': [2e-2, 9.5e-3],\n",
    "          'gamma': [7e-2, 1e-1, 'scale'],\n",
    "          'decision_function_shape': ['ovr']}\n",
    "rs = RandomizedSearchCV(classifier, params, cv=8, scoring='accuracy', n_iter=6)\n",
    "rs.fit(X_train, y_train)\n",
    "print(pd.DataFrame(rs.cv_results_)[['param_C','param_gamma','mean_test_score']])"
   ],
   "outputs": [
    {
     "output_type": "stream",
     "name": "stdout",
     "text": [
      "  param_C param_gamma  mean_test_score\n",
      "0    0.02        0.07         0.999787\n",
      "1    0.02         0.1         0.998726\n",
      "2    0.02       scale         0.997664\n",
      "3  0.0095        0.07         0.726482\n",
      "4  0.0095         0.1         0.779999\n",
      "5  0.0095       scale         0.822468\n",
      "Wall time: 38.6 s\n"
     ]
    }
   ],
   "metadata": {}
  },
  {
   "cell_type": "code",
   "execution_count": 17,
   "source": [
    "%%time\n",
    "classifier = SVC(kernel='rbf', max_iter=-1 ,tol=1e-3)\n",
    "params = {'C': [2.5e-2, 9.9e-3],\n",
    "          'gamma': [7.5e-2, 1e-1, 'scale'],\n",
    "          'decision_function_shape': ['ovr']}\n",
    "rs = RandomizedSearchCV(classifier, params, cv=8, scoring='accuracy', n_iter=6)\n",
    "rs.fit(X_train, y_train)\n",
    "print(pd.DataFrame(rs.cv_results_)[['param_C','param_gamma','mean_test_score']])"
   ],
   "outputs": [
    {
     "output_type": "stream",
     "name": "stdout",
     "text": [
      "  param_C param_gamma  mean_test_score\n",
      "0   0.025       0.075         0.999363\n",
      "1   0.025         0.1         0.998089\n",
      "2   0.025       scale         0.997240\n",
      "3  0.0099       0.075         0.728605\n",
      "4  0.0099         0.1         0.841792\n",
      "5  0.0099       scale         0.874711\n",
      "Wall time: 42.7 s\n"
     ]
    }
   ],
   "metadata": {}
  },
  {
   "cell_type": "code",
   "execution_count": 18,
   "source": [
    "%%time\n",
    "classifier = SVC(kernel='rbf', max_iter=-1)\n",
    "params = {'C': [2.5e-2, 9.9e-3],\n",
    "          'gamma': [7.5e-2, 1e-1, 'scale'],\n",
    "          'decision_function_shape': ['ovr'],\n",
    "          'tol': [1e-5, 1e-3, 1e-1]}\n",
    "rs = RandomizedSearchCV(classifier, params, cv=8, scoring='accuracy', n_iter=18)\n",
    "rs.fit(X_train, y_train)\n",
    "print(pd.DataFrame(rs.cv_results_)[['param_C','param_gamma','param_tol','mean_test_score']])"
   ],
   "outputs": [
    {
     "output_type": "stream",
     "name": "stdout",
     "text": [
      "   param_C param_gamma param_tol  mean_test_score\n",
      "0    0.025       0.075     1e-05         0.999363\n",
      "1    0.025       0.075     0.001         0.999363\n",
      "2    0.025       0.075       0.1         0.999363\n",
      "3    0.025         0.1     1e-05         0.998089\n",
      "4    0.025         0.1     0.001         0.998089\n",
      "5    0.025         0.1       0.1         0.998089\n",
      "6    0.025       scale     1e-05         0.997240\n",
      "7    0.025       scale     0.001         0.997240\n",
      "8    0.025       scale       0.1         0.997240\n",
      "9   0.0099       0.075     1e-05         0.728605\n",
      "10  0.0099       0.075     0.001         0.728605\n",
      "11  0.0099       0.075       0.1         0.730518\n",
      "12  0.0099         0.1     1e-05         0.841792\n",
      "13  0.0099         0.1     0.001         0.841792\n",
      "14  0.0099         0.1       0.1         0.900832\n",
      "15  0.0099       scale     1e-05         0.874711\n",
      "16  0.0099       scale     0.001         0.874711\n",
      "17  0.0099       scale       0.1         0.918032\n",
      "Wall time: 1min 56s\n"
     ]
    }
   ],
   "metadata": {}
  },
  {
   "cell_type": "code",
   "execution_count": 19,
   "source": [
    "%%time\n",
    "classifier = SVC(kernel='rbf', max_iter=-1)\n",
    "params = {'C': [1.5e-2, 9.9e-3],\n",
    "          'gamma': [7.5e-2, 1e-1, 'scale'],\n",
    "          'decision_function_shape': ['ovr'],\n",
    "          'tol': [1e-3]}\n",
    "rs = RandomizedSearchCV(classifier, params, cv=8, scoring='accuracy', n_iter=6)\n",
    "rs.fit(X_train, y_train)\n",
    "print(pd.DataFrame(rs.cv_results_)[['param_C','param_gamma','mean_test_score']])"
   ],
   "outputs": [
    {
     "output_type": "stream",
     "name": "stderr",
     "text": [
      "D:\\Programas\\anaconda3\\envs\\BCIMusical\\lib\\site-packages\\sklearn\\model_selection\\_search.py:281: UserWarning: The total space of parameters 6 is smaller than n_iter=18. Running 6 iterations. For exhaustive searches, use GridSearchCV.\n",
      "  % (grid_size, self.n_iter, grid_size), UserWarning)\n"
     ]
    },
    {
     "output_type": "stream",
     "name": "stdout",
     "text": [
      "  param_C param_gamma  mean_test_score\n",
      "0   0.015       0.075         0.999788\n",
      "1   0.015         0.1         0.999787\n",
      "2   0.015       scale         0.999787\n",
      "3  0.0099       0.075         0.728605\n",
      "4  0.0099         0.1         0.841792\n",
      "5  0.0099       scale         0.874711\n",
      "Wall time: 43.5 s\n"
     ]
    }
   ],
   "metadata": {}
  },
  {
   "cell_type": "code",
   "execution_count": 20,
   "source": [
    "%%time\n",
    "classifier = SVC(kernel='rbf', max_iter=-1)\n",
    "params = {'C': [1.5e-2, 8.5e-3],\n",
    "          'gamma': [6.5e-2, 8.5e-2, 'scale'],\n",
    "          'decision_function_shape': ['ovr'],\n",
    "          'tol': [1e-3]}\n",
    "rs = RandomizedSearchCV(classifier, params, cv=8, scoring='accuracy', n_iter=6)\n",
    "rs.fit(X_train, y_train)\n",
    "print(pd.DataFrame(rs.cv_results_)[['param_C','param_gamma','mean_test_score']])"
   ],
   "outputs": [
    {
     "output_type": "stream",
     "name": "stdout",
     "text": [
      "  param_C param_gamma  mean_test_score\n",
      "0   0.015       0.065         0.999576\n",
      "1   0.015       0.085         0.999575\n",
      "2   0.015       scale         0.999787\n",
      "3  0.0085       0.065         0.689536\n",
      "4  0.0085       0.085         0.720536\n",
      "5  0.0085       scale         0.727331\n",
      "Wall time: 45.9 s\n"
     ]
    }
   ],
   "metadata": {}
  },
  {
   "cell_type": "code",
   "execution_count": 21,
   "source": [
    "%%time\n",
    "classifier = SVC(kernel='rbf', max_iter=-1)\n",
    "params = {'C': [8.5e-3, 9e-3],\n",
    "          'gamma': [6.5e-2, 8.5e-2, 'scale'],\n",
    "          'decision_function_shape': ['ovr'],\n",
    "          'tol': [1e-3]}\n",
    "rs = RandomizedSearchCV(classifier, params, cv=8, scoring='accuracy', n_iter=6)\n",
    "rs.fit(X_train, y_train)\n",
    "print(pd.DataFrame(rs.cv_results_)[['param_C','param_gamma','mean_test_score']])"
   ],
   "outputs": [
    {
     "output_type": "stream",
     "name": "stdout",
     "text": [
      "  param_C param_gamma  mean_test_score\n",
      "0  0.0085       0.065         0.689536\n",
      "1  0.0085       0.085         0.720536\n",
      "2  0.0085       scale         0.727331\n",
      "3   0.009       0.065         0.713318\n",
      "4   0.009       0.085         0.726694\n",
      "5   0.009       scale         0.759823\n",
      "Wall time: 42.9 s\n"
     ]
    }
   ],
   "metadata": {}
  },
  {
   "cell_type": "code",
   "execution_count": 23,
   "source": [
    "%%time\n",
    "classifier = SVC(kernel='rbf', max_iter=-1)\n",
    "params = {'C': [9.5e-3, 9e-3],\n",
    "          'gamma': [6.5e-2, 8.5e-2, 'scale'],\n",
    "          'decision_function_shape': ['ovr'],\n",
    "          'tol': [1e-3]}\n",
    "rs = RandomizedSearchCV(classifier, params, cv=8, scoring='accuracy', n_iter=6)\n",
    "rs.fit(X_train, y_train)\n",
    "print(pd.DataFrame(rs.cv_results_)[['param_C','param_gamma','mean_test_score']])"
   ],
   "outputs": [
    {
     "output_type": "stream",
     "name": "stdout",
     "text": [
      "  param_C param_gamma  mean_test_score\n",
      "0  0.0095       0.065         0.722660\n",
      "1  0.0095       0.085         0.728605\n",
      "2  0.0095       scale         0.822468\n",
      "3   0.009       0.065         0.713318\n",
      "4   0.009       0.085         0.726694\n",
      "5   0.009       scale         0.759823\n",
      "Wall time: 46.7 s\n"
     ]
    }
   ],
   "metadata": {}
  },
  {
   "cell_type": "code",
   "execution_count": 24,
   "source": [
    "%%time\n",
    "classifier = SVC(kernel='rbf', max_iter=-1)\n",
    "params = {'C': [9.5e-3, 9.75e-3],\n",
    "          'gamma': [6.5e-2, 8.5e-2, 'scale'],\n",
    "          'decision_function_shape': ['ovr'],\n",
    "          'tol': [1e-3]}\n",
    "rs = RandomizedSearchCV(classifier, params, cv=8, scoring='accuracy', n_iter=6)\n",
    "rs.fit(X_train, y_train)\n",
    "print(pd.DataFrame(rs.cv_results_)[['param_C','param_gamma','mean_test_score']])"
   ],
   "outputs": [
    {
     "output_type": "stream",
     "name": "stdout",
     "text": [
      "   param_C param_gamma  mean_test_score\n",
      "0   0.0095       0.065         0.722660\n",
      "1   0.0095       0.085         0.728605\n",
      "2   0.0095       scale         0.822468\n",
      "3  0.00975       0.065         0.726270\n",
      "4  0.00975       0.085         0.738799\n",
      "5  0.00975       scale         0.856233\n",
      "Wall time: 48.8 s\n"
     ]
    }
   ],
   "metadata": {}
  },
  {
   "cell_type": "code",
   "execution_count": 25,
   "source": [
    "%%time\n",
    "classifier = SVC(kernel='rbf', max_iter=-1)\n",
    "params = {'C': [9.75e-3, 1e-2],\n",
    "          'gamma': [6.5e-2, 8.5e-2, 'scale'],\n",
    "          'decision_function_shape': ['ovr'],\n",
    "          'tol': [1e-3]}\n",
    "rs = RandomizedSearchCV(classifier, params, cv=8, scoring='accuracy', n_iter=6)\n",
    "rs.fit(X_train, y_train)\n",
    "print(pd.DataFrame(rs.cv_results_)[['param_C','param_gamma','mean_test_score']])"
   ],
   "outputs": [
    {
     "output_type": "stream",
     "name": "stdout",
     "text": [
      "   param_C param_gamma  mean_test_score\n",
      "0  0.00975       0.065         0.726270\n",
      "1  0.00975       0.085         0.738799\n",
      "2  0.00975       scale         0.856233\n",
      "3     0.01       0.065         0.727544\n",
      "4     0.01       0.085         0.774477\n",
      "5     0.01       scale         0.884906\n",
      "Wall time: 52.1 s\n"
     ]
    }
   ],
   "metadata": {}
  },
  {
   "cell_type": "code",
   "execution_count": 26,
   "source": [
    "%%time\n",
    "classifier = SVC(kernel='rbf', max_iter=-1)\n",
    "params = {'C': [1e-2, 1.5e-2],\n",
    "          'gamma': [6.5e-2, 8.5e-2, 'scale'],\n",
    "          'decision_function_shape': ['ovr'],\n",
    "          'tol': [1e-3]}\n",
    "rs = RandomizedSearchCV(classifier, params, cv=8, scoring='accuracy', n_iter=6)\n",
    "rs.fit(X_train, y_train)\n",
    "print(pd.DataFrame(rs.cv_results_)[['param_C','param_gamma','mean_test_score']])"
   ],
   "outputs": [
    {
     "output_type": "stream",
     "name": "stdout",
     "text": [
      "  param_C param_gamma  mean_test_score\n",
      "0    0.01       0.065         0.727544\n",
      "1    0.01       0.085         0.774477\n",
      "2    0.01       scale         0.884906\n",
      "3   0.015       0.065         0.999576\n",
      "4   0.015       0.085         0.999575\n",
      "5   0.015       scale         0.999787\n",
      "Wall time: 45.8 s\n"
     ]
    }
   ],
   "metadata": {}
  },
  {
   "cell_type": "code",
   "execution_count": 27,
   "source": [
    "%%time\n",
    "classifier = SVC(kernel='rbf', max_iter=-1)\n",
    "params = {'C': [1.25e-2, 1.5e-2],\n",
    "          'gamma': [6.5e-2, 8.5e-2, 'scale'],\n",
    "          'decision_function_shape': ['ovr'],\n",
    "          'tol': [1e-3]}\n",
    "rs = RandomizedSearchCV(classifier, params, cv=8, scoring='accuracy', n_iter=6)\n",
    "rs.fit(X_train, y_train)\n",
    "print(pd.DataFrame(rs.cv_results_)[['param_C','param_gamma','mean_test_score']])"
   ],
   "outputs": [
    {
     "output_type": "stream",
     "name": "stdout",
     "text": [
      "  param_C param_gamma  mean_test_score\n",
      "0  0.0125       0.065         0.959868\n",
      "1  0.0125       0.085         0.990446\n",
      "2  0.0125       scale         0.992569\n",
      "3   0.015       0.065         0.999576\n",
      "4   0.015       0.085         0.999575\n",
      "5   0.015       scale         0.999787\n",
      "Wall time: 50.7 s\n"
     ]
    }
   ],
   "metadata": {}
  },
  {
   "cell_type": "code",
   "execution_count": 28,
   "source": [
    "%%time\n",
    "classifier = SVC(kernel='rbf', max_iter=-1)\n",
    "params = {'C': [1.25e-2, 1.35e-2],\n",
    "          'gamma': [6.5e-2, 8.5e-2, 'scale'],\n",
    "          'decision_function_shape': ['ovr'],\n",
    "          'tol': [1e-3]}\n",
    "rs = RandomizedSearchCV(classifier, params, cv=8, scoring='accuracy', n_iter=6)\n",
    "rs.fit(X_train, y_train)\n",
    "print(pd.DataFrame(rs.cv_results_)[['param_C','param_gamma','mean_test_score']])"
   ],
   "outputs": [
    {
     "output_type": "stream",
     "name": "stdout",
     "text": [
      "  param_C param_gamma  mean_test_score\n",
      "0  0.0125       0.065         0.959868\n",
      "1  0.0125       0.085         0.990446\n",
      "2  0.0125       scale         0.992569\n",
      "3  0.0135       0.065         0.991931\n",
      "4  0.0135       0.085         0.998089\n",
      "5  0.0135       scale         0.998301\n",
      "Wall time: 44.1 s\n"
     ]
    }
   ],
   "metadata": {}
  },
  {
   "cell_type": "code",
   "execution_count": 3,
   "source": [
    "%%time\n",
    "classifier = SVC(kernel='rbf', max_iter=-1)\n",
    "params = {'C': [1.15e-2 ,1.25e-2, 1.35e-2],\n",
    "          'gamma': [6.5e-2, 8.5e-2, 'scale'],\n",
    "          'decision_function_shape': ['ovr'],\n",
    "          'tol': [1e-3]}\n",
    "rs = RandomizedSearchCV(classifier, params, cv=8, scoring='accuracy', n_iter=9)\n",
    "rs.fit(X_train, y_train)\n",
    "print(pd.DataFrame(rs.cv_results_)[['param_C','param_gamma','mean_test_score']])"
   ],
   "outputs": [
    {
     "output_type": "stream",
     "name": "stdout",
     "text": [
      "  param_C param_gamma  mean_test_score\n",
      "0  0.0115       0.065         0.818225\n",
      "1  0.0115       0.085         0.960718\n",
      "2  0.0115       scale         0.973246\n",
      "3  0.0125       0.065         0.959868\n",
      "4  0.0125       0.085         0.990446\n",
      "5  0.0125       scale         0.992569\n",
      "6  0.0135       0.065         0.991931\n",
      "7  0.0135       0.085         0.998089\n",
      "8  0.0135       scale         0.998301\n",
      "Wall time: 1min 6s\n"
     ]
    }
   ],
   "metadata": {}
  },
  {
   "cell_type": "code",
   "execution_count": 29,
   "source": [
    "%%time\n",
    "classifier = SVC(kernel='rbf', max_iter=-1)\n",
    "params = {'C': [1.25e-2],\n",
    "          'gamma': [6.5e-2],\n",
    "          'decision_function_shape': ['ovr'],\n",
    "          'tol': [1e-3]}\n",
    "rs = RandomizedSearchCV(classifier, params, cv=8, scoring='accuracy', n_iter=6)\n",
    "rs.fit(X_train, y_train)\n",
    "print(pd.DataFrame(rs.cv_results_)[['param_C','param_gamma','mean_test_score']])"
   ],
   "outputs": [
    {
     "output_type": "stream",
     "name": "stderr",
     "text": [
      "D:\\Programas\\anaconda3\\envs\\BCIMusical\\lib\\site-packages\\sklearn\\model_selection\\_search.py:281: UserWarning: The total space of parameters 1 is smaller than n_iter=6. Running 1 iterations. For exhaustive searches, use GridSearchCV.\n",
      "  % (grid_size, self.n_iter, grid_size), UserWarning)\n"
     ]
    },
    {
     "output_type": "stream",
     "name": "stdout",
     "text": [
      "  param_C param_gamma  mean_test_score\n",
      "0  0.0125       0.065         0.959868\n",
      "Wall time: 9 s\n"
     ]
    }
   ],
   "metadata": {}
  },
  {
   "cell_type": "code",
   "execution_count": 3,
   "source": [
    "%%time\n",
    "import joblib\n",
    "from sklearn.metrics import classification_report\n",
    "#Dividimos el test set en test y val\n",
    "X_val, X_test, y_val, y_test = train_test_split(X_test, y_test, random_state=3, test_size=2/3)\n",
    "classifier = SVC(kernel='rbf', gamma=1e-1, max_iter=-1, C=9.9e-3, tol=1e-1, decision_function_shape='ovr')\n",
    "classifier.fit(X_train, y_train)\n",
    "print('Clasifier DONE')\n",
    "y_predict = classifier.predict(X_test)\n",
    "print('TEST SET:')\n",
    "print(classification_report(y_test, y_predict))\n",
    "print('VAL SET:')\n",
    "y_val_predict = classifier.predict(X_val)\n",
    "print(classification_report(y_val, y_val_predict))\n",
    "joblib.dump(classifier, 'D:/Github/eeg.fem/public/data/Musical/5956733/ML_models/Model_RBF_PCA_64')"
   ],
   "outputs": [
    {
     "output_type": "stream",
     "name": "stdout",
     "text": [
      "Clasifier DONE\n",
      "TEST SET:\n",
      "              precision    recall  f1-score   support\n",
      "\n",
      "         1.0       1.00      1.00      1.00       498\n",
      "         2.0       0.96      1.00      0.98       484\n",
      "         3.0       1.00      0.94      0.97       364\n",
      "\n",
      "    accuracy                           0.98      1346\n",
      "   macro avg       0.99      0.98      0.98      1346\n",
      "weighted avg       0.98      0.98      0.98      1346\n",
      "\n",
      "VAL SET:\n",
      "              precision    recall  f1-score   support\n",
      "\n",
      "         1.0       1.00      1.00      1.00       250\n",
      "         2.0       0.96      1.00      0.98       259\n",
      "         3.0       1.00      0.94      0.97       164\n",
      "\n",
      "    accuracy                           0.99       673\n",
      "   macro avg       0.99      0.98      0.98       673\n",
      "weighted avg       0.99      0.99      0.99       673\n",
      "\n",
      "Wall time: 1.28 s\n"
     ]
    }
   ],
   "metadata": {}
  },
  {
   "cell_type": "code",
   "execution_count": 3,
   "source": [
    "%%time\n",
    "import joblib\n",
    "from sklearn.metrics import classification_report\n",
    "#Dividimos el test set en test y val\n",
    "X_val, X_test, y_val, y_test = train_test_split(X_test, y_test, random_state=3, test_size=2/3)\n",
    "classifier = SVC(kernel='rbf', gamma=1e-1, max_iter=-1, C=9.9e-3, tol=1e-1, decision_function_shape='ovr')\n",
    "classifier.fit(X_train, y_train)\n",
    "print('Clasifier DONE')\n",
    "y_predict = classifier.predict(X_test)\n",
    "print('TEST SET:')\n",
    "print(classification_report(y_test, y_predict))\n",
    "print('VAL SET:')\n",
    "y_val_predict = classifier.predict(X_val)\n",
    "print(classification_report(y_val, y_val_predict))"
   ],
   "outputs": [
    {
     "output_type": "stream",
     "name": "stdout",
     "text": [
      "Clasifier DONE\n",
      "TEST SET:\n",
      "              precision    recall  f1-score   support\n",
      "\n",
      "         1.0       1.00      1.00      1.00       498\n",
      "         2.0       0.96      1.00      0.98       484\n",
      "         3.0       1.00      0.94      0.97       364\n",
      "\n",
      "    accuracy                           0.98      1346\n",
      "   macro avg       0.99      0.98      0.98      1346\n",
      "weighted avg       0.98      0.98      0.98      1346\n",
      "\n",
      "VAL SET:\n",
      "              precision    recall  f1-score   support\n",
      "\n",
      "         1.0       1.00      1.00      1.00       250\n",
      "         2.0       0.96      1.00      0.98       259\n",
      "         3.0       1.00      0.94      0.97       164\n",
      "\n",
      "    accuracy                           0.99       673\n",
      "   macro avg       0.99      0.98      0.98       673\n",
      "weighted avg       0.99      0.99      0.99       673\n",
      "\n",
      "Wall time: 1.63 s\n"
     ]
    }
   ],
   "metadata": {}
  },
  {
   "cell_type": "code",
   "execution_count": 7,
   "source": [
    "from sklearn.metrics import confusion_matrix\n",
    "print(confusion_matrix(y_val, y_val_predict))"
   ],
   "outputs": [
    {
     "output_type": "stream",
     "name": "stdout",
     "text": [
      "[[250   0   0]\n",
      " [  0 259   0]\n",
      " [  0  10 154]]\n"
     ]
    }
   ],
   "metadata": {}
  },
  {
   "cell_type": "code",
   "execution_count": 9,
   "source": [
    "%%time\n",
    "classifier = SVC(kernel='rbf', max_iter=-1)\n",
    "params = {'C': [2.5e-2, 9.9e-3, 2e-2],\n",
    "          'gamma': [7.5e-2, 1e-1, 1],\n",
    "          'decision_function_shape': ['ovr'],\n",
    "          'tol': [1e-3]}\n",
    "rs = RandomizedSearchCV(classifier, params, cv=8, scoring='accuracy', n_iter=9)\n",
    "rs.fit(X_train, y_train)\n",
    "print(pd.DataFrame(rs.cv_results_)[['param_C','param_gamma','param_tol','mean_test_score']])"
   ],
   "outputs": [
    {
     "output_type": "stream",
     "name": "stdout",
     "text": [
      "  param_C param_gamma param_tol  mean_test_score\n",
      "0   0.025       0.075     0.001         0.999363\n",
      "1   0.025         0.1     0.001         0.998089\n",
      "2   0.025           1     0.001         0.542792\n",
      "3  0.0099       0.075     0.001         0.728605\n",
      "4  0.0099         0.1     0.001         0.841792\n",
      "5  0.0099           1     0.001         0.368869\n",
      "6    0.02       0.075     0.001         0.999575\n",
      "7    0.02         0.1     0.001         0.998726\n",
      "8    0.02           1     0.001         0.519008\n",
      "Wall time: 57.8 s\n"
     ]
    }
   ],
   "metadata": {}
  },
  {
   "cell_type": "code",
   "execution_count": 4,
   "source": [
    "%%time\n",
    "classifier = SVC(kernel='rbf', max_iter=-1)\n",
    "params = {'C': [1e-2, 5e-2, 1e-1],\n",
    "          'gamma': ['scale'],\n",
    "          'decision_function_shape': ['ovr'],\n",
    "          'tol': [1e-3]}\n",
    "rs = RandomizedSearchCV(classifier, params, cv=8, scoring='accuracy', n_iter=3)\n",
    "rs.fit(X_train, y_train)\n",
    "print(pd.DataFrame(rs.cv_results_)[['param_C','param_gamma','param_tol','mean_test_score']])"
   ],
   "outputs": [
    {
     "output_type": "stream",
     "name": "stdout",
     "text": [
      "  param_C param_gamma param_tol  mean_test_score\n",
      "0    0.01       scale     0.001         0.884906\n",
      "1    0.05       scale     0.001         0.997240\n",
      "2     0.1       scale     0.001         0.997664\n",
      "Wall time: 12.7 s\n"
     ]
    }
   ],
   "metadata": {}
  },
  {
   "cell_type": "code",
   "execution_count": 5,
   "source": [
    "%%time\n",
    "classifier = SVC(kernel='rbf', max_iter=-1)\n",
    "params = {'C': [1e-2, 2e-2, 3e-1],\n",
    "          'gamma': ['scale'],\n",
    "          'decision_function_shape': ['ovr'],\n",
    "          'tol': [1e-3]}\n",
    "rs = RandomizedSearchCV(classifier, params, cv=8, scoring='accuracy', n_iter=3)\n",
    "rs.fit(X_train, y_train)\n",
    "print(pd.DataFrame(rs.cv_results_)[['param_C','param_gamma','param_tol','mean_test_score']])"
   ],
   "outputs": [
    {
     "output_type": "stream",
     "name": "stdout",
     "text": [
      "  param_C param_gamma param_tol  mean_test_score\n",
      "0    0.01       scale     0.001         0.884906\n",
      "1    0.02       scale     0.001         0.997664\n",
      "2     0.3       scale     0.001         0.999151\n",
      "Wall time: 13.7 s\n"
     ]
    }
   ],
   "metadata": {}
  },
  {
   "cell_type": "code",
   "execution_count": 7,
   "source": [
    "%%time\n",
    "classifier = SVC(kernel='rbf', max_iter=-1)\n",
    "params = {'C': [1e-2, 1.2e-2, 1.4e-1, 1.6e-1, 1.8e-1],\n",
    "          'gamma': ['scale'],\n",
    "          'decision_function_shape': ['ovr'],\n",
    "          'tol': [1e-3]}\n",
    "rs = RandomizedSearchCV(classifier, params, cv=8, scoring='accuracy', n_iter=5)\n",
    "rs.fit(X_train, y_train)\n",
    "print(pd.DataFrame(rs.cv_results_)[['param_C','param_gamma','param_tol','mean_test_score']])"
   ],
   "outputs": [
    {
     "output_type": "stream",
     "name": "stdout",
     "text": [
      "  param_C param_gamma param_tol  mean_test_score\n",
      "0    0.01       scale     0.001         0.884906\n",
      "1   0.012       scale     0.001         0.985349\n",
      "2    0.14       scale     0.001         0.998301\n",
      "3    0.16       scale     0.001         0.998301\n",
      "4    0.18       scale     0.001         0.998514\n",
      "Wall time: 23.3 s\n"
     ]
    }
   ],
   "metadata": {}
  },
  {
   "cell_type": "code",
   "execution_count": 8,
   "source": [
    "%%time\n",
    "classifier = SVC(kernel='rbf', max_iter=-1)\n",
    "params = {'C': [1e-2, 1.1e-2, 1.2e-2],\n",
    "          'gamma': ['scale'],\n",
    "          'decision_function_shape': ['ovr'],\n",
    "          'tol': [1e-3]}\n",
    "rs = RandomizedSearchCV(classifier, params, cv=8, scoring='accuracy', n_iter=5)\n",
    "rs.fit(X_train, y_train)\n",
    "print(pd.DataFrame(rs.cv_results_)[['param_C','param_gamma','param_tol','mean_test_score']])"
   ],
   "outputs": [
    {
     "output_type": "stream",
     "name": "stderr",
     "text": [
      "D:\\Programas\\anaconda3\\envs\\BCIMusical\\lib\\site-packages\\sklearn\\model_selection\\_search.py:281: UserWarning: The total space of parameters 3 is smaller than n_iter=5. Running 3 iterations. For exhaustive searches, use GridSearchCV.\n",
      "  % (grid_size, self.n_iter, grid_size), UserWarning)\n"
     ]
    },
    {
     "output_type": "stream",
     "name": "stdout",
     "text": [
      "  param_C param_gamma param_tol  mean_test_score\n",
      "0    0.01       scale     0.001         0.884906\n",
      "1   0.011       scale     0.001         0.953496\n",
      "2   0.012       scale     0.001         0.985349\n",
      "Wall time: 25.9 s\n"
     ]
    }
   ],
   "metadata": {}
  },
  {
   "cell_type": "code",
   "execution_count": 9,
   "source": [
    "%%time\n",
    "classifier = SVC(kernel='rbf', max_iter=-1)\n",
    "params = {'C': [1e-2, 1.05e-2, 1.1e-2],\n",
    "          'gamma': ['scale'],\n",
    "          'decision_function_shape': ['ovr'],\n",
    "          'tol': [1e-3]}\n",
    "rs = RandomizedSearchCV(classifier, params, cv=8, scoring='accuracy', n_iter=3)\n",
    "rs.fit(X_train, y_train)\n",
    "print(pd.DataFrame(rs.cv_results_)[['param_C','param_gamma','param_tol','mean_test_score']])"
   ],
   "outputs": [
    {
     "output_type": "stream",
     "name": "stdout",
     "text": [
      "  param_C param_gamma param_tol  mean_test_score\n",
      "0    0.01       scale     0.001         0.884906\n",
      "1  0.0105       scale     0.001         0.927802\n",
      "2   0.011       scale     0.001         0.953496\n",
      "Wall time: 23.3 s\n"
     ]
    }
   ],
   "metadata": {}
  },
  {
   "cell_type": "code",
   "execution_count": 10,
   "source": [
    "%%time\n",
    "classifier = SVC(kernel='rbf', max_iter=-1)\n",
    "params = {'C': [1e-2, 1.02e-2, 1.05e-2],\n",
    "          'gamma': ['scale'],\n",
    "          'decision_function_shape': ['ovr'],\n",
    "          'tol': [1e-3]}\n",
    "rs = RandomizedSearchCV(classifier, params, cv=8, scoring='accuracy', n_iter=3)\n",
    "rs.fit(X_train, y_train)\n",
    "print(pd.DataFrame(rs.cv_results_)[['param_C','param_gamma','param_tol','mean_test_score']])"
   ],
   "outputs": [
    {
     "output_type": "stream",
     "name": "stdout",
     "text": [
      "  param_C param_gamma param_tol  mean_test_score\n",
      "0    0.01       scale     0.001         0.884906\n",
      "1  0.0102       scale     0.001         0.905291\n",
      "2  0.0105       scale     0.001         0.927802\n",
      "Wall time: 22.7 s\n"
     ]
    }
   ],
   "metadata": {}
  },
  {
   "cell_type": "code",
   "execution_count": 14,
   "source": [
    "%%time\n",
    "import joblib\n",
    "from sklearn.metrics import classification_report\n",
    "#Dividimos el test set en test y val\n",
    "X_val, X_test, y_val, y_test = train_test_split(X_test, y_test, random_state=3, test_size=2/3)\n",
    "classifier = SVC(kernel='rbf', gamma=0.075, max_iter=-1, C=0.0099, tol=0.001, decision_function_shape='ovr')\n",
    "classifier.fit(X_train, y_train)\n",
    "print('Clasifier DONE')\n",
    "y_predict = classifier.predict(X_test)\n",
    "print('TEST SET:')\n",
    "print(classification_report(y_test, y_predict))\n",
    "print('VAL SET:')\n",
    "y_val_predict = classifier.predict(X_val)\n",
    "print(classification_report(y_val, y_val_predict))\n",
    "joblib.dump(classifier, 'D:/Github/eeg.fem/public/data/Musical/5956733/ML_models/Model_RBF_PCA_64')"
   ],
   "outputs": [
    {
     "output_type": "stream",
     "name": "stdout",
     "text": [
      "Clasifier DONE\n",
      "TEST SET:\n",
      "              precision    recall  f1-score   support\n",
      "\n",
      "         1.0       1.00      1.00      1.00       151\n",
      "         2.0       0.77      1.00      0.87       132\n",
      "         3.0       1.00      0.66      0.79       117\n",
      "\n",
      "    accuracy                           0.90       400\n",
      "   macro avg       0.92      0.89      0.89       400\n",
      "weighted avg       0.92      0.90      0.90       400\n",
      "\n",
      "VAL SET:\n",
      "              precision    recall  f1-score   support\n",
      "\n",
      "         1.0       1.00      1.00      1.00        69\n",
      "         2.0       0.78      1.00      0.88        73\n",
      "         3.0       1.00      0.65      0.79        57\n",
      "\n",
      "    accuracy                           0.90       199\n",
      "   macro avg       0.93      0.88      0.89       199\n",
      "weighted avg       0.92      0.90      0.89       199\n",
      "\n",
      "Wall time: 1.16 s\n"
     ]
    }
   ],
   "metadata": {}
  },
  {
   "cell_type": "code",
   "execution_count": 13,
   "source": [
    "%%time\n",
    "classifier = SVC(kernel='rbf', max_iter=-1)\n",
    "params = {'C': [2.5e-2],\n",
    "          'gamma': [4.5e-1, 5e-1, 5.5e-1],\n",
    "          'decision_function_shape': ['ovr'],\n",
    "          'tol': [1e-3]}\n",
    "rs = RandomizedSearchCV(classifier, params, cv=8, scoring='accuracy', n_iter=4)\n",
    "rs.fit(X_train, y_train)\n",
    "print(pd.DataFrame(rs.cv_results_)[['param_C','param_gamma','param_tol','mean_test_score']])"
   ],
   "outputs": [
    {
     "output_type": "stream",
     "name": "stderr",
     "text": [
      "D:\\Programas\\anaconda3\\envs\\BCIMusical\\lib\\site-packages\\sklearn\\model_selection\\_search.py:281: UserWarning: The total space of parameters 3 is smaller than n_iter=4. Running 3 iterations. For exhaustive searches, use GridSearchCV.\n",
      "  % (grid_size, self.n_iter, grid_size), UserWarning)\n"
     ]
    },
    {
     "output_type": "stream",
     "name": "stdout",
     "text": [
      "  param_C param_gamma param_tol  mean_test_score\n",
      "0   0.025        0.45     0.001         0.874924\n",
      "1   0.025         0.5     0.001         0.818864\n",
      "2   0.025        0.55     0.001         0.770869\n",
      "Wall time: 19.2 s\n"
     ]
    }
   ],
   "metadata": {}
  },
  {
   "cell_type": "code",
   "execution_count": 16,
   "source": [
    "%%time\n",
    "classifier = SVC(kernel='rbf', max_iter=-1)\n",
    "params = {'C': [9.9e-3],\n",
    "          'gamma': [3.5e-1, 4.5e-1, 5.5e-1],\n",
    "          'decision_function_shape': ['ovr'],\n",
    "          'tol': [1e-3]}\n",
    "rs = RandomizedSearchCV(classifier, params, cv=8, scoring='accuracy', n_iter=4)\n",
    "rs.fit(X_train, y_train)\n",
    "print(pd.DataFrame(rs.cv_results_)[['param_C','param_gamma','param_tol','mean_test_score']])"
   ],
   "outputs": [
    {
     "output_type": "stream",
     "name": "stderr",
     "text": [
      "D:\\Programas\\anaconda3\\envs\\BCIMusical\\lib\\site-packages\\sklearn\\model_selection\\_search.py:281: UserWarning: The total space of parameters 3 is smaller than n_iter=4. Running 3 iterations. For exhaustive searches, use GridSearchCV.\n",
      "  % (grid_size, self.n_iter, grid_size), UserWarning)\n"
     ]
    },
    {
     "output_type": "stream",
     "name": "stdout",
     "text": [
      "  param_C param_gamma param_tol  mean_test_score\n",
      "0  0.0099        0.35     0.001         0.692084\n",
      "1  0.0099        0.45     0.001         0.640902\n",
      "2  0.0099        0.55     0.001         0.593335\n",
      "Wall time: 21.3 s\n"
     ]
    }
   ],
   "metadata": {}
  },
  {
   "cell_type": "code",
   "execution_count": 15,
   "source": [
    "%%time\n",
    "classifier = SVC(kernel='rbf', max_iter=-1)\n",
    "params = {'C': [2e-2],\n",
    "          'gamma': [3.5e-1, 3e-1, 4.5e-1],\n",
    "          'decision_function_shape': ['ovr'],\n",
    "          'tol': [1e-3]}\n",
    "rs = RandomizedSearchCV(classifier, params, cv=8, scoring='accuracy', n_iter=4)\n",
    "rs.fit(X_train, y_train)\n",
    "print(pd.DataFrame(rs.cv_results_)[['param_C','param_gamma','param_tol','mean_test_score']])"
   ],
   "outputs": [
    {
     "output_type": "stream",
     "name": "stderr",
     "text": [
      "D:\\Programas\\anaconda3\\envs\\BCIMusical\\lib\\site-packages\\sklearn\\model_selection\\_search.py:281: UserWarning: The total space of parameters 3 is smaller than n_iter=4. Running 3 iterations. For exhaustive searches, use GridSearchCV.\n",
      "  % (grid_size, self.n_iter, grid_size), UserWarning)\n"
     ]
    },
    {
     "output_type": "stream",
     "name": "stdout",
     "text": [
      "  param_C param_gamma param_tol  mean_test_score\n",
      "0    0.02        0.35     0.001         0.927166\n",
      "1    0.02         0.3     0.001         0.982590\n",
      "2    0.02        0.45     0.001         0.804635\n",
      "Wall time: 20.7 s\n"
     ]
    }
   ],
   "metadata": {}
  },
  {
   "cell_type": "code",
   "execution_count": 17,
   "source": [
    "%%time\n",
    "classifier = SVC(kernel='rbf', max_iter=-1)\n",
    "params = {'C': [2e-2],\n",
    "          'gamma': [3e-1, 3.5e-1, 4e-1],\n",
    "          'decision_function_shape': ['ovr'],\n",
    "          'tol': [1e-3]}\n",
    "rs = RandomizedSearchCV(classifier, params, cv=8, scoring='accuracy', n_iter=3)\n",
    "rs.fit(X_train, y_train)\n",
    "print(pd.DataFrame(rs.cv_results_)[['param_C','param_gamma','param_tol','mean_test_score']])"
   ],
   "outputs": [
    {
     "output_type": "stream",
     "name": "stdout",
     "text": [
      "  param_C param_gamma param_tol  mean_test_score\n",
      "0    0.02         0.3     0.001         0.982590\n",
      "1    0.02        0.35     0.001         0.927166\n",
      "2    0.02         0.4     0.001         0.866003\n",
      "Wall time: 19.6 s\n"
     ]
    }
   ],
   "metadata": {}
  },
  {
   "cell_type": "code",
   "execution_count": 18,
   "source": [
    "%%time\n",
    "classifier = SVC(kernel='rbf', max_iter=-1)\n",
    "params = {'C': [2e-2],\n",
    "          'gamma': [3e-1, 3.5e-1, 3.6e-1, 3.7e-1, 3.8e-1, 3.9e-1, 4e-1],\n",
    "          'decision_function_shape': ['ovr'],\n",
    "          'tol': [1e-3]}\n",
    "rs = RandomizedSearchCV(classifier, params, cv=8, scoring='accuracy', n_iter=7)\n",
    "rs.fit(X_train, y_train)\n",
    "print(pd.DataFrame(rs.cv_results_)[['param_C','param_gamma','param_tol','mean_test_score']])"
   ],
   "outputs": [
    {
     "output_type": "stream",
     "name": "stdout",
     "text": [
      "  param_C param_gamma param_tol  mean_test_score\n",
      "0    0.02         0.3     0.001         0.982590\n",
      "1    0.02        0.35     0.001         0.927166\n",
      "2    0.02        0.36     0.001         0.915485\n",
      "3    0.02        0.37     0.001         0.903380\n",
      "4    0.02        0.38     0.001         0.891063\n",
      "5    0.02        0.39     0.001         0.879170\n",
      "6    0.02         0.4     0.001         0.866003\n",
      "Wall time: 41.4 s\n"
     ]
    }
   ],
   "metadata": {}
  },
  {
   "cell_type": "code",
   "execution_count": 19,
   "source": [
    "%%time\n",
    "import joblib\n",
    "from sklearn.metrics import classification_report\n",
    "#Dividimos el test set en test y val\n",
    "X_val, X_test, y_val, y_test = train_test_split(X_test, y_test, random_state=3, test_size=2/3)\n",
    "classifier = SVC(kernel='rbf', gamma=0.45, max_iter=-1, C=0.02, tol=0.001, decision_function_shape='ovr')\n",
    "classifier.fit(X_train, y_train)\n",
    "print('Clasifier DONE')\n",
    "y_predict = classifier.predict(X_test)\n",
    "print('TEST SET:')\n",
    "print(classification_report(y_test, y_predict))\n",
    "print('VAL SET:')\n",
    "y_val_predict = classifier.predict(X_val)\n",
    "print(classification_report(y_val, y_val_predict))\n",
    "joblib.dump(classifier, 'D:/Github/eeg.fem/public/data/Musical/5956733/ML_models/Model_RBF_PCA_64')"
   ],
   "outputs": [
    {
     "output_type": "stream",
     "name": "stdout",
     "text": [
      "Clasifier DONE\n",
      "TEST SET:\n",
      "              precision    recall  f1-score   support\n",
      "\n",
      "         1.0       1.00      0.95      0.97       498\n",
      "         2.0       0.73      1.00      0.84       484\n",
      "         3.0       1.00      0.57      0.73       364\n",
      "\n",
      "    accuracy                           0.87      1346\n",
      "   macro avg       0.91      0.84      0.85      1346\n",
      "weighted avg       0.90      0.87      0.86      1346\n",
      "\n",
      "VAL SET:\n",
      "              precision    recall  f1-score   support\n",
      "\n",
      "         1.0       1.00      0.96      0.98       250\n",
      "         2.0       0.74      1.00      0.85       259\n",
      "         3.0       1.00      0.52      0.68       164\n",
      "\n",
      "    accuracy                           0.87       673\n",
      "   macro avg       0.91      0.83      0.84       673\n",
      "weighted avg       0.90      0.87      0.86       673\n",
      "\n",
      "Wall time: 1.78 s\n"
     ]
    }
   ],
   "metadata": {}
  },
  {
   "cell_type": "code",
   "execution_count": 3,
   "metadata": {
    "tags": []
   },
   "outputs": [
    {
     "output_type": "stream",
     "name": "stdout",
     "text": "param_C param_gamma  mean_test_score\n0  0.0099        0.55         0.593335\nWall time: 9.32 s\n"
    }
   ],
   "source": [
    "%%time\n",
    "classifier = SVC(kernel='rbf', max_iter=-1 ,decision_function_shape='ovr', tol=1e-3)\n",
    "params = {'C': [0.0099],\n",
    "          'gamma': [0.55]}\n",
    "rs = RandomizedSearchCV(classifier, params, cv=8, scoring='accuracy', n_iter=1)\n",
    "rs.fit(X_train, y_train)\n",
    "print(pd.DataFrame(rs.cv_results_)[['param_C','param_gamma','mean_test_score']])"
   ]
  },
  {
   "cell_type": "code",
   "execution_count": 3,
   "source": [
    "%%time\n",
    "import joblib\n",
    "from sklearn.metrics import classification_report\n",
    "#Dividimos el test set en test y val\n",
    "X_val, X_test, y_val, y_test = train_test_split(X_test, y_test, random_state=3, test_size=2/3)\n",
    "classifier = SVC(kernel='rbf', gamma=0.55, max_iter=-1, C=0.0099, tol=0.001, decision_function_shape='ovr')\n",
    "classifier.fit(X_train, y_train)\n",
    "print('Clasifier DONE')\n",
    "y_predict = classifier.predict(X_test)\n",
    "print('TEST SET:')\n",
    "print(classification_report(y_test, y_predict))\n",
    "print('VAL SET:')\n",
    "y_val_predict = classifier.predict(X_val)\n",
    "print(classification_report(y_val, y_val_predict))\n",
    "joblib.dump(classifier, 'D:/Github/eeg.fem/public/data/Musical/5956733/ML_models/Model_RBF_PCA_64')"
   ],
   "outputs": [
    {
     "output_type": "stream",
     "name": "stdout",
     "text": [
      "Clasifier DONE\n",
      "TEST SET:\n",
      "              precision    recall  f1-score   support\n",
      "\n",
      "         1.0       1.00      0.68      0.81       498\n",
      "         2.0       0.48      1.00      0.65       484\n",
      "         3.0       1.00      0.00      0.01       364\n",
      "\n",
      "    accuracy                           0.61      1346\n",
      "   macro avg       0.83      0.56      0.49      1346\n",
      "weighted avg       0.81      0.61      0.53      1346\n",
      "\n",
      "VAL SET:\n",
      "              precision    recall  f1-score   support\n",
      "\n",
      "         1.0       1.00      0.73      0.84       250\n",
      "         2.0       0.53      1.00      0.69       259\n",
      "         3.0       0.00      0.00      0.00       164\n",
      "\n",
      "    accuracy                           0.66       673\n",
      "   macro avg       0.51      0.58      0.51       673\n",
      "weighted avg       0.57      0.66      0.58       673\n",
      "\n",
      "Wall time: 1.62 s\n"
     ]
    },
    {
     "output_type": "stream",
     "name": "stderr",
     "text": [
      "D:\\Programas\\anaconda3\\envs\\BCIMusical\\lib\\site-packages\\sklearn\\metrics\\_classification.py:1272: UndefinedMetricWarning: Precision and F-score are ill-defined and being set to 0.0 in labels with no predicted samples. Use `zero_division` parameter to control this behavior.\n",
      "  _warn_prf(average, modifier, msg_start, len(result))\n"
     ]
    }
   ],
   "metadata": {
    "pycharm": {
     "name": "#%%\n"
    }
   }
  },
  {
   "cell_type": "code",
   "execution_count": null,
   "outputs": [],
   "source": [
    "import matplotlib.pyplot as plt\n",
    "\n",
    "c_param = ['2.5e-2',' 9.9e-3', '2e-2']\n",
    "gamma_param = ['7.5e-2', '1e-1', '1']\n",
    "\n",
    "test_score = np.array(([0.999363, 0.998089, 0.542792],[0.728605, 0.841792, 0.368869],[0.999575,0.998726,0.519008]))\n",
    "figure = plt.figure()\n",
    "axes = figure.add_subplot(111)\n",
    "\n",
    "# using the matshow() function\n",
    "caxes = axes.matshow(test_score, interpolation ='nearest')\n",
    "figure.colorbar(caxes)\n",
    "\n",
    "axes.set_xticklabels(['']+c_param)\n",
    "axes.set_yticklabels(['']+gamma_param)\n",
    "plt.show()"
   ],
   "metadata": {
    "collapsed": false,
    "pycharm": {
     "name": "#%%\n"
    }
   }
  },
  {
   "cell_type": "code",
   "execution_count": null,
   "outputs": [],
   "source": [
    "import matplotlib.pyplot as plt\n",
    "\n",
    "c_param = ['2.5e-2',' 9.9e-3', '2e-2']\n",
    "gamma_param = ['7.5e-2', '1e-1', '1']\n",
    "\n",
    "test_score = np.array(([0.999363, 0.998089, 0.542792],[0.728605, 0.841792, 0.368869],[0.999575,0.998726,0.519008]))\n",
    "\n",
    "fig, ax = plt.subplots()\n",
    "shw = ax.imshow(test_score)\n",
    "bar = plt.colorbar(shw)\n",
    "plt.ylabel('C')\n",
    "plt.xlabel('gamma')\n",
    "plt.show()"
   ],
   "metadata": {
    "collapsed": false,
    "pycharm": {
     "name": "#%%\n"
    }
   }
  }
 ],
 "metadata": {
  "orig_nbformat": 4,
  "language_info": {
   "name": "python",
   "version": "3.6.13-final",
   "mimetype": "text/x-python",
   "codemirror_mode": {
    "name": "ipython",
    "version": 3
   },
   "pygments_lexer": "ipython3",
   "nbconvert_exporter": "python",
   "file_extension": ".py"
  },
  "kernelspec": {
   "name": "python361364bitbcimusicalcondae85380e674b24bdb93e8f1c1ae5acdff",
   "display_name": "Python 3.6.13 64-bit ('BCIMusical': conda)"
  },
  "interpreter": {
   "hash": "f9ecac2d14d2bb269a4709d9862e512850489fa6d8ba68695ffcc8a638687dcf"
  }
 },
 "nbformat": 4,
 "nbformat_minor": 2
}