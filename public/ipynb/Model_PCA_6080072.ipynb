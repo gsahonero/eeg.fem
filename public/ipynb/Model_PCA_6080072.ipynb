{
 "cells": [
  {
   "cell_type": "code",
   "execution_count": 12,
   "source": [
    "import numpy as np\r\n",
    "from sklearn.svm import SVC\r\n",
    "from sklearn.model_selection import train_test_split\r\n",
    "from sklearn.model_selection import RandomizedSearchCV\r\n",
    "import pandas as pd"
   ],
   "outputs": [],
   "metadata": {}
  },
  {
   "cell_type": "code",
   "execution_count": 13,
   "source": [
    "df = np.genfromtxt('D:/Github/eeg.fem/public/data/Musical/6080072/data_for_train/ALL_PCA_64.csv',delimiter=',')\r\n",
    "x = df[:, :-1]\r\n",
    "y = df[:, -1]\r\n",
    "X_train, X_test, y_train, y_test = train_test_split(x, y, random_state=3, test_size=0.3)"
   ],
   "outputs": [],
   "metadata": {}
  },
  {
   "cell_type": "code",
   "execution_count": 3,
   "source": [
    "%%time\r\n",
    "classifier = SVC(kernel='rbf', max_iter=-1 ,decision_function_shape='ovr', tol=1e-3)\r\n",
    "params = {'C': [1e-5, 1, 1e5],\r\n",
    "          'gamma': [1e-5, 'scale', 1e5]}\r\n",
    "rs = RandomizedSearchCV(classifier, params, cv=8, scoring='accuracy', n_iter=9)\r\n",
    "rs.fit(X_train, y_train)\r\n",
    "print(pd.DataFrame(rs.cv_results_)[['param_C','param_gamma','mean_test_score']])"
   ],
   "outputs": [
    {
     "output_type": "stream",
     "name": "stdout",
     "text": [
      "  param_C param_gamma  mean_test_score\n",
      "0   1e-05       1e-05         0.365470\n",
      "1   1e-05       scale         0.365470\n",
      "2   1e-05      100000         0.365470\n",
      "3       1       1e-05         0.365470\n",
      "4       1       scale         0.999787\n",
      "5       1      100000         0.365470\n",
      "6  100000       1e-05         1.000000\n",
      "7  100000       scale         0.999787\n",
      "8  100000      100000         0.365470\n",
      "Wall time: 1min 46s\n"
     ]
    }
   ],
   "metadata": {}
  },
  {
   "cell_type": "code",
   "execution_count": 4,
   "source": [
    "%%time\r\n",
    "classifier = SVC(kernel='rbf', max_iter=-1 ,decision_function_shape='ovr', tol=1e-3)\r\n",
    "params = {'C': [1e-1, 1, 1e3, 1e5],\r\n",
    "          'gamma': [1e-6, 1e-5, 1e-4,'scale']}\r\n",
    "rs = RandomizedSearchCV(classifier, params, cv=8, scoring='accuracy', n_iter=16)\r\n",
    "rs.fit(X_train, y_train)\r\n",
    "print(pd.DataFrame(rs.cv_results_)[['param_C','param_gamma','mean_test_score']])"
   ],
   "outputs": [
    {
     "output_type": "stream",
     "name": "stdout",
     "text": [
      "   param_C param_gamma  mean_test_score\n",
      "0      0.1       1e-06         0.365470\n",
      "1      0.1       1e-05         0.365470\n",
      "2      0.1      0.0001         0.365470\n",
      "3      0.1       scale         0.998089\n",
      "4        1       1e-06         0.365470\n",
      "5        1       1e-05         0.365470\n",
      "6        1      0.0001         0.365470\n",
      "7        1       scale         0.999787\n",
      "8     1000       1e-06         1.000000\n",
      "9     1000       1e-05         1.000000\n",
      "10    1000      0.0001         1.000000\n",
      "11    1000       scale         0.999787\n",
      "12  100000       1e-06         1.000000\n",
      "13  100000       1e-05         1.000000\n",
      "14  100000      0.0001         1.000000\n",
      "15  100000       scale         0.999787\n",
      "Wall time: 1min 20s\n"
     ]
    }
   ],
   "metadata": {}
  },
  {
   "cell_type": "code",
   "execution_count": 5,
   "source": [
    "%%time\r\n",
    "classifier = SVC(kernel='rbf', max_iter=-1 ,decision_function_shape='ovr', tol=1e-3)\r\n",
    "params = {'C': [1e-2, 1, 1e3],\r\n",
    "          'gamma': [1e-6, 1e-5, 1e-4,'scale']}\r\n",
    "rs = RandomizedSearchCV(classifier, params, cv=8, scoring='accuracy', n_iter=12)\r\n",
    "rs.fit(X_train, y_train)\r\n",
    "print(pd.DataFrame(rs.cv_results_)[['param_C','param_gamma','mean_test_score']])"
   ],
   "outputs": [
    {
     "output_type": "stream",
     "name": "stdout",
     "text": [
      "   param_C param_gamma  mean_test_score\n",
      "0     0.01       1e-06         0.365470\n",
      "1     0.01       1e-05         0.365470\n",
      "2     0.01      0.0001         0.365470\n",
      "3     0.01       scale         0.997027\n",
      "4        1       1e-06         0.365470\n",
      "5        1       1e-05         0.365470\n",
      "6        1      0.0001         0.365470\n",
      "7        1       scale         0.999787\n",
      "8     1000       1e-06         1.000000\n",
      "9     1000       1e-05         1.000000\n",
      "10    1000      0.0001         1.000000\n",
      "11    1000       scale         0.999787\n",
      "Wall time: 1min 17s\n"
     ]
    }
   ],
   "metadata": {}
  },
  {
   "cell_type": "code",
   "execution_count": 6,
   "source": [
    "%%time\r\n",
    "classifier = SVC(kernel='rbf', max_iter=-1 ,decision_function_shape='ovr', tol=1e-3)\r\n",
    "params = {'C': [1e-2, 1, 1e1],\r\n",
    "          'gamma': [1e-6, 1e-5, 1e-4,'scale']}\r\n",
    "rs = RandomizedSearchCV(classifier, params, cv=8, scoring='accuracy', n_iter=12)\r\n",
    "rs.fit(X_train, y_train)\r\n",
    "print(pd.DataFrame(rs.cv_results_)[['param_C','param_gamma','mean_test_score']])"
   ],
   "outputs": [
    {
     "output_type": "stream",
     "name": "stdout",
     "text": [
      "   param_C param_gamma  mean_test_score\n",
      "0     0.01       1e-06         0.365470\n",
      "1     0.01       1e-05         0.365470\n",
      "2     0.01      0.0001         0.365470\n",
      "3     0.01       scale         0.997027\n",
      "4        1       1e-06         0.365470\n",
      "5        1       1e-05         0.365470\n",
      "6        1      0.0001         0.365470\n",
      "7        1       scale         0.999787\n",
      "8       10       1e-06         0.365470\n",
      "9       10       1e-05         0.365470\n",
      "10      10      0.0001         1.000000\n",
      "11      10       scale         0.999787\n",
      "Wall time: 1min 15s\n"
     ]
    }
   ],
   "metadata": {}
  },
  {
   "cell_type": "code",
   "execution_count": 7,
   "source": [
    "%%time\r\n",
    "classifier = SVC(kernel='rbf', max_iter=-1 ,decision_function_shape='ovr', tol=1e-3)\r\n",
    "params = {'C': [1e-2, 1, 1e1],\r\n",
    "          'gamma': [1e-4, 1e-3,'scale']}\r\n",
    "rs = RandomizedSearchCV(classifier, params, cv=8, scoring='accuracy', n_iter=9)\r\n",
    "rs.fit(X_train, y_train)\r\n",
    "print(pd.DataFrame(rs.cv_results_)[['param_C','param_gamma','mean_test_score']])"
   ],
   "outputs": [
    {
     "output_type": "stream",
     "name": "stdout",
     "text": [
      "  param_C param_gamma  mean_test_score\n",
      "0    0.01      0.0001         0.365470\n",
      "1    0.01       0.001         0.365470\n",
      "2    0.01       scale         0.997027\n",
      "3       1      0.0001         0.365470\n",
      "4       1       0.001         1.000000\n",
      "5       1       scale         0.999787\n",
      "6      10      0.0001         1.000000\n",
      "7      10       0.001         1.000000\n",
      "8      10       scale         0.999787\n",
      "Wall time: 48.2 s\n"
     ]
    }
   ],
   "metadata": {}
  },
  {
   "cell_type": "code",
   "execution_count": 8,
   "source": [
    "%%time\r\n",
    "classifier = SVC(kernel='rbf', max_iter=-1 ,decision_function_shape='ovr', tol=1e-3)\r\n",
    "params = {'C': [1e-1, 1, 1e1],\r\n",
    "          'gamma': [1e-4, 1e-3,'scale']}\r\n",
    "rs = RandomizedSearchCV(classifier, params, cv=8, scoring='accuracy', n_iter=9)\r\n",
    "rs.fit(X_train, y_train)\r\n",
    "print(pd.DataFrame(rs.cv_results_)[['param_C','param_gamma','mean_test_score']])"
   ],
   "outputs": [
    {
     "output_type": "stream",
     "name": "stdout",
     "text": [
      "  param_C param_gamma  mean_test_score\n",
      "0     0.1      0.0001         0.365470\n",
      "1     0.1       0.001         0.365470\n",
      "2     0.1       scale         0.998089\n",
      "3       1      0.0001         0.365470\n",
      "4       1       0.001         1.000000\n",
      "5       1       scale         0.999787\n",
      "6      10      0.0001         1.000000\n",
      "7      10       0.001         1.000000\n",
      "8      10       scale         0.999787\n",
      "Wall time: 38.9 s\n"
     ]
    }
   ],
   "metadata": {}
  },
  {
   "cell_type": "code",
   "execution_count": 9,
   "source": [
    "%%time\r\n",
    "classifier = SVC(kernel='rbf', max_iter=-1 ,decision_function_shape='ovr', tol=1e-3)\r\n",
    "params = {'C': [5e-1, 1, 1e1],\r\n",
    "          'gamma': [1e-4, 1e-3,'scale']}\r\n",
    "rs = RandomizedSearchCV(classifier, params, cv=8, scoring='accuracy', n_iter=9)\r\n",
    "rs.fit(X_train, y_train)\r\n",
    "print(pd.DataFrame(rs.cv_results_)[['param_C','param_gamma','mean_test_score']])"
   ],
   "outputs": [
    {
     "output_type": "stream",
     "name": "stdout",
     "text": [
      "  param_C param_gamma  mean_test_score\n",
      "0     0.5      0.0001         0.365470\n",
      "1     0.5       0.001         1.000000\n",
      "2     0.5       scale         0.999787\n",
      "3       1      0.0001         0.365470\n",
      "4       1       0.001         1.000000\n",
      "5       1       scale         0.999787\n",
      "6      10      0.0001         1.000000\n",
      "7      10       0.001         1.000000\n",
      "8      10       scale         0.999787\n",
      "Wall time: 46.6 s\n"
     ]
    }
   ],
   "metadata": {}
  },
  {
   "cell_type": "code",
   "execution_count": 10,
   "source": [
    "%%time\r\n",
    "classifier = SVC(kernel='rbf', max_iter=-1 ,decision_function_shape='ovr', tol=1e-3)\r\n",
    "params = {'C': [5e-1, 2.5e-1, 1],\r\n",
    "          'gamma': [1e-4, 1e-3,'scale']}\r\n",
    "rs = RandomizedSearchCV(classifier, params, cv=8, scoring='accuracy', n_iter=9)\r\n",
    "rs.fit(X_train, y_train)\r\n",
    "print(pd.DataFrame(rs.cv_results_)[['param_C','param_gamma','mean_test_score']])"
   ],
   "outputs": [
    {
     "output_type": "stream",
     "name": "stdout",
     "text": [
      "  param_C param_gamma  mean_test_score\n",
      "0     0.5      0.0001         0.365470\n",
      "1     0.5       0.001         1.000000\n",
      "2     0.5       scale         0.999787\n",
      "3    0.25      0.0001         0.365470\n",
      "4    0.25       0.001         0.365470\n",
      "5    0.25       scale         0.999363\n",
      "6       1      0.0001         0.365470\n",
      "7       1       0.001         1.000000\n",
      "8       1       scale         0.999787\n",
      "Wall time: 42 s\n"
     ]
    }
   ],
   "metadata": {}
  },
  {
   "cell_type": "code",
   "execution_count": 11,
   "source": [
    "%%time\r\n",
    "classifier = SVC(kernel='rbf', max_iter=-1 ,decision_function_shape='ovr', tol=1e-3)\r\n",
    "params = {'C': [5e-2, 1.5e-1, 2.5e-1],\r\n",
    "          'gamma': [1e-4, 1e-3,'scale']}\r\n",
    "rs = RandomizedSearchCV(classifier, params, cv=8, scoring='accuracy', n_iter=9)\r\n",
    "rs.fit(X_train, y_train)\r\n",
    "print(pd.DataFrame(rs.cv_results_)[['param_C','param_gamma','mean_test_score']])"
   ],
   "outputs": [
    {
     "output_type": "stream",
     "name": "stdout",
     "text": [
      "  param_C param_gamma  mean_test_score\n",
      "0    0.05      0.0001         0.365470\n",
      "1    0.05       0.001         0.365470\n",
      "2    0.05       scale         0.997664\n",
      "3    0.15      0.0001         0.365470\n",
      "4    0.15       0.001         0.365470\n",
      "5    0.15       scale         0.998939\n",
      "6    0.25      0.0001         0.365470\n",
      "7    0.25       0.001         0.365470\n",
      "8    0.25       scale         0.999363\n",
      "Wall time: 59.2 s\n"
     ]
    }
   ],
   "metadata": {}
  },
  {
   "cell_type": "code",
   "execution_count": 14,
   "source": [
    "%%time\r\n",
    "classifier = SVC(kernel='rbf', max_iter=-1 ,decision_function_shape='ovr', tol=1e-3)\r\n",
    "params = {'C': [5e-2, 1.5e-1, 2.5e-1],\r\n",
    "          'gamma': [1e-4, 1e-3,'scale']}\r\n",
    "rs = RandomizedSearchCV(classifier, params, cv=8, scoring='accuracy', n_iter=9)\r\n",
    "rs.fit(X_train, y_train)\r\n",
    "print(pd.DataFrame(rs.cv_results_)[['param_C','param_gamma','mean_test_score']])"
   ],
   "outputs": [
    {
     "output_type": "stream",
     "name": "stdout",
     "text": [
      "  param_C param_gamma  mean_test_score\n",
      "0    0.05      0.0001         0.365470\n",
      "1    0.05       0.001         0.365470\n",
      "2    0.05       scale         0.997664\n",
      "3    0.15      0.0001         0.365470\n",
      "4    0.15       0.001         0.365470\n",
      "5    0.15       scale         0.998939\n",
      "6    0.25      0.0001         0.365470\n",
      "7    0.25       0.001         0.365470\n",
      "8    0.25       scale         0.999363\n",
      "Wall time: 1min 9s\n"
     ]
    }
   ],
   "metadata": {}
  },
  {
   "cell_type": "code",
   "execution_count": 15,
   "source": [
    "%%time\r\n",
    "classifier = SVC(kernel='rbf', max_iter=-1 ,decision_function_shape='ovr', tol=1e-3)\r\n",
    "params = {'C': [1e-3, 1.5e-1, 2.5e-1],\r\n",
    "          'gamma': [1e-4, 1e-3,'scale']}\r\n",
    "rs = RandomizedSearchCV(classifier, params, cv=8, scoring='accuracy', n_iter=9)\r\n",
    "rs.fit(X_train, y_train)\r\n",
    "print(pd.DataFrame(rs.cv_results_)[['param_C','param_gamma','mean_test_score']])"
   ],
   "outputs": [
    {
     "output_type": "stream",
     "name": "stdout",
     "text": [
      "  param_C param_gamma  mean_test_score\n",
      "0   0.001      0.0001         0.365470\n",
      "1   0.001       0.001         0.365470\n",
      "2   0.001       scale         0.365470\n",
      "3    0.15      0.0001         0.365470\n",
      "4    0.15       0.001         0.365470\n",
      "5    0.15       scale         0.998939\n",
      "6    0.25      0.0001         0.365470\n",
      "7    0.25       0.001         0.365470\n",
      "8    0.25       scale         0.999363\n",
      "Wall time: 1min 8s\n"
     ]
    }
   ],
   "metadata": {}
  },
  {
   "cell_type": "code",
   "execution_count": 16,
   "source": [
    "%%time\r\n",
    "classifier = SVC(kernel='rbf', max_iter=-1 ,decision_function_shape='ovr')\r\n",
    "params = {'C': [1e-3, 2e-3, 3e-3, 4e-3, 5e-3, 6e-3, 7e-3, 8e-3, 9e-3],\r\n",
    "          'gamma': ['scale'],\r\n",
    "          'tol': [1e-5, 1e-3, 1]}\r\n",
    "rs = RandomizedSearchCV(classifier, params, cv=8, scoring='accuracy', n_iter=27)\r\n",
    "rs.fit(X_train, y_train)\r\n",
    "print(pd.DataFrame(rs.cv_results_)[['param_C','param_gamma','param_tol','mean_test_score']])"
   ],
   "outputs": [
    {
     "output_type": "error",
     "ename": "KeyError",
     "evalue": "\"['para_tol'] not in index\"",
     "traceback": [
      "\u001b[1;31m---------------------------------------------------------------------------\u001b[0m",
      "\u001b[1;31mKeyError\u001b[0m                                  Traceback (most recent call last)",
      "\u001b[1;32m<ipython-input-16-b7ebe0e36914>\u001b[0m in \u001b[0;36m<module>\u001b[1;34m()\u001b[0m\n\u001b[1;32m----> 1\u001b[1;33m \u001b[0mget_ipython\u001b[0m\u001b[1;33m(\u001b[0m\u001b[1;33m)\u001b[0m\u001b[1;33m.\u001b[0m\u001b[0mrun_cell_magic\u001b[0m\u001b[1;33m(\u001b[0m\u001b[1;34m'time'\u001b[0m\u001b[1;33m,\u001b[0m \u001b[1;34m''\u001b[0m\u001b[1;33m,\u001b[0m \u001b[1;34m\"classifier = SVC(kernel='rbf', max_iter=-1 ,decision_function_shape='ovr')\\nparams = {'C': [1e-3, 2e-3, 3e-3, 4e-3, 5e-3, 6e-3, 7e-3, 8e-3, 9e-3],\\n          'gamma': ['scale'],\\n          'tol': [1e-5, 1e-3, 1]}\\nrs = RandomizedSearchCV(classifier, params, cv=8, scoring='accuracy', n_iter=27)\\nrs.fit(X_train, y_train)\\nprint(pd.DataFrame(rs.cv_results_)[['param_C','param_gamma','para_tol','mean_test_score']])\"\u001b[0m\u001b[1;33m)\u001b[0m\u001b[1;33m\u001b[0m\u001b[1;33m\u001b[0m\u001b[0m\n\u001b[0m",
      "\u001b[1;32mD:\\Programas\\anaconda3\\envs\\BCIMusical\\lib\\site-packages\\IPython\\core\\interactiveshell.py\u001b[0m in \u001b[0;36mrun_cell_magic\u001b[1;34m(self, magic_name, line, cell)\u001b[0m\n\u001b[0;32m   2115\u001b[0m             \u001b[0mmagic_arg_s\u001b[0m \u001b[1;33m=\u001b[0m \u001b[0mself\u001b[0m\u001b[1;33m.\u001b[0m\u001b[0mvar_expand\u001b[0m\u001b[1;33m(\u001b[0m\u001b[0mline\u001b[0m\u001b[1;33m,\u001b[0m \u001b[0mstack_depth\u001b[0m\u001b[1;33m)\u001b[0m\u001b[1;33m\u001b[0m\u001b[1;33m\u001b[0m\u001b[0m\n\u001b[0;32m   2116\u001b[0m             \u001b[1;32mwith\u001b[0m \u001b[0mself\u001b[0m\u001b[1;33m.\u001b[0m\u001b[0mbuiltin_trap\u001b[0m\u001b[1;33m:\u001b[0m\u001b[1;33m\u001b[0m\u001b[1;33m\u001b[0m\u001b[0m\n\u001b[1;32m-> 2117\u001b[1;33m                 \u001b[0mresult\u001b[0m \u001b[1;33m=\u001b[0m \u001b[0mfn\u001b[0m\u001b[1;33m(\u001b[0m\u001b[0mmagic_arg_s\u001b[0m\u001b[1;33m,\u001b[0m \u001b[0mcell\u001b[0m\u001b[1;33m)\u001b[0m\u001b[1;33m\u001b[0m\u001b[1;33m\u001b[0m\u001b[0m\n\u001b[0m\u001b[0;32m   2118\u001b[0m             \u001b[1;32mreturn\u001b[0m \u001b[0mresult\u001b[0m\u001b[1;33m\u001b[0m\u001b[1;33m\u001b[0m\u001b[0m\n\u001b[0;32m   2119\u001b[0m \u001b[1;33m\u001b[0m\u001b[0m\n",
      "\u001b[1;32mD:\\Programas\\anaconda3\\envs\\BCIMusical\\lib\\site-packages\\decorator.py\u001b[0m in \u001b[0;36mfun\u001b[1;34m(*args, **kw)\u001b[0m\n\u001b[0;32m    230\u001b[0m             \u001b[1;32mif\u001b[0m \u001b[1;32mnot\u001b[0m \u001b[0mkwsyntax\u001b[0m\u001b[1;33m:\u001b[0m\u001b[1;33m\u001b[0m\u001b[1;33m\u001b[0m\u001b[0m\n\u001b[0;32m    231\u001b[0m                 \u001b[0margs\u001b[0m\u001b[1;33m,\u001b[0m \u001b[0mkw\u001b[0m \u001b[1;33m=\u001b[0m \u001b[0mfix\u001b[0m\u001b[1;33m(\u001b[0m\u001b[0margs\u001b[0m\u001b[1;33m,\u001b[0m \u001b[0mkw\u001b[0m\u001b[1;33m,\u001b[0m \u001b[0msig\u001b[0m\u001b[1;33m)\u001b[0m\u001b[1;33m\u001b[0m\u001b[1;33m\u001b[0m\u001b[0m\n\u001b[1;32m--> 232\u001b[1;33m             \u001b[1;32mreturn\u001b[0m \u001b[0mcaller\u001b[0m\u001b[1;33m(\u001b[0m\u001b[0mfunc\u001b[0m\u001b[1;33m,\u001b[0m \u001b[1;33m*\u001b[0m\u001b[1;33m(\u001b[0m\u001b[0mextras\u001b[0m \u001b[1;33m+\u001b[0m \u001b[0margs\u001b[0m\u001b[1;33m)\u001b[0m\u001b[1;33m,\u001b[0m \u001b[1;33m**\u001b[0m\u001b[0mkw\u001b[0m\u001b[1;33m)\u001b[0m\u001b[1;33m\u001b[0m\u001b[1;33m\u001b[0m\u001b[0m\n\u001b[0m\u001b[0;32m    233\u001b[0m     \u001b[0mfun\u001b[0m\u001b[1;33m.\u001b[0m\u001b[0m__name__\u001b[0m \u001b[1;33m=\u001b[0m \u001b[0mfunc\u001b[0m\u001b[1;33m.\u001b[0m\u001b[0m__name__\u001b[0m\u001b[1;33m\u001b[0m\u001b[1;33m\u001b[0m\u001b[0m\n\u001b[0;32m    234\u001b[0m     \u001b[0mfun\u001b[0m\u001b[1;33m.\u001b[0m\u001b[0m__doc__\u001b[0m \u001b[1;33m=\u001b[0m \u001b[0mfunc\u001b[0m\u001b[1;33m.\u001b[0m\u001b[0m__doc__\u001b[0m\u001b[1;33m\u001b[0m\u001b[1;33m\u001b[0m\u001b[0m\n",
      "\u001b[1;32mD:\\Programas\\anaconda3\\envs\\BCIMusical\\lib\\site-packages\\IPython\\core\\magic.py\u001b[0m in \u001b[0;36m<lambda>\u001b[1;34m(f, *a, **k)\u001b[0m\n\u001b[0;32m    186\u001b[0m     \u001b[1;31m# but it's overkill for just that one bit of state.\u001b[0m\u001b[1;33m\u001b[0m\u001b[1;33m\u001b[0m\u001b[1;33m\u001b[0m\u001b[0m\n\u001b[0;32m    187\u001b[0m     \u001b[1;32mdef\u001b[0m \u001b[0mmagic_deco\u001b[0m\u001b[1;33m(\u001b[0m\u001b[0marg\u001b[0m\u001b[1;33m)\u001b[0m\u001b[1;33m:\u001b[0m\u001b[1;33m\u001b[0m\u001b[1;33m\u001b[0m\u001b[0m\n\u001b[1;32m--> 188\u001b[1;33m         \u001b[0mcall\u001b[0m \u001b[1;33m=\u001b[0m \u001b[1;32mlambda\u001b[0m \u001b[0mf\u001b[0m\u001b[1;33m,\u001b[0m \u001b[1;33m*\u001b[0m\u001b[0ma\u001b[0m\u001b[1;33m,\u001b[0m \u001b[1;33m**\u001b[0m\u001b[0mk\u001b[0m\u001b[1;33m:\u001b[0m \u001b[0mf\u001b[0m\u001b[1;33m(\u001b[0m\u001b[1;33m*\u001b[0m\u001b[0ma\u001b[0m\u001b[1;33m,\u001b[0m \u001b[1;33m**\u001b[0m\u001b[0mk\u001b[0m\u001b[1;33m)\u001b[0m\u001b[1;33m\u001b[0m\u001b[1;33m\u001b[0m\u001b[0m\n\u001b[0m\u001b[0;32m    189\u001b[0m \u001b[1;33m\u001b[0m\u001b[0m\n\u001b[0;32m    190\u001b[0m         \u001b[1;32mif\u001b[0m \u001b[0mcallable\u001b[0m\u001b[1;33m(\u001b[0m\u001b[0marg\u001b[0m\u001b[1;33m)\u001b[0m\u001b[1;33m:\u001b[0m\u001b[1;33m\u001b[0m\u001b[1;33m\u001b[0m\u001b[0m\n",
      "\u001b[1;32mD:\\Programas\\anaconda3\\envs\\BCIMusical\\lib\\site-packages\\IPython\\core\\magics\\execution.py\u001b[0m in \u001b[0;36mtime\u001b[1;34m(self, line, cell, local_ns)\u001b[0m\n\u001b[0;32m   1191\u001b[0m         \u001b[1;32melse\u001b[0m\u001b[1;33m:\u001b[0m\u001b[1;33m\u001b[0m\u001b[1;33m\u001b[0m\u001b[0m\n\u001b[0;32m   1192\u001b[0m             \u001b[0mst\u001b[0m \u001b[1;33m=\u001b[0m \u001b[0mclock2\u001b[0m\u001b[1;33m(\u001b[0m\u001b[1;33m)\u001b[0m\u001b[1;33m\u001b[0m\u001b[1;33m\u001b[0m\u001b[0m\n\u001b[1;32m-> 1193\u001b[1;33m             \u001b[0mexec\u001b[0m\u001b[1;33m(\u001b[0m\u001b[0mcode\u001b[0m\u001b[1;33m,\u001b[0m \u001b[0mglob\u001b[0m\u001b[1;33m,\u001b[0m \u001b[0mlocal_ns\u001b[0m\u001b[1;33m)\u001b[0m\u001b[1;33m\u001b[0m\u001b[1;33m\u001b[0m\u001b[0m\n\u001b[0m\u001b[0;32m   1194\u001b[0m             \u001b[0mend\u001b[0m \u001b[1;33m=\u001b[0m \u001b[0mclock2\u001b[0m\u001b[1;33m(\u001b[0m\u001b[1;33m)\u001b[0m\u001b[1;33m\u001b[0m\u001b[1;33m\u001b[0m\u001b[0m\n\u001b[0;32m   1195\u001b[0m             \u001b[0mout\u001b[0m \u001b[1;33m=\u001b[0m \u001b[1;32mNone\u001b[0m\u001b[1;33m\u001b[0m\u001b[1;33m\u001b[0m\u001b[0m\n",
      "\u001b[1;32m<timed exec>\u001b[0m in \u001b[0;36m<module>\u001b[1;34m()\u001b[0m\n",
      "\u001b[1;32mD:\\Programas\\anaconda3\\envs\\BCIMusical\\lib\\site-packages\\pandas\\core\\frame.py\u001b[0m in \u001b[0;36m__getitem__\u001b[1;34m(self, key)\u001b[0m\n\u001b[0;32m   2910\u001b[0m             \u001b[1;32mif\u001b[0m \u001b[0mis_iterator\u001b[0m\u001b[1;33m(\u001b[0m\u001b[0mkey\u001b[0m\u001b[1;33m)\u001b[0m\u001b[1;33m:\u001b[0m\u001b[1;33m\u001b[0m\u001b[1;33m\u001b[0m\u001b[0m\n\u001b[0;32m   2911\u001b[0m                 \u001b[0mkey\u001b[0m \u001b[1;33m=\u001b[0m \u001b[0mlist\u001b[0m\u001b[1;33m(\u001b[0m\u001b[0mkey\u001b[0m\u001b[1;33m)\u001b[0m\u001b[1;33m\u001b[0m\u001b[1;33m\u001b[0m\u001b[0m\n\u001b[1;32m-> 2912\u001b[1;33m             \u001b[0mindexer\u001b[0m \u001b[1;33m=\u001b[0m \u001b[0mself\u001b[0m\u001b[1;33m.\u001b[0m\u001b[0mloc\u001b[0m\u001b[1;33m.\u001b[0m\u001b[0m_get_listlike_indexer\u001b[0m\u001b[1;33m(\u001b[0m\u001b[0mkey\u001b[0m\u001b[1;33m,\u001b[0m \u001b[0maxis\u001b[0m\u001b[1;33m=\u001b[0m\u001b[1;36m1\u001b[0m\u001b[1;33m,\u001b[0m \u001b[0mraise_missing\u001b[0m\u001b[1;33m=\u001b[0m\u001b[1;32mTrue\u001b[0m\u001b[1;33m)\u001b[0m\u001b[1;33m[\u001b[0m\u001b[1;36m1\u001b[0m\u001b[1;33m]\u001b[0m\u001b[1;33m\u001b[0m\u001b[1;33m\u001b[0m\u001b[0m\n\u001b[0m\u001b[0;32m   2913\u001b[0m \u001b[1;33m\u001b[0m\u001b[0m\n\u001b[0;32m   2914\u001b[0m         \u001b[1;31m# take() does not accept boolean indexers\u001b[0m\u001b[1;33m\u001b[0m\u001b[1;33m\u001b[0m\u001b[1;33m\u001b[0m\u001b[0m\n",
      "\u001b[1;32mD:\\Programas\\anaconda3\\envs\\BCIMusical\\lib\\site-packages\\pandas\\core\\indexing.py\u001b[0m in \u001b[0;36m_get_listlike_indexer\u001b[1;34m(self, key, axis, raise_missing)\u001b[0m\n\u001b[0;32m   1252\u001b[0m             \u001b[0mkeyarr\u001b[0m\u001b[1;33m,\u001b[0m \u001b[0mindexer\u001b[0m\u001b[1;33m,\u001b[0m \u001b[0mnew_indexer\u001b[0m \u001b[1;33m=\u001b[0m \u001b[0max\u001b[0m\u001b[1;33m.\u001b[0m\u001b[0m_reindex_non_unique\u001b[0m\u001b[1;33m(\u001b[0m\u001b[0mkeyarr\u001b[0m\u001b[1;33m)\u001b[0m\u001b[1;33m\u001b[0m\u001b[1;33m\u001b[0m\u001b[0m\n\u001b[0;32m   1253\u001b[0m \u001b[1;33m\u001b[0m\u001b[0m\n\u001b[1;32m-> 1254\u001b[1;33m         \u001b[0mself\u001b[0m\u001b[1;33m.\u001b[0m\u001b[0m_validate_read_indexer\u001b[0m\u001b[1;33m(\u001b[0m\u001b[0mkeyarr\u001b[0m\u001b[1;33m,\u001b[0m \u001b[0mindexer\u001b[0m\u001b[1;33m,\u001b[0m \u001b[0maxis\u001b[0m\u001b[1;33m,\u001b[0m \u001b[0mraise_missing\u001b[0m\u001b[1;33m=\u001b[0m\u001b[0mraise_missing\u001b[0m\u001b[1;33m)\u001b[0m\u001b[1;33m\u001b[0m\u001b[1;33m\u001b[0m\u001b[0m\n\u001b[0m\u001b[0;32m   1255\u001b[0m         \u001b[1;32mreturn\u001b[0m \u001b[0mkeyarr\u001b[0m\u001b[1;33m,\u001b[0m \u001b[0mindexer\u001b[0m\u001b[1;33m\u001b[0m\u001b[1;33m\u001b[0m\u001b[0m\n\u001b[0;32m   1256\u001b[0m \u001b[1;33m\u001b[0m\u001b[0m\n",
      "\u001b[1;32mD:\\Programas\\anaconda3\\envs\\BCIMusical\\lib\\site-packages\\pandas\\core\\indexing.py\u001b[0m in \u001b[0;36m_validate_read_indexer\u001b[1;34m(self, key, indexer, axis, raise_missing)\u001b[0m\n\u001b[0;32m   1302\u001b[0m             \u001b[1;32mif\u001b[0m \u001b[0mraise_missing\u001b[0m\u001b[1;33m:\u001b[0m\u001b[1;33m\u001b[0m\u001b[1;33m\u001b[0m\u001b[0m\n\u001b[0;32m   1303\u001b[0m                 \u001b[0mnot_found\u001b[0m \u001b[1;33m=\u001b[0m \u001b[0mlist\u001b[0m\u001b[1;33m(\u001b[0m\u001b[0mset\u001b[0m\u001b[1;33m(\u001b[0m\u001b[0mkey\u001b[0m\u001b[1;33m)\u001b[0m \u001b[1;33m-\u001b[0m \u001b[0mset\u001b[0m\u001b[1;33m(\u001b[0m\u001b[0max\u001b[0m\u001b[1;33m)\u001b[0m\u001b[1;33m)\u001b[0m\u001b[1;33m\u001b[0m\u001b[1;33m\u001b[0m\u001b[0m\n\u001b[1;32m-> 1304\u001b[1;33m                 \u001b[1;32mraise\u001b[0m \u001b[0mKeyError\u001b[0m\u001b[1;33m(\u001b[0m\u001b[1;34mf\"{not_found} not in index\"\u001b[0m\u001b[1;33m)\u001b[0m\u001b[1;33m\u001b[0m\u001b[1;33m\u001b[0m\u001b[0m\n\u001b[0m\u001b[0;32m   1305\u001b[0m \u001b[1;33m\u001b[0m\u001b[0m\n\u001b[0;32m   1306\u001b[0m             \u001b[1;31m# we skip the warning on Categorical\u001b[0m\u001b[1;33m\u001b[0m\u001b[1;33m\u001b[0m\u001b[1;33m\u001b[0m\u001b[0m\n",
      "\u001b[1;31mKeyError\u001b[0m: \"['para_tol'] not in index\""
     ]
    }
   ],
   "metadata": {}
  },
  {
   "cell_type": "code",
   "execution_count": 17,
   "source": [
    "print(pd.DataFrame(rs.cv_results_)[['param_C','param_gamma','param_tol','mean_test_score']])"
   ],
   "outputs": [
    {
     "output_type": "stream",
     "name": "stdout",
     "text": [
      "   param_C param_gamma param_tol  mean_test_score\n",
      "0    0.001       scale     1e-05         0.365470\n",
      "1    0.001       scale     0.001         0.365470\n",
      "2    0.001       scale         1         0.365470\n",
      "3    0.002       scale     1e-05         0.365470\n",
      "4    0.002       scale     0.001         0.365470\n",
      "5    0.002       scale         1         0.365470\n",
      "6    0.003       scale     1e-05         0.728605\n",
      "7    0.003       scale     0.001         0.728605\n",
      "8    0.003       scale         1         0.729666\n",
      "9    0.004       scale     1e-05         0.999363\n",
      "10   0.004       scale     0.001         0.999363\n",
      "11   0.004       scale         1         0.994692\n",
      "12   0.005       scale     1e-05         1.000000\n",
      "13   0.005       scale     0.001         1.000000\n",
      "14   0.005       scale         1         0.995116\n",
      "15   0.006       scale     1e-05         0.998089\n",
      "16   0.006       scale     0.001         0.998089\n",
      "17   0.006       scale         1         0.996177\n",
      "18   0.007       scale     1e-05         0.997876\n",
      "19   0.007       scale     0.001         0.997664\n",
      "20   0.007       scale         1         0.995753\n",
      "21   0.008       scale     1e-05         0.997452\n",
      "22   0.008       scale     0.001         0.997452\n",
      "23   0.008       scale         1         0.995753\n",
      "24   0.009       scale     1e-05         0.997027\n",
      "25   0.009       scale     0.001         0.997027\n",
      "26   0.009       scale         1         0.995753\n"
     ]
    }
   ],
   "metadata": {}
  },
  {
   "cell_type": "code",
   "execution_count": 18,
   "source": [
    "%%time\r\n",
    "classifier = SVC(kernel='rbf', max_iter=-1 ,decision_function_shape='ovr')\r\n",
    "params = {'C': [3e-3, 3.5e-3],\r\n",
    "          'gamma': ['scale'],\r\n",
    "          'tol': [1e-5, 1e-3, 1]}\r\n",
    "rs = RandomizedSearchCV(classifier, params, cv=8, scoring='accuracy', n_iter=6)\r\n",
    "rs.fit(X_train, y_train)\r\n",
    "print(pd.DataFrame(rs.cv_results_)[['param_C','param_tol','mean_test_score']])"
   ],
   "outputs": [
    {
     "output_type": "stream",
     "name": "stdout",
     "text": [
      "  param_C param_tol  mean_test_score\n",
      "0   0.003     1e-05         0.728605\n",
      "1   0.003     0.001         0.728605\n",
      "2   0.003         1         0.729666\n",
      "3  0.0035     1e-05         0.986835\n",
      "4  0.0035     0.001         0.986835\n",
      "5  0.0035         1         0.991507\n",
      "Wall time: 36.6 s\n"
     ]
    }
   ],
   "metadata": {}
  },
  {
   "cell_type": "code",
   "execution_count": 19,
   "source": [
    "%%time\r\n",
    "classifier = SVC(kernel='rbf', max_iter=-1 ,decision_function_shape='ovr')\r\n",
    "params = {'C': [3.1e-3, 3.2e-3, 3.3e-3, 3.4e-3],\r\n",
    "          'gamma': ['scale'],\r\n",
    "          'tol': [1e-3],\r\n",
    "          'decision_function_shape': ['ovo', 'ovr']}\r\n",
    "rs = RandomizedSearchCV(classifier, params, cv=8, scoring='accuracy', n_iter=8)\r\n",
    "rs.fit(X_train, y_train)\r\n",
    "print(pd.DataFrame(rs.cv_results_)[['param_C','mean_test_score']])"
   ],
   "outputs": [
    {
     "output_type": "stream",
     "name": "stdout",
     "text": [
      "  param_C  mean_test_score\n",
      "0  0.0031         0.837972\n",
      "1  0.0031         0.837972\n",
      "2  0.0032         0.927799\n",
      "3  0.0032         0.927799\n",
      "4  0.0033         0.960928\n",
      "5  0.0033         0.960928\n",
      "6  0.0034         0.978555\n",
      "7  0.0034         0.978555\n",
      "Wall time: 50.5 s\n"
     ]
    }
   ],
   "metadata": {}
  },
  {
   "cell_type": "code",
   "execution_count": 20,
   "source": [
    "%%time\r\n",
    "classifier = SVC(kernel='rbf', max_iter=-1 ,decision_function_shape='ovr')\r\n",
    "params = {'C': [3.1e-3, 3.15e-3, 3.2e-3],\r\n",
    "          'gamma': ['scale'],\r\n",
    "          'tol': [1e-3],\r\n",
    "          'decision_function_shape': ['ovr']}\r\n",
    "rs = RandomizedSearchCV(classifier, params, cv=8, scoring='accuracy', n_iter=8)\r\n",
    "rs.fit(X_train, y_train)\r\n",
    "print(pd.DataFrame(rs.cv_results_)[['param_C','mean_test_score']])"
   ],
   "outputs": [
    {
     "output_type": "stream",
     "name": "stderr",
     "text": [
      "D:\\Programas\\anaconda3\\envs\\BCIMusical\\lib\\site-packages\\sklearn\\model_selection\\_search.py:281: UserWarning: The total space of parameters 3 is smaller than n_iter=8. Running 3 iterations. For exhaustive searches, use GridSearchCV.\n",
      "  % (grid_size, self.n_iter, grid_size), UserWarning)\n"
     ]
    },
    {
     "output_type": "stream",
     "name": "stdout",
     "text": [
      "   param_C  mean_test_score\n",
      "0   0.0031         0.837972\n",
      "1  0.00315         0.893824\n",
      "2   0.0032         0.927799\n",
      "Wall time: 20.1 s\n"
     ]
    }
   ],
   "metadata": {}
  },
  {
   "cell_type": "code",
   "execution_count": 21,
   "source": [
    "%%time\r\n",
    "classifier = SVC(kernel='rbf', max_iter=-1 ,decision_function_shape='ovr')\r\n",
    "params = {'C': [3.15e-3, 3.16e-3, 3.17e-3, 3.18e-3, 3.19e-3, 3.2e-3],\r\n",
    "          'gamma': ['scale'],\r\n",
    "          'tol': [1e-3],\r\n",
    "          'decision_function_shape': ['ovr']}\r\n",
    "rs = RandomizedSearchCV(classifier, params, cv=8, scoring='accuracy', n_iter=6)\r\n",
    "rs.fit(X_train, y_train)\r\n",
    "print(pd.DataFrame(rs.cv_results_)[['param_C','mean_test_score']])"
   ],
   "outputs": [
    {
     "output_type": "stream",
     "name": "stdout",
     "text": [
      "   param_C  mean_test_score\n",
      "0  0.00315         0.893824\n",
      "1  0.00316         0.901681\n",
      "2  0.00317         0.908263\n",
      "3  0.00318         0.915272\n",
      "4  0.00319         0.922491\n",
      "5   0.0032         0.927799\n",
      "Wall time: 50.4 s\n"
     ]
    }
   ],
   "metadata": {}
  }
 ],
 "metadata": {
  "orig_nbformat": 4,
  "language_info": {
   "name": "python",
   "version": "3.6.13",
   "mimetype": "text/x-python",
   "codemirror_mode": {
    "name": "ipython",
    "version": 3
   },
   "pygments_lexer": "ipython3",
   "nbconvert_exporter": "python",
   "file_extension": ".py"
  },
  "kernelspec": {
   "name": "python3",
   "display_name": "Python 3.6.13 64-bit ('BCIMusical': conda)"
  },
  "interpreter": {
   "hash": "f9ecac2d14d2bb269a4709d9862e512850489fa6d8ba68695ffcc8a638687dcf"
  }
 },
 "nbformat": 4,
 "nbformat_minor": 2
}