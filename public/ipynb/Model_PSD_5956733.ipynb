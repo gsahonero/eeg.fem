{
 "cells": [
  {
   "cell_type": "code",
   "execution_count": 1,
   "source": [
    "import numpy as np\r\n",
    "from sklearn.svm import SVC\r\n",
    "from sklearn.model_selection import train_test_split\r\n",
    "from sklearn.model_selection import RandomizedSearchCV\r\n",
    "import pandas as pd"
   ],
   "outputs": [],
   "metadata": {}
  },
  {
   "cell_type": "code",
   "execution_count": 3,
   "source": [
    "df = np.genfromtxt('D:/Github/eeg.fem/public/data/Musical/5956733/data_for_train/ALL_PSD_64.csv',delimiter=',')\r\n",
    "x = df[:, :-1]\r\n",
    "y = df[:, -1]\r\n",
    "X_train, X_test, y_train, y_test = train_test_split(x, y, random_state=3, test_size=0.3)"
   ],
   "outputs": [],
   "metadata": {}
  },
  {
   "cell_type": "code",
   "execution_count": 6,
   "source": [
    "%%time\r\n",
    "classifier = SVC(kernel='rbf', max_iter=-1 ,decision_function_shape='ovr', tol=1e-3)\r\n",
    "#classifier = SVC(C=4, kernel='rbf', gamma='scale', tol=1e-3, max_iter=-1, decision_function_shape='ovr')\r\n",
    "\r\n",
    "params = {'C': [1e-5, 1, 1e5],\r\n",
    "          'gamma': [1e-5, 'scale', 1e5]}\r\n",
    "\r\n",
    "rs = RandomizedSearchCV(classifier, params, cv=8, scoring='accuracy', n_iter=9)\r\n",
    "\r\n",
    "rs.fit(X_train, y_train)\r\n",
    "\r\n",
    "print(pd.DataFrame(rs.cv_results_)[['param_C','param_gamma','mean_test_score']])"
   ],
   "outputs": [
    {
     "output_type": "stream",
     "name": "stdout",
     "text": [
      "  param_C param_gamma  mean_test_score\n",
      "0   1e-05       1e-05         0.365470\n",
      "1   1e-05       scale         0.365470\n",
      "2   1e-05      100000         0.365470\n",
      "3       1       1e-05         0.365683\n",
      "4       1       scale         0.707576\n",
      "5       1      100000         0.365470\n",
      "6  100000       1e-05         0.365895\n",
      "7  100000       scale         0.854959\n",
      "8  100000      100000         0.365470\n",
      "Wall time: 14min 55s\n"
     ]
    }
   ],
   "metadata": {}
  },
  {
   "cell_type": "code",
   "execution_count": 7,
   "source": [
    "%%time\r\n",
    "classifier = SVC(kernel='rbf', max_iter=-1, tol=1e-3)\r\n",
    "#classifier = SVC(C=4, kernel='rbf', gamma='scale', tol=1e-3, max_iter=-1, decision_function_shape='ovr')\r\n",
    "\r\n",
    "params = {'C': [1, 1e5, 1e10],\r\n",
    "          'gamma': ['scale'],\r\n",
    "          'decision_function_shape': ['ovr', 'ovo']}\r\n",
    "\r\n",
    "rs = RandomizedSearchCV(classifier, params, cv=8, scoring='accuracy', n_iter=6)\r\n",
    "\r\n",
    "rs.fit(X_train, y_train)\r\n",
    "\r\n",
    "print(pd.DataFrame(rs.cv_results_)[['param_C','param_gamma','param_decision_function_shape','mean_test_score']])\r\n"
   ],
   "outputs": [
    {
     "output_type": "stream",
     "name": "stdout",
     "text": [
      "  param_C param_gamma param_decision_function_shape  mean_test_score\n",
      "0       1       scale                           ovr         0.707576\n",
      "1       1       scale                           ovo         0.707576\n",
      "2  100000       scale                           ovr         0.854959\n",
      "3  100000       scale                           ovo         0.854959\n",
      "4   1e+10       scale                           ovr         0.854959\n",
      "5   1e+10       scale                           ovo         0.854959\n",
      "Wall time: 8min 3s\n"
     ]
    }
   ],
   "metadata": {}
  },
  {
   "cell_type": "code",
   "execution_count": 8,
   "source": [
    "%%time\r\n",
    "classifier = SVC(kernel='rbf', max_iter=-1, tol=1e-3)\r\n",
    "#classifier = SVC(C=4, kernel='rbf', gamma='scale', tol=1e-3, max_iter=-1, decision_function_shape='ovr')\r\n",
    "\r\n",
    "params = {'C': [1, 1e1, 1e2, 1e3, 1e4, 1e5],\r\n",
    "          'gamma': ['scale'],\r\n",
    "          'decision_function_shape': ['ovr']}\r\n",
    "\r\n",
    "rs = RandomizedSearchCV(classifier, params, cv=8, scoring='accuracy', n_iter=6)\r\n",
    "\r\n",
    "rs.fit(X_train, y_train)\r\n",
    "\r\n",
    "print(pd.DataFrame(rs.cv_results_)[['param_C','param_gamma','param_decision_function_shape','mean_test_score']])\r\n"
   ],
   "outputs": [
    {
     "output_type": "stream",
     "name": "stdout",
     "text": [
      "  param_C param_gamma param_decision_function_shape  mean_test_score\n",
      "0       1       scale                           ovr         0.707576\n",
      "1      10       scale                           ovr         0.790612\n",
      "2     100       scale                           ovr         0.847733\n",
      "3    1000       scale                           ovr         0.877892\n",
      "4   10000       scale                           ovr         0.855807\n",
      "5  100000       scale                           ovr         0.854959\n",
      "Wall time: 6min 32s\n"
     ]
    }
   ],
   "metadata": {}
  },
  {
   "cell_type": "code",
   "execution_count": 10,
   "source": [
    "%%time\r\n",
    "classifier = SVC(kernel='rbf', max_iter=-1)\r\n",
    "#classifier = SVC(C=4, kernel='rbf', gamma='scale', tol=1e-3, max_iter=-1, decision_function_shape='ovr')\r\n",
    "\r\n",
    "params = {'C': [1, 1e1, 1e2, 1e3, 1e4, 1e5],\r\n",
    "          'gamma': ['scale'],\r\n",
    "          'decision_function_shape': ['ovr'],\r\n",
    "          'tol': [1e-5, 1, 1e5]}\r\n",
    "\r\n",
    "rs = RandomizedSearchCV(classifier, params, cv=8, scoring='accuracy', n_iter=18)\r\n",
    "\r\n",
    "rs.fit(X_train, y_train)\r\n",
    "\r\n",
    "print(pd.DataFrame(rs.cv_results_)[['param_C','param_gamma','param_tol','param_decision_function_shape','mean_test_score']])\r\n"
   ],
   "outputs": [
    {
     "output_type": "stream",
     "name": "stdout",
     "text": [
      "   param_C param_gamma param_tol param_decision_function_shape  \\\n",
      "0        1       scale     1e-05                           ovr   \n",
      "1        1       scale         1                           ovr   \n",
      "2        1       scale    100000                           ovr   \n",
      "3       10       scale     1e-05                           ovr   \n",
      "4       10       scale         1                           ovr   \n",
      "5       10       scale    100000                           ovr   \n",
      "6      100       scale     1e-05                           ovr   \n",
      "7      100       scale         1                           ovr   \n",
      "8      100       scale    100000                           ovr   \n",
      "9     1000       scale     1e-05                           ovr   \n",
      "10    1000       scale         1                           ovr   \n",
      "11    1000       scale    100000                           ovr   \n",
      "12   10000       scale     1e-05                           ovr   \n",
      "13   10000       scale         1                           ovr   \n",
      "14   10000       scale    100000                           ovr   \n",
      "15  100000       scale     1e-05                           ovr   \n",
      "16  100000       scale         1                           ovr   \n",
      "17  100000       scale    100000                           ovr   \n",
      "\n",
      "    mean_test_score  \n",
      "0          0.707789  \n",
      "1          0.701635  \n",
      "2          0.270121  \n",
      "3          0.790612  \n",
      "4          0.785515  \n",
      "5          0.270121  \n",
      "6          0.847733  \n",
      "7          0.847525  \n",
      "8          0.270121  \n",
      "9          0.877892  \n",
      "10         0.875980  \n",
      "11         0.270121  \n",
      "12         0.855807  \n",
      "13         0.859417  \n",
      "14         0.270121  \n",
      "15         0.854959  \n",
      "16         0.857294  \n",
      "17         0.270121  \n",
      "Wall time: 11min 36s\n"
     ]
    }
   ],
   "metadata": {}
  },
  {
   "cell_type": "code",
   "execution_count": 11,
   "source": [
    "%%time\r\n",
    "classifier = SVC(kernel='rbf', max_iter=-1)\r\n",
    "params = {'C': [1e2, 1e3, 1e4],\r\n",
    "          'gamma': ['scale'],\r\n",
    "          'decision_function_shape': ['ovr'],\r\n",
    "          'tol': [1e-5, 1e-4, 1e-3, 1e-2, 1e-1, 1]}\r\n",
    "rs = RandomizedSearchCV(classifier, params, cv=8, scoring='accuracy', n_iter=18)\r\n",
    "rs.fit(X_train, y_train)\r\n",
    "print(pd.DataFrame(rs.cv_results_)[['param_C','param_tol','mean_test_score']])\r\n"
   ],
   "outputs": [
    {
     "output_type": "stream",
     "name": "stdout",
     "text": [
      "   param_C param_tol  mean_test_score\n",
      "0      100     1e-05         0.847733\n",
      "1      100    0.0001         0.847733\n",
      "2      100     0.001         0.847733\n",
      "3      100      0.01         0.848583\n",
      "4      100       0.1         0.849220\n",
      "5      100         1         0.847525\n",
      "6     1000     1e-05         0.877892\n",
      "7     1000    0.0001         0.877892\n",
      "8     1000     0.001         0.877892\n",
      "9     1000      0.01         0.878105\n",
      "10    1000       0.1         0.877468\n",
      "11    1000         1         0.875980\n",
      "12   10000     1e-05         0.855807\n",
      "13   10000    0.0001         0.855807\n",
      "14   10000     0.001         0.855807\n",
      "15   10000      0.01         0.856020\n",
      "16   10000       0.1         0.856869\n",
      "17   10000         1         0.859417\n",
      "Wall time: 17min 40s\n"
     ]
    }
   ],
   "metadata": {}
  },
  {
   "cell_type": "code",
   "execution_count": 12,
   "source": [
    "%%time\r\n",
    "classifier = SVC(kernel='rbf', max_iter=-1)\r\n",
    "params = {'C': [5e2, 1e3, 5e3],\r\n",
    "          'gamma': ['scale'],\r\n",
    "          'decision_function_shape': ['ovr'],\r\n",
    "          'tol': [1e-4, 1e-3, 1e-2]}\r\n",
    "rs = RandomizedSearchCV(classifier, params, cv=8, scoring='accuracy', n_iter=9)\r\n",
    "rs.fit(X_train, y_train)\r\n",
    "print(pd.DataFrame(rs.cv_results_)[['param_C','param_tol','mean_test_score']])\r\n"
   ],
   "outputs": [
    {
     "output_type": "stream",
     "name": "stdout",
     "text": [
      "  param_C param_tol  mean_test_score\n",
      "0     500    0.0001         0.874918\n",
      "1     500     0.001         0.874918\n",
      "2     500      0.01         0.874706\n",
      "3    1000    0.0001         0.877892\n",
      "4    1000     0.001         0.877892\n",
      "5    1000      0.01         0.878105\n",
      "6    5000    0.0001         0.860053\n",
      "7    5000     0.001         0.860053\n",
      "8    5000      0.01         0.859204\n",
      "Wall time: 8min 48s\n"
     ]
    }
   ],
   "metadata": {}
  },
  {
   "cell_type": "code",
   "execution_count": 14,
   "source": [
    "%%time\r\n",
    "classifier = SVC(kernel='rbf', max_iter=-1)\r\n",
    "params = {'C': [7.5e2, 1e3, 1.25e3],\r\n",
    "          'gamma': ['scale'],\r\n",
    "          'decision_function_shape': ['ovr'],\r\n",
    "          'tol': [1e-4, 1e-3, 1e-2]}\r\n",
    "rs = RandomizedSearchCV(classifier, params, cv=8, scoring='accuracy', n_iter=9)\r\n",
    "rs.fit(X_train, y_train)\r\n",
    "print(pd.DataFrame(rs.cv_results_)[['param_C','param_tol','mean_test_score']])"
   ],
   "outputs": [
    {
     "output_type": "stream",
     "name": "stdout",
     "text": [
      "  param_C param_tol  mean_test_score\n",
      "0     750    0.0001         0.877891\n",
      "1     750     0.001         0.877891\n",
      "2     750      0.01         0.877466\n",
      "3    1000    0.0001         0.877892\n",
      "4    1000     0.001         0.877892\n",
      "5    1000      0.01         0.878105\n",
      "6    1250    0.0001         0.872585\n",
      "7    1250     0.001         0.872585\n",
      "8    1250      0.01         0.872797\n",
      "Wall time: 9min 1s\n"
     ]
    }
   ],
   "metadata": {}
  },
  {
   "cell_type": "code",
   "execution_count": 15,
   "source": [
    "%%time\r\n",
    "classifier = SVC(kernel='rbf', max_iter=-1)\r\n",
    "params = {'C': [9.5e2, 1e3, 1.05e3],\r\n",
    "          'gamma': ['scale'],\r\n",
    "          'decision_function_shape': ['ovr'],\r\n",
    "          'tol': [1e-2, 5e-2]}\r\n",
    "rs = RandomizedSearchCV(classifier, params, cv=8, scoring='accuracy', n_iter=9)\r\n",
    "rs.fit(X_train, y_train)\r\n",
    "print(pd.DataFrame(rs.cv_results_)[['param_C','param_tol','mean_test_score']])"
   ],
   "outputs": [
    {
     "output_type": "stream",
     "name": "stderr",
     "text": [
      "D:\\Programas\\anaconda3\\envs\\BCIMusical\\lib\\site-packages\\sklearn\\model_selection\\_search.py:281: UserWarning: The total space of parameters 6 is smaller than n_iter=9. Running 6 iterations. For exhaustive searches, use GridSearchCV.\n",
      "  % (grid_size, self.n_iter, grid_size), UserWarning)\n"
     ]
    },
    {
     "output_type": "stream",
     "name": "stdout",
     "text": [
      "  param_C param_tol  mean_test_score\n",
      "0     950      0.01         0.877893\n",
      "1     950      0.05         0.877255\n",
      "2    1000      0.01         0.878105\n",
      "3    1000      0.05         0.877043\n",
      "4    1050      0.01         0.877044\n",
      "5    1050      0.05         0.876619\n",
      "Wall time: 5min 12s\n"
     ]
    }
   ],
   "metadata": {}
  },
  {
   "cell_type": "code",
   "execution_count": 16,
   "source": [
    "%%time\r\n",
    "import joblib\r\n",
    "from sklearn.metrics import classification_report\r\n",
    "#Dividimos el test set en test y val\r\n",
    "X_val, X_test, y_val, y_test = train_test_split(X_test, y_test, random_state=3, test_size=2/3)\r\n",
    "classifier = SVC(kernel='rbf', gamma='scale', max_iter=-1, C=1e3, tol=1e-2, decision_function_shape='ovr')\r\n",
    "classifier.fit(X_train, y_train)\r\n",
    "print('Clasifier DONE')\r\n",
    "y_predict = classifier.predict(X_test)\r\n",
    "print('TEST SET:')\r\n",
    "print(classification_report(y_test, y_predict))\r\n",
    "print('VAL SET:')\r\n",
    "y_val_predict = classifier.predict(X_val)\r\n",
    "print(classification_report(y_val, y_val_predict))\r\n",
    "joblib.dump(classifier, 'D:/Github/eeg.fem/public/data/Musical/5956733/ML_models/Model_RBF_PSD_64')"
   ],
   "outputs": [
    {
     "output_type": "stream",
     "name": "stdout",
     "text": [
      "Clasifier DONE\n",
      "TEST SET:\n",
      "              precision    recall  f1-score   support\n",
      "\n",
      "         1.0       0.86      0.92      0.89       498\n",
      "         2.0       0.92      0.90      0.91       484\n",
      "         3.0       0.92      0.87      0.89       364\n",
      "\n",
      "    accuracy                           0.90      1346\n",
      "   macro avg       0.90      0.89      0.90      1346\n",
      "weighted avg       0.90      0.90      0.90      1346\n",
      "\n",
      "VAL SET:\n",
      "              precision    recall  f1-score   support\n",
      "\n",
      "         1.0       0.86      0.92      0.89       250\n",
      "         2.0       0.91      0.86      0.89       259\n",
      "         3.0       0.89      0.89      0.89       164\n",
      "\n",
      "    accuracy                           0.89       673\n",
      "   macro avg       0.89      0.89      0.89       673\n",
      "weighted avg       0.89      0.89      0.89       673\n",
      "\n",
      "Wall time: 10.2 s\n"
     ]
    }
   ],
   "metadata": {}
  },
  {
   "cell_type": "markdown",
   "source": [
    "### Model RBF"
   ],
   "metadata": {}
  },
  {
   "cell_type": "code",
   "execution_count": 2,
   "source": [
    "df = np.genfromtxt('D:/Github/eeg.fem/public/data/Musical/5956733/data_for_train/ALL_PSD_64.csv',delimiter=',')\r\n",
    "x = df[:, :-1]\r\n",
    "y = df[:, -1]\r\n",
    "X_train, X_test, y_train, y_test = train_test_split(x, y, random_state=3, test_size=0.3)"
   ],
   "outputs": [],
   "metadata": {}
  },
  {
   "cell_type": "code",
   "execution_count": 3,
   "source": [
    "%%time\r\n",
    "classifier = SVC(kernel='linear', max_iter=-1, tol=1e-3)\r\n",
    "params = {'C': [1e-5, 1, 1e5],\r\n",
    "          'decision_function_shape': ['ovo', 'ovr']}\r\n",
    "rs = RandomizedSearchCV(classifier, params, cv=8, scoring='accuracy', n_iter=9)\r\n",
    "rs.fit(X_train, y_train)\r\n",
    "print(pd.DataFrame(rs.cv_results_)[['param_C','param_decision_function_shape','mean_test_score']])"
   ],
   "outputs": [
    {
     "output_type": "stream",
     "name": "stderr",
     "text": [
      "D:\\Programas\\anaconda3\\envs\\BCIMusical\\lib\\site-packages\\sklearn\\model_selection\\_search.py:281: UserWarning: The total space of parameters 6 is smaller than n_iter=9. Running 6 iterations. For exhaustive searches, use GridSearchCV.\n",
      "  % (grid_size, self.n_iter, grid_size), UserWarning)\n"
     ]
    }
   ],
   "metadata": {}
  }
 ],
 "metadata": {
  "orig_nbformat": 4,
  "language_info": {
   "name": "python",
   "version": "3.6.13",
   "mimetype": "text/x-python",
   "codemirror_mode": {
    "name": "ipython",
    "version": 3
   },
   "pygments_lexer": "ipython3",
   "nbconvert_exporter": "python",
   "file_extension": ".py"
  },
  "kernelspec": {
   "name": "python3",
   "display_name": "Python 3.6.13 64-bit ('BCIMusical': conda)"
  },
  "interpreter": {
   "hash": "f9ecac2d14d2bb269a4709d9862e512850489fa6d8ba68695ffcc8a638687dcf"
  }
 },
 "nbformat": 4,
 "nbformat_minor": 2
}