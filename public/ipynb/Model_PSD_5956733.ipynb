{
 "cells": [
  {
   "cell_type": "code",
   "execution_count": 1,
   "metadata": {},
   "outputs": [],
   "source": [
    "import numpy as np\n",
    "from sklearn.svm import SVC\n",
    "from sklearn.model_selection import train_test_split\n",
    "from sklearn.model_selection import RandomizedSearchCV\n",
    "import pandas as pd"
   ]
  },
  {
   "cell_type": "code",
   "execution_count": 2,
   "metadata": {},
   "outputs": [],
   "source": [
    "df = np.genfromtxt('D:/Github/eeg.fem/public/data/Musical/5956733/data_for_train/ALL_PSD_64.csv',delimiter=',')\n",
    "x = df[:, :-1]\n",
    "y = df[:, -1]\n",
    "X_train, X_test, y_train, y_test = train_test_split(x, y, random_state=3, test_size=0.3)"
   ]
  },
  {
   "cell_type": "code",
   "execution_count": 6,
   "metadata": {},
   "outputs": [
    {
     "name": "stdout",
     "output_type": "stream",
     "text": [
      "  param_C param_gamma  mean_test_score\n",
      "0   1e-05       1e-05         0.365470\n",
      "1   1e-05       scale         0.365470\n",
      "2   1e-05      100000         0.365470\n",
      "3       1       1e-05         0.365683\n",
      "4       1       scale         0.707576\n",
      "5       1      100000         0.365470\n",
      "6  100000       1e-05         0.365895\n",
      "7  100000       scale         0.854959\n",
      "8  100000      100000         0.365470\n",
      "Wall time: 14min 55s\n"
     ]
    }
   ],
   "source": [
    "%%time\n",
    "classifier = SVC(kernel='rbf', max_iter=-1 ,decision_function_shape='ovr', tol=1e-3)\n",
    "#classifier = SVC(C=4, kernel='rbf', gamma='scale', tol=1e-3, max_iter=-1, decision_function_shape='ovr')\n",
    "\n",
    "params = {'C': [1e-5, 1, 1e5],\n",
    "          'gamma': [1e-5, 'scale', 1e5]}\n",
    "\n",
    "rs = RandomizedSearchCV(classifier, params, cv=8, scoring='accuracy', n_iter=9)\n",
    "\n",
    "rs.fit(X_train, y_train)\n",
    "\n",
    "print(pd.DataFrame(rs.cv_results_)[['param_C','param_gamma','mean_test_score']])"
   ]
  },
  {
   "cell_type": "code",
   "execution_count": 7,
   "metadata": {},
   "outputs": [
    {
     "name": "stdout",
     "output_type": "stream",
     "text": [
      "  param_C param_gamma param_decision_function_shape  mean_test_score\n",
      "0       1       scale                           ovr         0.707576\n",
      "1       1       scale                           ovo         0.707576\n",
      "2  100000       scale                           ovr         0.854959\n",
      "3  100000       scale                           ovo         0.854959\n",
      "4   1e+10       scale                           ovr         0.854959\n",
      "5   1e+10       scale                           ovo         0.854959\n",
      "Wall time: 8min 3s\n"
     ]
    }
   ],
   "source": [
    "%%time\n",
    "classifier = SVC(kernel='rbf', max_iter=-1, tol=1e-3)\n",
    "#classifier = SVC(C=4, kernel='rbf', gamma='scale', tol=1e-3, max_iter=-1, decision_function_shape='ovr')\n",
    "\n",
    "params = {'C': [1, 1e5, 1e10],\n",
    "          'gamma': ['scale'],\n",
    "          'decision_function_shape': ['ovr', 'ovo']}\n",
    "\n",
    "rs = RandomizedSearchCV(classifier, params, cv=8, scoring='accuracy', n_iter=6)\n",
    "\n",
    "rs.fit(X_train, y_train)\n",
    "\n",
    "print(pd.DataFrame(rs.cv_results_)[['param_C','param_gamma','param_decision_function_shape','mean_test_score']])\n"
   ]
  },
  {
   "cell_type": "code",
   "execution_count": 8,
   "metadata": {},
   "outputs": [
    {
     "name": "stdout",
     "output_type": "stream",
     "text": [
      "  param_C param_gamma param_decision_function_shape  mean_test_score\n",
      "0       1       scale                           ovr         0.707576\n",
      "1      10       scale                           ovr         0.790612\n",
      "2     100       scale                           ovr         0.847733\n",
      "3    1000       scale                           ovr         0.877892\n",
      "4   10000       scale                           ovr         0.855807\n",
      "5  100000       scale                           ovr         0.854959\n",
      "Wall time: 6min 32s\n"
     ]
    }
   ],
   "source": [
    "%%time\n",
    "classifier = SVC(kernel='rbf', max_iter=-1, tol=1e-3)\n",
    "#classifier = SVC(C=4, kernel='rbf', gamma='scale', tol=1e-3, max_iter=-1, decision_function_shape='ovr')\n",
    "\n",
    "params = {'C': [1, 1e1, 1e2, 1e3, 1e4, 1e5],\n",
    "          'gamma': ['scale'],\n",
    "          'decision_function_shape': ['ovr']}\n",
    "\n",
    "rs = RandomizedSearchCV(classifier, params, cv=8, scoring='accuracy', n_iter=6)\n",
    "\n",
    "rs.fit(X_train, y_train)\n",
    "\n",
    "print(pd.DataFrame(rs.cv_results_)[['param_C','param_gamma','param_decision_function_shape','mean_test_score']])\n"
   ]
  },
  {
   "cell_type": "code",
   "execution_count": 10,
   "metadata": {},
   "outputs": [
    {
     "name": "stdout",
     "output_type": "stream",
     "text": [
      "   param_C param_gamma param_tol param_decision_function_shape  \\\n",
      "0        1       scale     1e-05                           ovr   \n",
      "1        1       scale         1                           ovr   \n",
      "2        1       scale    100000                           ovr   \n",
      "3       10       scale     1e-05                           ovr   \n",
      "4       10       scale         1                           ovr   \n",
      "5       10       scale    100000                           ovr   \n",
      "6      100       scale     1e-05                           ovr   \n",
      "7      100       scale         1                           ovr   \n",
      "8      100       scale    100000                           ovr   \n",
      "9     1000       scale     1e-05                           ovr   \n",
      "10    1000       scale         1                           ovr   \n",
      "11    1000       scale    100000                           ovr   \n",
      "12   10000       scale     1e-05                           ovr   \n",
      "13   10000       scale         1                           ovr   \n",
      "14   10000       scale    100000                           ovr   \n",
      "15  100000       scale     1e-05                           ovr   \n",
      "16  100000       scale         1                           ovr   \n",
      "17  100000       scale    100000                           ovr   \n",
      "\n",
      "    mean_test_score  \n",
      "0          0.707789  \n",
      "1          0.701635  \n",
      "2          0.270121  \n",
      "3          0.790612  \n",
      "4          0.785515  \n",
      "5          0.270121  \n",
      "6          0.847733  \n",
      "7          0.847525  \n",
      "8          0.270121  \n",
      "9          0.877892  \n",
      "10         0.875980  \n",
      "11         0.270121  \n",
      "12         0.855807  \n",
      "13         0.859417  \n",
      "14         0.270121  \n",
      "15         0.854959  \n",
      "16         0.857294  \n",
      "17         0.270121  \n",
      "Wall time: 11min 36s\n"
     ]
    }
   ],
   "source": [
    "%%time\n",
    "classifier = SVC(kernel='rbf', max_iter=-1)\n",
    "#classifier = SVC(C=4, kernel='rbf', gamma='scale', tol=1e-3, max_iter=-1, decision_function_shape='ovr')\n",
    "\n",
    "params = {'C': [1, 1e1, 1e2, 1e3, 1e4, 1e5],\n",
    "          'gamma': ['scale'],\n",
    "          'decision_function_shape': ['ovr'],\n",
    "          'tol': [1e-5, 1, 1e5]}\n",
    "\n",
    "rs = RandomizedSearchCV(classifier, params, cv=8, scoring='accuracy', n_iter=18)\n",
    "\n",
    "rs.fit(X_train, y_train)\n",
    "\n",
    "print(pd.DataFrame(rs.cv_results_)[['param_C','param_gamma','param_tol','param_decision_function_shape','mean_test_score']])\n"
   ]
  },
  {
   "cell_type": "code",
   "execution_count": 11,
   "metadata": {},
   "outputs": [
    {
     "name": "stdout",
     "output_type": "stream",
     "text": [
      "   param_C param_tol  mean_test_score\n",
      "0      100     1e-05         0.847733\n",
      "1      100    0.0001         0.847733\n",
      "2      100     0.001         0.847733\n",
      "3      100      0.01         0.848583\n",
      "4      100       0.1         0.849220\n",
      "5      100         1         0.847525\n",
      "6     1000     1e-05         0.877892\n",
      "7     1000    0.0001         0.877892\n",
      "8     1000     0.001         0.877892\n",
      "9     1000      0.01         0.878105\n",
      "10    1000       0.1         0.877468\n",
      "11    1000         1         0.875980\n",
      "12   10000     1e-05         0.855807\n",
      "13   10000    0.0001         0.855807\n",
      "14   10000     0.001         0.855807\n",
      "15   10000      0.01         0.856020\n",
      "16   10000       0.1         0.856869\n",
      "17   10000         1         0.859417\n",
      "Wall time: 17min 40s\n"
     ]
    }
   ],
   "source": [
    "%%time\n",
    "classifier = SVC(kernel='rbf', max_iter=-1)\n",
    "params = {'C': [1e2, 1e3, 1e4],\n",
    "          'gamma': ['scale'],\n",
    "          'decision_function_shape': ['ovr'],\n",
    "          'tol': [1e-5, 1e-4, 1e-3, 1e-2, 1e-1, 1]}\n",
    "rs = RandomizedSearchCV(classifier, params, cv=8, scoring='accuracy', n_iter=18)\n",
    "rs.fit(X_train, y_train)\n",
    "print(pd.DataFrame(rs.cv_results_)[['param_C','param_tol','mean_test_score']])\n"
   ]
  },
  {
   "cell_type": "code",
   "execution_count": 12,
   "metadata": {},
   "outputs": [
    {
     "name": "stdout",
     "output_type": "stream",
     "text": [
      "  param_C param_tol  mean_test_score\n",
      "0     500    0.0001         0.874918\n",
      "1     500     0.001         0.874918\n",
      "2     500      0.01         0.874706\n",
      "3    1000    0.0001         0.877892\n",
      "4    1000     0.001         0.877892\n",
      "5    1000      0.01         0.878105\n",
      "6    5000    0.0001         0.860053\n",
      "7    5000     0.001         0.860053\n",
      "8    5000      0.01         0.859204\n",
      "Wall time: 8min 48s\n"
     ]
    }
   ],
   "source": [
    "%%time\n",
    "classifier = SVC(kernel='rbf', max_iter=-1)\n",
    "params = {'C': [5e2, 1e3, 5e3],\n",
    "          'gamma': ['scale'],\n",
    "          'decision_function_shape': ['ovr'],\n",
    "          'tol': [1e-4, 1e-3, 1e-2]}\n",
    "rs = RandomizedSearchCV(classifier, params, cv=8, scoring='accuracy', n_iter=9)\n",
    "rs.fit(X_train, y_train)\n",
    "print(pd.DataFrame(rs.cv_results_)[['param_C','param_tol','mean_test_score']])\n"
   ]
  },
  {
   "cell_type": "code",
   "execution_count": 14,
   "metadata": {},
   "outputs": [
    {
     "name": "stdout",
     "output_type": "stream",
     "text": [
      "  param_C param_tol  mean_test_score\n",
      "0     750    0.0001         0.877891\n",
      "1     750     0.001         0.877891\n",
      "2     750      0.01         0.877466\n",
      "3    1000    0.0001         0.877892\n",
      "4    1000     0.001         0.877892\n",
      "5    1000      0.01         0.878105\n",
      "6    1250    0.0001         0.872585\n",
      "7    1250     0.001         0.872585\n",
      "8    1250      0.01         0.872797\n",
      "Wall time: 9min 1s\n"
     ]
    }
   ],
   "source": [
    "%%time\n",
    "classifier = SVC(kernel='rbf', max_iter=-1)\n",
    "params = {'C': [7.5e2, 1e3, 1.25e3],\n",
    "          'gamma': ['scale'],\n",
    "          'decision_function_shape': ['ovr'],\n",
    "          'tol': [1e-4, 1e-3, 1e-2]}\n",
    "rs = RandomizedSearchCV(classifier, params, cv=8, scoring='accuracy', n_iter=9)\n",
    "rs.fit(X_train, y_train)\n",
    "print(pd.DataFrame(rs.cv_results_)[['param_C','param_tol','mean_test_score']])"
   ]
  },
  {
   "cell_type": "code",
   "execution_count": 15,
   "metadata": {},
   "outputs": [
    {
     "name": "stderr",
     "output_type": "stream",
     "text": [
      "D:\\Programas\\anaconda3\\envs\\BCIMusical\\lib\\site-packages\\sklearn\\model_selection\\_search.py:281: UserWarning: The total space of parameters 6 is smaller than n_iter=9. Running 6 iterations. For exhaustive searches, use GridSearchCV.\n",
      "  % (grid_size, self.n_iter, grid_size), UserWarning)\n"
     ]
    },
    {
     "name": "stdout",
     "output_type": "stream",
     "text": [
      "  param_C param_tol  mean_test_score\n",
      "0     950      0.01         0.877893\n",
      "1     950      0.05         0.877255\n",
      "2    1000      0.01         0.878105\n",
      "3    1000      0.05         0.877043\n",
      "4    1050      0.01         0.877044\n",
      "5    1050      0.05         0.876619\n",
      "Wall time: 5min 12s\n"
     ]
    }
   ],
   "source": [
    "%%time\n",
    "classifier = SVC(kernel='rbf', max_iter=-1)\n",
    "params = {'C': [9.5e2, 1e3, 1.05e3],\n",
    "          'gamma': ['scale'],\n",
    "          'decision_function_shape': ['ovr'],\n",
    "          'tol': [1e-2, 5e-2]}\n",
    "rs = RandomizedSearchCV(classifier, params, cv=8, scoring='accuracy', n_iter=9)\n",
    "rs.fit(X_train, y_train)\n",
    "print(pd.DataFrame(rs.cv_results_)[['param_C','param_tol','mean_test_score']])"
   ]
  },
  {
   "cell_type": "code",
   "execution_count": 3,
   "metadata": {},
   "outputs": [
    {
     "name": "stdout",
     "output_type": "stream",
     "text": [
      "TEST SET:\n",
      "              precision    recall  f1-score   support\n",
      "\n",
      "         1.0       0.86      0.92      0.89       498\n",
      "         2.0       0.92      0.90      0.91       484\n",
      "         3.0       0.92      0.87      0.89       364\n",
      "\n",
      "    accuracy                           0.90      1346\n",
      "   macro avg       0.90      0.89      0.90      1346\n",
      "weighted avg       0.90      0.90      0.90      1346\n",
      "\n",
      "VAL SET:\n",
      "              precision    recall  f1-score   support\n",
      "\n",
      "         1.0       0.86      0.92      0.89       250\n",
      "         2.0       0.91      0.86      0.89       259\n",
      "         3.0       0.89      0.89      0.89       164\n",
      "\n",
      "    accuracy                           0.89       673\n",
      "   macro avg       0.89      0.89      0.89       673\n",
      "weighted avg       0.89      0.89      0.89       673\n",
      "\n",
      "Wall time: 11.2 s\n"
     ]
    }
   ],
   "source": [
    "%%time\n",
    "import joblib\n",
    "from sklearn.metrics import classification_report\n",
    "#Dividimos el test set en test y val\n",
    "X_val, X_test, y_val, y_test = train_test_split(X_test, y_test, random_state=3, test_size=2/3)\n",
    "classifier = SVC(kernel='rbf', gamma='scale', max_iter=-1, C=1e3, tol=1e-2, decision_function_shape='ovr')\n",
    "classifier.fit(X_train, y_train)\n",
    "y_predict = classifier.predict(X_test)\n",
    "print('TEST SET:')\n",
    "print(classification_report(y_test, y_predict))\n",
    "print('VAL SET:')\n",
    "y_val_predict = classifier.predict(X_val)\n",
    "print(classification_report(y_val, y_val_predict))\n",
    "joblib.dump(classifier, 'D:/Github/eeg.fem/public/data/Musical/5956733/ML_models/Model_RBF_PSD_64')"
   ]
  },
  {
   "cell_type": "code",
   "execution_count": 4,
   "metadata": {},
   "outputs": [
    {
     "name": "stdout",
     "output_type": "stream",
     "text": [
      "  param_C param_tol  mean_test_score\n",
      "0     950    0.0001         0.877680\n",
      "1     950      0.01         0.877893\n",
      "2     950      0.05         0.877255\n",
      "3    1000    0.0001         0.877892\n",
      "4    1000      0.01         0.878105\n",
      "5    1000      0.05         0.877043\n",
      "6    1050    0.0001         0.877468\n",
      "7    1050      0.01         0.877044\n",
      "8    1050      0.05         0.876619\n",
      "Wall time: 9min 12s\n"
     ]
    }
   ],
   "source": [
    "%%time\n",
    "classifier = SVC(kernel='rbf', max_iter=-1)\n",
    "params = {'C': [9.5e2, 1e3, 1.05e3],\n",
    "          'gamma': ['scale'],\n",
    "          'decision_function_shape': ['ovr'],\n",
    "          'tol': [1e-4, 1e-2, 5e-2]}\n",
    "rs = RandomizedSearchCV(classifier, params, cv=8, scoring='accuracy', n_iter=9)\n",
    "rs.fit(X_train, y_train)\n",
    "print(pd.DataFrame(rs.cv_results_)[['param_C','param_tol','mean_test_score']])"
   ]
  },
  {
   "cell_type": "code",
   "execution_count": 5,
   "metadata": {},
   "outputs": [
    {
     "name": "stdout",
     "output_type": "stream",
     "text": [
      "   param_C param_tol  mean_test_score\n",
      "0     1000      0.05         0.365895\n",
      "1     1050      0.05         0.365470\n",
      "2      950      0.05         0.877255\n",
      "3     1050    0.0001         0.877468\n",
      "4      950    0.0001         0.365895\n",
      "5      950      0.01         0.877893\n",
      "6     1050    0.0001         0.365895\n",
      "7     1000      0.01         0.365895\n",
      "8      950      0.05         0.365470\n",
      "9      950      0.01         0.365895\n",
      "10     950      0.01         0.365470\n",
      "11    1050    0.0001         0.365470\n",
      "12     950    0.0001         0.365470\n",
      "13     950      0.05         0.365895\n",
      "14    1000    0.0001         0.877892\n",
      "15    1000      0.01         0.878105\n",
      "16    1050      0.01         0.365470\n",
      "17    1000      0.05         0.365470\n",
      "Wall time: 26min 56s\n"
     ]
    }
   ],
   "source": [
    "%%time\n",
    "classifier = SVC(kernel='rbf', max_iter=-1)\n",
    "params = {'C': [9.5e2, 1e3, 1.05e3],\n",
    "          'gamma': [1e-5, 1e5, 'scale'],\n",
    "          'decision_function_shape': ['ovr'],\n",
    "          'tol': [1e-4, 1e-2, 5e-2]}\n",
    "rs = RandomizedSearchCV(classifier, params, cv=8, scoring='accuracy', n_iter=18)\n",
    "rs.fit(X_train, y_train)\n",
    "print(pd.DataFrame(rs.cv_results_)[['param_C','param_tol','mean_test_score']])"
   ]
  },
  {
   "cell_type": "code",
   "execution_count": 6,
   "metadata": {},
   "outputs": [
    {
     "name": "stdout",
     "output_type": "stream",
     "text": [
      "   param_C param_tol param_gamma  mean_test_score\n",
      "0     1000      0.05       1e-05         0.365895\n",
      "1     1050      0.05      100000         0.365470\n",
      "2      950      0.05       scale         0.877255\n",
      "3     1050    0.0001       scale         0.877468\n",
      "4      950    0.0001       1e-05         0.365895\n",
      "5      950      0.01       scale         0.877893\n",
      "6     1050    0.0001       1e-05         0.365895\n",
      "7     1000      0.01       1e-05         0.365895\n",
      "8      950      0.05      100000         0.365470\n",
      "9      950      0.01       1e-05         0.365895\n",
      "10     950      0.01      100000         0.365470\n",
      "11    1050    0.0001      100000         0.365470\n",
      "12     950    0.0001      100000         0.365470\n",
      "13     950      0.05       1e-05         0.365895\n",
      "14    1000    0.0001       scale         0.877892\n",
      "15    1000      0.01       scale         0.878105\n",
      "16    1050      0.01      100000         0.365470\n",
      "17    1000      0.05      100000         0.365470\n"
     ]
    }
   ],
   "source": [
    "print(pd.DataFrame(rs.cv_results_)[['param_C','param_tol','param_gamma','mean_test_score']])"
   ]
  },
  {
   "cell_type": "code",
   "execution_count": 7,
   "metadata": {},
   "outputs": [
    {
     "name": "stdout",
     "output_type": "stream",
     "text": [
      "   param_C param_tol  mean_test_score\n",
      "0   100000      0.01         0.365895\n",
      "1   100000    0.0001         0.365470\n",
      "2    1e+06      0.01         0.365895\n",
      "3    10000      0.01         0.856020\n",
      "4    10000      0.05         0.365470\n",
      "5    1e+06      0.05         0.365470\n",
      "6    10000      0.05         0.365895\n",
      "7    1e+06    0.0001         0.365470\n",
      "8   100000    0.0001         0.854959\n",
      "9    1e+06    0.0001         0.365895\n",
      "10   10000      0.01         0.365895\n",
      "11  100000      0.01         0.365470\n",
      "12   1e+06      0.01         0.365470\n",
      "13   1e+06      0.05         0.365895\n",
      "14   10000      0.05         0.855807\n",
      "15   10000    0.0001         0.855807\n",
      "16  100000      0.01         0.854746\n",
      "17  100000      0.05         0.365895\n",
      "Wall time: 26min 5s\n"
     ]
    }
   ],
   "source": [
    "%%time\n",
    "classifier = SVC(kernel='rbf', max_iter=-1)\n",
    "params = {'C': [1e4, 1e5, 1e6],\n",
    "          'gamma': [1e-5, 1e5, 'scale'],\n",
    "          'decision_function_shape': ['ovr'],\n",
    "          'tol': [1e-4, 1e-2, 5e-2]}\n",
    "rs = RandomizedSearchCV(classifier, params, cv=8, scoring='accuracy', n_iter=18)\n",
    "rs.fit(X_train, y_train)\n",
    "print(pd.DataFrame(rs.cv_results_)[['param_C','param_tol','param_gamma','mean_test_score']])"
   ]
  },
  {
   "cell_type": "code",
   "execution_count": 8,
   "metadata": {},
   "outputs": [
    {
     "name": "stdout",
     "output_type": "stream",
     "text": [
      "   param_C param_tol param_gamma  mean_test_score\n",
      "0   100000      0.01       1e-05         0.365895\n",
      "1   100000    0.0001      100000         0.365470\n",
      "2    1e+06      0.01       1e-05         0.365895\n",
      "3    10000      0.01       scale         0.856020\n",
      "4    10000      0.05      100000         0.365470\n",
      "5    1e+06      0.05      100000         0.365470\n",
      "6    10000      0.05       1e-05         0.365895\n",
      "7    1e+06    0.0001      100000         0.365470\n",
      "8   100000    0.0001       scale         0.854959\n",
      "9    1e+06    0.0001       1e-05         0.365895\n",
      "10   10000      0.01       1e-05         0.365895\n",
      "11  100000      0.01      100000         0.365470\n",
      "12   1e+06      0.01      100000         0.365470\n",
      "13   1e+06      0.05       1e-05         0.365895\n",
      "14   10000      0.05       scale         0.855807\n",
      "15   10000    0.0001       scale         0.855807\n",
      "16  100000      0.01       scale         0.854746\n",
      "17  100000      0.05       1e-05         0.365895\n"
     ]
    }
   ],
   "source": [
    "print(pd.DataFrame(rs.cv_results_)[['param_C','param_tol','param_gamma','mean_test_score']])"
   ]
  },
  {
   "cell_type": "code",
   "execution_count": 9,
   "metadata": {},
   "outputs": [
    {
     "name": "stdout",
     "output_type": "stream",
     "text": [
      "   param_C param_tol param_gamma  mean_test_score\n",
      "0   150000      0.01       scale         0.854746\n",
      "1    1e+06      0.01      100000         0.365470\n",
      "2   150000      0.01       1e-05         0.365895\n",
      "3   150000      0.05      100000         0.365470\n",
      "4   100000      0.05       1e-05         0.365895\n",
      "5    1e+06      0.01       1e-05         0.365895\n",
      "6   100000      0.01       scale         0.854746\n",
      "7    1e+06      0.05      100000         0.365470\n",
      "8    1e+06    0.0001      100000         0.365470\n",
      "9   100000      0.05      100000         0.365470\n",
      "10   1e+06      0.01       scale         0.854746\n",
      "11  100000    0.0001      100000         0.365470\n",
      "12  100000      0.01      100000         0.365470\n",
      "13  150000      0.05       1e-05         0.365895\n",
      "14  150000      0.01      100000         0.365470\n",
      "15  150000    0.0001       1e-05         0.365895\n",
      "16  150000    0.0001       scale         0.854959\n",
      "17  150000      0.05       scale         0.854746\n",
      "Wall time: 25min 35s\n"
     ]
    }
   ],
   "source": [
    "%%time\n",
    "classifier = SVC(kernel='rbf', max_iter=-1)\n",
    "params = {'C': [1e5, 1.5e5, 1e6],\n",
    "          'gamma': [1e-5, 1e5, 'scale'],\n",
    "          'decision_function_shape': ['ovr'],\n",
    "          'tol': [1e-4, 1e-2, 5e-2]}\n",
    "rs = RandomizedSearchCV(classifier, params, cv=8, scoring='accuracy', n_iter=18)\n",
    "rs.fit(X_train, y_train)\n",
    "print(pd.DataFrame(rs.cv_results_)[['param_C','param_tol','param_gamma','mean_test_score']])"
   ]
  },
  {
   "cell_type": "code",
   "execution_count": null,
   "metadata": {},
   "outputs": [],
   "source": []
  }
 ],
 "metadata": {
  "interpreter": {
   "hash": "f9ecac2d14d2bb269a4709d9862e512850489fa6d8ba68695ffcc8a638687dcf"
  },
  "kernelspec": {
   "display_name": "Python 3.6.13 64-bit ('BCIMusical': conda)",
   "language": "python",
   "name": "python361364bitbcimusicalcondae85380e674b24bdb93e8f1c1ae5acdff"
  },
  "language_info": {
   "codemirror_mode": {
    "name": "ipython",
    "version": 3
   },
   "file_extension": ".py",
   "mimetype": "text/x-python",
   "name": "python",
   "nbconvert_exporter": "python",
   "pygments_lexer": "ipython3",
   "version": "3.6.13-final"
  }
 },
 "nbformat": 4,
 "nbformat_minor": 2
}