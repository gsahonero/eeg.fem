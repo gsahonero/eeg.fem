{
 "cells": [
  {
   "cell_type": "code",
   "execution_count": 2,
   "source": [
    "import numpy as np\r\n",
    "from sklearn.svm import SVC\r\n",
    "from sklearn.model_selection import train_test_split\r\n",
    "from sklearn.model_selection import RandomizedSearchCV\r\n",
    "import pandas as pd"
   ],
   "outputs": [],
   "metadata": {}
  },
  {
   "cell_type": "code",
   "execution_count": 3,
   "source": [
    "df = np.genfromtxt('D:/Github/eeg.fem/public/data/Musical/6080072/data_for_train/ALL_PSD_64.csv',delimiter=',')\r\n",
    "x = df[:, :-1]\r\n",
    "y = df[:, -1]\r\n",
    "X_train, X_test, y_train, y_test = train_test_split(x, y, random_state=3, test_size=0.3)"
   ],
   "outputs": [],
   "metadata": {}
  },
  {
   "cell_type": "code",
   "execution_count": 3,
   "source": [
    "%%time\r\n",
    "classifier = SVC(kernel='rbf', max_iter=-1 ,decision_function_shape='ovr', tol=1e-3)\r\n",
    "#classifier = SVC(C=4, kernel='rbf', gamma='scale', tol=1e-3, max_iter=-1, decision_function_shape='ovr')\r\n",
    "\r\n",
    "params = {'C': [1e-5, 1, 1e5],\r\n",
    "          'gamma': [1e-5, 'scale', 1e5]}\r\n",
    "\r\n",
    "rs = RandomizedSearchCV(classifier, params, cv=8, scoring='accuracy', n_iter=9)\r\n",
    "\r\n",
    "rs.fit(X_train, y_train)\r\n",
    "\r\n",
    "print(pd.DataFrame(rs.cv_results_)[['param_C','param_gamma','mean_test_score']])"
   ],
   "outputs": [
    {
     "output_type": "stream",
     "name": "stdout",
     "text": [
      "  param_C param_gamma  mean_test_score\n",
      "0   1e-05       1e-05         0.365470\n",
      "1   1e-05       scale         0.365470\n",
      "2   1e-05      100000         0.365470\n",
      "3       1       1e-05         0.401570\n",
      "4       1       scale         0.438100\n",
      "5       1      100000         0.365470\n",
      "6  100000       1e-05         0.400295\n",
      "7  100000       scale         0.483327\n",
      "8  100000      100000         0.365470\n",
      "Wall time: 24min 30s\n"
     ]
    }
   ],
   "metadata": {}
  },
  {
   "cell_type": "code",
   "execution_count": 7,
   "source": [
    "%%time\r\n",
    "classifier = SVC(kernel='rbf', max_iter=-1, tol=1e-3)\r\n",
    "params = {'C': [1e2, 1e4, 1e6],\r\n",
    "          'gamma': ['scale'],\r\n",
    "          'decision_function_shape': ['ovr', 'ovo']}\r\n",
    "rs = RandomizedSearchCV(classifier, params, cv=8, scoring='accuracy', n_iter=6)\r\n",
    "rs.fit(X_train, y_train)\r\n",
    "print(pd.DataFrame(rs.cv_results_)[['param_C','param_gamma','param_decision_function_shape','mean_test_score']])"
   ],
   "outputs": [
    {
     "output_type": "stream",
     "name": "stdout",
     "text": [
      "  param_C param_gamma param_decision_function_shape  mean_test_score\n",
      "0     100       scale                           ovr         0.437890\n",
      "1     100       scale                           ovo         0.437890\n",
      "2   10000       scale                           ovr         0.479077\n",
      "3   10000       scale                           ovo         0.479077\n",
      "4   1e+06       scale                           ovr         0.592069\n",
      "5   1e+06       scale                           ovo         0.592069\n",
      "Wall time: 7h 16min 12s\n"
     ]
    }
   ],
   "metadata": {}
  },
  {
   "cell_type": "code",
   "execution_count": 4,
   "source": [
    "%%time\r\n",
    "classifier = SVC(kernel='rbf', max_iter=-1, tol=1e-3)\r\n",
    "params = {'C': [1e4, 1e6, 1e10],\r\n",
    "          'gamma': ['scale'],\r\n",
    "          'decision_function_shape': ['ovo']}\r\n",
    "rs = RandomizedSearchCV(classifier, params, cv=8, scoring='accuracy', n_iter=3)\r\n",
    "rs.fit(X_train, y_train)\r\n",
    "print(pd.DataFrame(rs.cv_results_)[['param_C','mean_test_score']])"
   ],
   "outputs": [],
   "metadata": {}
  }
 ],
 "metadata": {
  "orig_nbformat": 4,
  "language_info": {
   "name": "python",
   "version": "3.6.13",
   "mimetype": "text/x-python",
   "codemirror_mode": {
    "name": "ipython",
    "version": 3
   },
   "pygments_lexer": "ipython3",
   "nbconvert_exporter": "python",
   "file_extension": ".py"
  },
  "kernelspec": {
   "name": "python3",
   "display_name": "Python 3.6.13 64-bit ('BCIMusical': conda)"
  },
  "interpreter": {
   "hash": "f9ecac2d14d2bb269a4709d9862e512850489fa6d8ba68695ffcc8a638687dcf"
  }
 },
 "nbformat": 4,
 "nbformat_minor": 2
}