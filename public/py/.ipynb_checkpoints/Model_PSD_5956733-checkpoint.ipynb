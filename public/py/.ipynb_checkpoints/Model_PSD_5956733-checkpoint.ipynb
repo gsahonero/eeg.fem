{
 "cells": [
  {
   "cell_type": "code",
   "execution_count": 1,
   "metadata": {},
   "outputs": [],
   "source": [
    "import numpy as np\n",
    "from sklearn.svm import SVC\n",
    "from sklearn.model_selection import train_test_split\n",
    "from sklearn.model_selection import RandomizedSearchCV\n",
    "import pandas as pd"
   ]
  },
  {
   "cell_type": "code",
   "execution_count": 3,
   "metadata": {},
   "outputs": [],
   "source": [
    "df = np.genfromtxt('D:/Github/eeg.fem/public/data/Musical/5956733/data_for_train/ALL_PSD_64.csv',delimiter=',')\n",
    "x = df[:, :-1]\n",
    "y = df[:, -1]\n",
    "X_train, X_test, y_train, y_test = train_test_split(x, y, random_state=3, test_size=0.3)"
   ]
  },
  {
   "cell_type": "code",
   "execution_count": 6,
   "metadata": {},
   "outputs": [
    {
     "name": "stdout",
     "output_type": "stream",
     "text": [
      "  param_C param_gamma  mean_test_score\n",
      "0   1e-05       1e-05         0.365470\n",
      "1   1e-05       scale         0.365470\n",
      "2   1e-05      100000         0.365470\n",
      "3       1       1e-05         0.365683\n",
      "4       1       scale         0.707576\n",
      "5       1      100000         0.365470\n",
      "6  100000       1e-05         0.365895\n",
      "7  100000       scale         0.854959\n",
      "8  100000      100000         0.365470\n",
      "Wall time: 14min 55s\n"
     ]
    }
   ],
   "source": [
    "%%time\n",
    "classifier = SVC(kernel='rbf', max_iter=-1 ,decision_function_shape='ovr', tol=1e-3)\n",
    "#classifier = SVC(C=4, kernel='rbf', gamma='scale', tol=1e-3, max_iter=-1, decision_function_shape='ovr')\n",
    "\n",
    "params = {'C': [1e-5, 1, 1e5],\n",
    "          'gamma': [1e-5, 'scale', 1e5]}\n",
    "\n",
    "rs = RandomizedSearchCV(classifier, params, cv=8, scoring='accuracy', n_iter=9)\n",
    "\n",
    "rs.fit(X_train, y_train)\n",
    "\n",
    "print(pd.DataFrame(rs.cv_results_)[['param_C','param_gamma','mean_test_score']])"
   ]
  },
  {
   "cell_type": "code",
   "execution_count": 7,
   "metadata": {},
   "outputs": [
    {
     "name": "stdout",
     "output_type": "stream",
     "text": [
      "  param_C param_gamma param_decision_function_shape  mean_test_score\n",
      "0       1       scale                           ovr         0.707576\n",
      "1       1       scale                           ovo         0.707576\n",
      "2  100000       scale                           ovr         0.854959\n",
      "3  100000       scale                           ovo         0.854959\n",
      "4   1e+10       scale                           ovr         0.854959\n",
      "5   1e+10       scale                           ovo         0.854959\n",
      "Wall time: 8min 3s\n"
     ]
    }
   ],
   "source": [
    "%%time\n",
    "classifier = SVC(kernel='rbf', max_iter=-1, tol=1e-3)\n",
    "#classifier = SVC(C=4, kernel='rbf', gamma='scale', tol=1e-3, max_iter=-1, decision_function_shape='ovr')\n",
    "\n",
    "params = {'C': [1, 1e5, 1e10],\n",
    "          'gamma': ['scale'],\n",
    "          'decision_function_shape': ['ovr', 'ovo']}\n",
    "\n",
    "rs = RandomizedSearchCV(classifier, params, cv=8, scoring='accuracy', n_iter=6)\n",
    "\n",
    "rs.fit(X_train, y_train)\n",
    "\n",
    "print(pd.DataFrame(rs.cv_results_)[['param_C','param_gamma','param_decision_function_shape','mean_test_score']])\n"
   ]
  },
  {
   "cell_type": "code",
   "execution_count": 8,
   "metadata": {},
   "outputs": [
    {
     "name": "stdout",
     "output_type": "stream",
     "text": [
      "  param_C param_gamma param_decision_function_shape  mean_test_score\n",
      "0       1       scale                           ovr         0.707576\n",
      "1      10       scale                           ovr         0.790612\n",
      "2     100       scale                           ovr         0.847733\n",
      "3    1000       scale                           ovr         0.877892\n",
      "4   10000       scale                           ovr         0.855807\n",
      "5  100000       scale                           ovr         0.854959\n",
      "Wall time: 6min 32s\n"
     ]
    }
   ],
   "source": [
    "%%time\n",
    "classifier = SVC(kernel='rbf', max_iter=-1, tol=1e-3)\n",
    "#classifier = SVC(C=4, kernel='rbf', gamma='scale', tol=1e-3, max_iter=-1, decision_function_shape='ovr')\n",
    "\n",
    "params = {'C': [1, 1e1, 1e2, 1e3, 1e4, 1e5],\n",
    "          'gamma': ['scale'],\n",
    "          'decision_function_shape': ['ovr']}\n",
    "\n",
    "rs = RandomizedSearchCV(classifier, params, cv=8, scoring='accuracy', n_iter=6)\n",
    "\n",
    "rs.fit(X_train, y_train)\n",
    "\n",
    "print(pd.DataFrame(rs.cv_results_)[['param_C','param_gamma','param_decision_function_shape','mean_test_score']])\n"
   ]
  },
  {
   "cell_type": "code",
   "execution_count": 10,
   "metadata": {},
   "outputs": [
    {
     "name": "stdout",
     "output_type": "stream",
     "text": [
      "   param_C param_gamma param_tol param_decision_function_shape  \\\n",
      "0        1       scale     1e-05                           ovr   \n",
      "1        1       scale         1                           ovr   \n",
      "2        1       scale    100000                           ovr   \n",
      "3       10       scale     1e-05                           ovr   \n",
      "4       10       scale         1                           ovr   \n",
      "5       10       scale    100000                           ovr   \n",
      "6      100       scale     1e-05                           ovr   \n",
      "7      100       scale         1                           ovr   \n",
      "8      100       scale    100000                           ovr   \n",
      "9     1000       scale     1e-05                           ovr   \n",
      "10    1000       scale         1                           ovr   \n",
      "11    1000       scale    100000                           ovr   \n",
      "12   10000       scale     1e-05                           ovr   \n",
      "13   10000       scale         1                           ovr   \n",
      "14   10000       scale    100000                           ovr   \n",
      "15  100000       scale     1e-05                           ovr   \n",
      "16  100000       scale         1                           ovr   \n",
      "17  100000       scale    100000                           ovr   \n",
      "\n",
      "    mean_test_score  \n",
      "0          0.707789  \n",
      "1          0.701635  \n",
      "2          0.270121  \n",
      "3          0.790612  \n",
      "4          0.785515  \n",
      "5          0.270121  \n",
      "6          0.847733  \n",
      "7          0.847525  \n",
      "8          0.270121  \n",
      "9          0.877892  \n",
      "10         0.875980  \n",
      "11         0.270121  \n",
      "12         0.855807  \n",
      "13         0.859417  \n",
      "14         0.270121  \n",
      "15         0.854959  \n",
      "16         0.857294  \n",
      "17         0.270121  \n",
      "Wall time: 11min 36s\n"
     ]
    }
   ],
   "source": [
    "%%time\n",
    "classifier = SVC(kernel='rbf', max_iter=-1)\n",
    "#classifier = SVC(C=4, kernel='rbf', gamma='scale', tol=1e-3, max_iter=-1, decision_function_shape='ovr')\n",
    "\n",
    "params = {'C': [1, 1e1, 1e2, 1e3, 1e4, 1e5],\n",
    "          'gamma': ['scale'],\n",
    "          'decision_function_shape': ['ovr'],\n",
    "          'tol': [1e-5, 1, 1e5]}\n",
    "\n",
    "rs = RandomizedSearchCV(classifier, params, cv=8, scoring='accuracy', n_iter=18)\n",
    "\n",
    "rs.fit(X_train, y_train)\n",
    "\n",
    "print(pd.DataFrame(rs.cv_results_)[['param_C','param_gamma','param_tol','param_decision_function_shape','mean_test_score']])\n"
   ]
  }
 ],
 "metadata": {
  "interpreter": {
   "hash": "f9ecac2d14d2bb269a4709d9862e512850489fa6d8ba68695ffcc8a638687dcf"
  },
  "kernelspec": {
   "display_name": "Python 3",
   "language": "python",
   "name": "python3"
  },
  "language_info": {
   "codemirror_mode": {
    "name": "ipython",
    "version": 3
   },
   "file_extension": ".py",
   "mimetype": "text/x-python",
   "name": "python",
   "nbconvert_exporter": "python",
   "pygments_lexer": "ipython3",
   "version": "3.6.13"
  }
 },
 "nbformat": 4,
 "nbformat_minor": 2
}
