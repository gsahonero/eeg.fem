{
 "cells": [
  {
   "cell_type": "code",
   "execution_count": 2,
   "id": "3cfd8f0c",
   "metadata": {},
   "outputs": [],
   "source": [
    "import numpy as np\n",
    "import pandas as pd\n",
    "import matplotlib.pyplot as plt\n",
    "%matplotlib inline\n",
    "from sklearn.svm import LinearSVC\n",
    "from sklearn.svm import SVC\n",
    "from sklearn.model_selection import cross_val_score\n",
    "from sklearn.model_selection import train_test_split\n",
    "from sklearn.model_selection import RandomizedSearchCV\n",
    "\n",
    "path = 'D:/Github/eeg.fem/public/data/Musical/5956733/All_Data/'\n",
    "df = np.genfromtxt(str(path)+'ALL_3C.csv',delimiter=',')\n",
    "\n",
    "X = df[:,:df.shape[1]-1]\n",
    "y = df[:,df.shape[1]-1]\n",
    " \n",
    "X_train, X_test, y_train, y_test = train_test_split(X, y, random_state=3, test_size=0.3)"
   ]
  },
  {
   "cell_type": "code",
   "execution_count": 2,
   "id": "6e63f98a",
   "metadata": {},
   "outputs": [
    {
     "name": "stdout",
     "output_type": "stream",
     "text": [
      "  param_C param_tol param_decision_function_shape  mean_test_score\n",
      "0  100000     0.001                           ovo          1.00000\n",
      "1  100000      0.01                           ovo          1.00000\n",
      "2   1e-10     0.001                           ovr          0.36547\n",
      "3   1e-10     0.001                           ovo          0.36547\n",
      "4   1e-10      0.01                           ovo          0.36547\n",
      "Wall time: 2h 11min 9s\n"
     ]
    }
   ],
   "source": [
    "%%time\n",
    "classifier = SVC(kernel='linear', max_iter=-1)\n",
    "#classifier = SVC(kernel='linear', C=1, decision_function_shape='ovr', max_iter=-1)\n",
    "# C=25, kernel='rbf', gamma='scale', coef0=*, shrinking=*, probability=*, \n",
    "#tol=0.01, cache_size=*, class_weight=*, verbose=*, max_iter=- 1, decision_function_shape='ovr', \n",
    "#break_ties=*, random_state=*\n",
    "\n",
    "params = {'C': [1e-10, 1e-5, 1e-2, 1, 1e2, 1e5, 1e10],\n",
    "          'tol': [1e-2, 1e-3],\n",
    "          'decision_function_shape': ['ovr', 'ovo']}\n",
    "\n",
    "rs = RandomizedSearchCV(classifier, params, cv=8, scoring='accuracy', n_iter=5)\n",
    "\n",
    "rs.fit(X_train, y_train)\n",
    "\n",
    "print(pd.DataFrame(rs.cv_results_)[['param_C','param_tol','param_decision_function_shape','mean_test_score']])"
   ]
  },
  {
   "cell_type": "code",
   "execution_count": 3,
   "id": "f4759c15",
   "metadata": {},
   "outputs": [
    {
     "name": "stdout",
     "output_type": "stream",
     "text": [
      "  param_C param_tol param_decision_function_shape  mean_test_score\n",
      "0  100000      0.01                           ovr          1.00000\n",
      "1    0.01      0.01                           ovr          1.00000\n",
      "2    0.01     0.001                           ovo          1.00000\n",
      "3  100000     0.001                           ovr          1.00000\n",
      "4       1     0.001                           ovr          1.00000\n",
      "5   1e-10     0.001                           ovo          0.36547\n",
      "6    0.01      0.01                           ovo          1.00000\n",
      "7     100      0.01                           ovo          1.00000\n",
      "8       1     0.001                           ovo          1.00000\n",
      "9     100     0.001                           ovo          1.00000\n",
      "Wall time: 7h 39min 3s\n"
     ]
    }
   ],
   "source": [
    "%%time\n",
    "classifier = SVC(kernel='linear', max_iter=-1)\n",
    "#classifier = SVC(kernel='linear', C=1, decision_function_shape='ovr', max_iter=-1)\n",
    "# C=25, kernel='rbf', gamma='scale', coef0=*, shrinking=*, probability=*, \n",
    "#tol=0.01, cache_size=*, class_weight=*, verbose=*, max_iter=- 1, decision_function_shape='ovr', \n",
    "#break_ties=*, random_state=*\n",
    "\n",
    "params = {'C': [1e-10, 1e-5, 1e-2, 1],\n",
    "          'tol': [1e-2, 1e-3],\n",
    "          'decision_function_shape': ['ovr', 'ovo']}\n",
    "\n",
    "rs = RandomizedSearchCV(classifier, params, cv=8, scoring='accuracy', n_iter=10)\n",
    "\n",
    "rs.fit(X_train, y_train)\n",
    "\n",
    "print(pd.DataFrame(rs.cv_results_)[['param_C','param_tol','param_decision_function_shape','mean_test_score']])"
   ]
  },
  {
   "cell_type": "code",
   "execution_count": 2,
   "id": "7a27370e",
   "metadata": {},
   "outputs": [
    {
     "name": "stdout",
     "output_type": "stream",
     "text": [
      "  param_C param_tol param_decision_function_shape  mean_test_score\n",
      "0   1e-05      0.01                           ovo         0.335528\n",
      "1   1e-05     0.001                           ovo         0.335528\n",
      "2    0.01     0.001                           ovo         1.000000\n",
      "3    0.01     0.001                           ovr         1.000000\n",
      "4   1e-08      0.01                           ovo         0.365470\n",
      "5   1e-05      0.01                           ovr         0.335528\n",
      "6   1e-05     0.001                           ovr         0.335528\n",
      "7   1e-08     0.001                           ovr         0.365470\n",
      "8   1e-08      0.01                           ovr         0.365470\n",
      "9   1e-08     0.001                           ovo         0.365470\n",
      "Wall time: 3h 55min 24s\n"
     ]
    }
   ],
   "source": [
    "%%time\n",
    "classifier = SVC(kernel='linear', max_iter=-1)\n",
    "#classifier = SVC(kernel='linear', C=1, decision_function_shape='ovr', max_iter=-1)\n",
    "# C=25, kernel='rbf', gamma='scale', coef0=*, shrinking=*, probability=*, \n",
    "#tol=0.01, cache_size=*, class_weight=*, verbose=*, max_iter=- 1, decision_function_shape='ovr', \n",
    "#break_ties=*, random_state=*\n",
    "\n",
    "params = {'C': [1e-8, 1e-5, 1e-2],\n",
    "          'tol': [1e-2, 1e-3],\n",
    "          'decision_function_shape': ['ovr', 'ovo']}\n",
    "\n",
    "rs = RandomizedSearchCV(classifier, params, cv=8, scoring='accuracy', n_iter=10)\n",
    "\n",
    "rs.fit(X_train, y_train)\n",
    "\n",
    "print(pd.DataFrame(rs.cv_results_)[['param_C','param_tol','param_decision_function_shape','mean_test_score']])"
   ]
  },
  {
   "cell_type": "code",
   "execution_count": 3,
   "id": "db95d72d",
   "metadata": {},
   "outputs": [
    {
     "name": "stdout",
     "output_type": "stream",
     "text": [
      "  param_C param_tol param_decision_function_shape  mean_test_score\n",
      "0     0.1      0.01                           ovr         1.000000\n",
      "1    0.01      0.01                           ovo         1.000000\n",
      "2   0.001     0.001                           ovo         0.871102\n",
      "3   0.001      0.01                           ovo         0.871952\n",
      "4    0.01     0.001                           ovr         1.000000\n",
      "5   0.001      0.01                           ovr         0.871952\n",
      "6     0.1      0.01                           ovo         1.000000\n",
      "7   0.001     0.001                           ovr         0.871102\n",
      "8     0.1     0.001                           ovr         1.000000\n",
      "9    0.01     0.001                           ovo         1.000000\n",
      "Wall time: 5h 57min 24s\n"
     ]
    }
   ],
   "source": [
    "%%time\n",
    "classifier = SVC(kernel='linear', max_iter=-1)\n",
    "#classifier = SVC(kernel='linear', C=1, decision_function_shape='ovr', max_iter=-1)\n",
    "# C=25, kernel='rbf', gamma='scale', coef0=*, shrinking=*, probability=*, \n",
    "#tol=0.01, cache_size=*, class_weight=*, verbose=*, max_iter=- 1, decision_function_shape='ovr', \n",
    "#break_ties=*, random_state=*\n",
    "\n",
    "params = {'C': [1e-1, 1e-3, 1e-2],\n",
    "          'tol': [1e-2, 1e-3],\n",
    "          'decision_function_shape': ['ovr', 'ovo']}\n",
    "\n",
    "rs = RandomizedSearchCV(classifier, params, cv=8, scoring='accuracy', n_iter=10)\n",
    "\n",
    "rs.fit(X_train, y_train)\n",
    "\n",
    "print(pd.DataFrame(rs.cv_results_)[['param_C','param_tol','param_decision_function_shape','mean_test_score']])"
   ]
  },
  {
   "cell_type": "code",
   "execution_count": 4,
   "id": "a06bf3ab",
   "metadata": {},
   "outputs": [
    {
     "name": "stdout",
     "output_type": "stream",
     "text": [
      "  param_C param_tol param_decision_function_shape  mean_test_score\n",
      "0    0.01       0.1                           ovo              1.0\n",
      "1   0.005     0.001                           ovr              1.0\n",
      "2    0.01       0.1                           ovr              1.0\n",
      "3   0.005      0.01                           ovr              1.0\n",
      "4    0.01      0.01                           ovo              1.0\n",
      "5   0.005       0.1                           ovo              1.0\n",
      "6   0.005       0.1                           ovr              1.0\n",
      "7   0.005     0.001                           ovo              1.0\n",
      "8    0.01      0.01                           ovr              1.0\n",
      "9    0.01     0.001                           ovr              1.0\n",
      "Wall time: 5h 30min 46s\n"
     ]
    }
   ],
   "source": [
    "%%time\n",
    "classifier = SVC(kernel='linear', max_iter=-1)\n",
    "#classifier = SVC(kernel='linear', C=1, decision_function_shape='ovr', max_iter=-1)\n",
    "# C=25, kernel='rbf', gamma='scale', coef0=*, shrinking=*, probability=*, \n",
    "#tol=0.01, cache_size=*, class_weight=*, verbose=*, max_iter=- 1, decision_function_shape='ovr', \n",
    "#break_ties=*, random_state=*\n",
    "\n",
    "params = {'C': [1e-2, 5e-3],\n",
    "          'tol': [1e-2, 1e-3, 1e-1],\n",
    "          'decision_function_shape': ['ovr', 'ovo']}\n",
    "\n",
    "rs = RandomizedSearchCV(classifier, params, cv=8, scoring='accuracy', n_iter=10)\n",
    "\n",
    "rs.fit(X_train, y_train)\n",
    "\n",
    "print(pd.DataFrame(rs.cv_results_)[['param_C','param_tol','param_decision_function_shape','mean_test_score']])"
   ]
  },
  {
   "cell_type": "code",
   "execution_count": 5,
   "id": "989a3f5a",
   "metadata": {},
   "outputs": [
    {
     "name": "stdout",
     "output_type": "stream",
     "text": [
      "Clasifier DONE\n",
      "TEST SET:\n",
      "              precision    recall  f1-score   support\n",
      "\n",
      "         1.0       1.00      1.00      1.00       220\n",
      "         2.0       1.00      1.00      1.00       205\n",
      "         3.0       1.00      1.00      1.00       174\n",
      "\n",
      "    accuracy                           1.00       599\n",
      "   macro avg       1.00      1.00      1.00       599\n",
      "weighted avg       1.00      1.00      1.00       599\n",
      "\n",
      "VAL SET:\n",
      "              precision    recall  f1-score   support\n",
      "\n",
      "         1.0       1.00      1.00      1.00       101\n",
      "         2.0       1.00      1.00      1.00       118\n",
      "         3.0       1.00      1.00      1.00        80\n",
      "\n",
      "    accuracy                           1.00       299\n",
      "   macro avg       1.00      1.00      1.00       299\n",
      "weighted avg       1.00      1.00      1.00       299\n",
      "\n",
      "Wall time: 9min 59s\n"
     ]
    }
   ],
   "source": [
    "%%time\n",
    "import joblib\n",
    "from sklearn.metrics import classification_report\n",
    "#Dividimos el test set en test y val\n",
    "X_val, X_test, y_val, y_test = train_test_split(X_test, y_test, random_state=3, test_size=2/3)\n",
    "\n",
    "classifier = SVC(kernel='linear', max_iter=-1, C=0.1, tol=1e-3, decision_function_shape='ovr')\n",
    "classifier.fit(X_train, y_train)\n",
    "print('Clasifier DONE')\n",
    "y_predict = classifier.predict(X_test)\n",
    "print('TEST SET:')\n",
    "print(classification_report(y_test, y_predict))\n",
    "print('VAL SET:')\n",
    "y_val_predict = classifier.predict(X_val)\n",
    "print(classification_report(y_val, y_val_predict))\n",
    "\n",
    "joblib.dump(classifier, 'D:/Github/eeg.fem/public/data/Musical/5956733/ML model/Models/Model_Linear_1')"
   ]
  },
  {
   "cell_type": "code",
   "execution_count": null,
   "id": "b506237b",
   "metadata": {},
   "outputs": [],
   "source": []
  }
 ],
 "metadata": {
  "kernelspec": {
   "display_name": "Python 3",
   "language": "python",
   "name": "python3"
  },
  "language_info": {
   "codemirror_mode": {
    "name": "ipython",
    "version": 3
   },
   "file_extension": ".py",
   "mimetype": "text/x-python",
   "name": "python",
   "nbconvert_exporter": "python",
   "pygments_lexer": "ipython3",
   "version": "3.6.13"
  }
 },
 "nbformat": 4,
 "nbformat_minor": 5
}
