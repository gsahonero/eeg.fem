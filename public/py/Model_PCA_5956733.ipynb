{
 "cells": [
  {
   "cell_type": "code",
   "execution_count": 1,
   "source": [
    "import numpy as np\r\n",
    "from sklearn.svm import SVC\r\n",
    "from sklearn.model_selection import train_test_split\r\n",
    "from sklearn.model_selection import RandomizedSearchCV\r\n",
    "import pandas as pd"
   ],
   "outputs": [],
   "metadata": {}
  },
  {
   "cell_type": "code",
   "execution_count": 2,
   "source": [
    "df = np.genfromtxt('D:/Github/eeg.fem/public/data/Musical/5956733/data_for_train/ALL_PCA_64.csv',delimiter=',')\r\n",
    "x = df[:, :-1]\r\n",
    "y = df[:, -1]\r\n",
    "X_train, X_test, y_train, y_test = train_test_split(x, y, random_state=3, test_size=0.3)"
   ],
   "outputs": [],
   "metadata": {}
  },
  {
   "cell_type": "code",
   "execution_count": 3,
   "source": [
    "%%time\r\n",
    "classifier = SVC(kernel='rbf', max_iter=-1 ,decision_function_shape='ovr', tol=1e-3)\r\n",
    "params = {'C': [1e-5, 1, 1e5],\r\n",
    "          'gamma': [1e-5, 'scale', 1e5]}\r\n",
    "rs = RandomizedSearchCV(classifier, params, cv=8, scoring='accuracy', n_iter=9)\r\n",
    "rs.fit(X_train, y_train)\r\n",
    "print(pd.DataFrame(rs.cv_results_)[['param_C','param_gamma','mean_test_score']])"
   ],
   "outputs": [
    {
     "output_type": "stream",
     "name": "stdout",
     "text": [
      "  param_C param_gamma  mean_test_score\n",
      "0   1e-05       1e-05         0.365470\n",
      "1   1e-05       scale         0.365470\n",
      "2   1e-05      100000         0.365470\n",
      "3       1       1e-05         0.365470\n",
      "4       1       scale         0.999575\n",
      "5       1      100000         0.365470\n",
      "6  100000       1e-05         1.000000\n",
      "7  100000       scale         0.999788\n",
      "8  100000      100000         0.365470\n",
      "Wall time: 1min 42s\n"
     ]
    }
   ],
   "metadata": {}
  },
  {
   "cell_type": "code",
   "execution_count": 5,
   "source": [
    "%%time\r\n",
    "classifier = SVC(kernel='rbf', max_iter=-1 ,tol=1e-3)\r\n",
    "params = {'C': [1e-1, 1, 1e1],\r\n",
    "          'gamma': [1e-3, 1e-1,'scale'],\r\n",
    "          'decision_function_shape': ['ovr']}\r\n",
    "rs = RandomizedSearchCV(classifier, params, cv=8, scoring='accuracy', n_iter=9)\r\n",
    "rs.fit(X_train, y_train)\r\n",
    "print(pd.DataFrame(rs.cv_results_)[['param_C','param_gamma','mean_test_score']])"
   ],
   "outputs": [
    {
     "output_type": "stream",
     "name": "stdout",
     "text": [
      "  param_C param_gamma  mean_test_score\n",
      "0     0.1       0.001         0.365470\n",
      "1     0.1         0.1         0.998514\n",
      "2     0.1       scale         0.997664\n",
      "3       1       0.001         1.000000\n",
      "4       1         0.1         0.999575\n",
      "5       1       scale         0.999575\n",
      "6      10       0.001         1.000000\n",
      "7      10         0.1         1.000000\n",
      "8      10       scale         0.999788\n",
      "Wall time: 30 s\n"
     ]
    }
   ],
   "metadata": {}
  },
  {
   "cell_type": "code",
   "execution_count": 11,
   "source": [
    "%%time\r\n",
    "classifier = SVC(kernel='rbf', max_iter=-1 ,tol=1e-3)\r\n",
    "params = {'C': [1e-1, 1e-2, 1],\r\n",
    "          'gamma': [1e-2, 1e-1,'scale'],\r\n",
    "          'decision_function_shape': ['ovr']}\r\n",
    "rs = RandomizedSearchCV(classifier, params, cv=8, scoring='accuracy', n_iter=9)\r\n",
    "rs.fit(X_train, y_train)\r\n",
    "print(pd.DataFrame(rs.cv_results_)[['param_C','param_gamma','mean_test_score']])"
   ],
   "outputs": [
    {
     "output_type": "stream",
     "name": "stdout",
     "text": [
      "  param_C param_gamma  mean_test_score\n",
      "0     0.1        0.01         1.000000\n",
      "1     0.1         0.1         0.998514\n",
      "2     0.1       scale         0.997664\n",
      "3    0.01        0.01         0.365470\n",
      "4    0.01         0.1         0.858146\n",
      "5    0.01       scale         0.884906\n",
      "6       1        0.01         1.000000\n",
      "7       1         0.1         0.999575\n",
      "8       1       scale         0.999575\n",
      "Wall time: 41 s\n"
     ]
    }
   ],
   "metadata": {}
  },
  {
   "cell_type": "code",
   "execution_count": 12,
   "source": [
    "%%time\r\n",
    "classifier = SVC(kernel='rbf', max_iter=-1 ,tol=1e-3)\r\n",
    "params = {'C': [1e-1, 5e-2, 1],\r\n",
    "          'gamma': [1e-2, 1e-1,'scale'],\r\n",
    "          'decision_function_shape': ['ovr']}\r\n",
    "rs = RandomizedSearchCV(classifier, params, cv=8, scoring='accuracy', n_iter=9)\r\n",
    "rs.fit(X_train, y_train)\r\n",
    "print(pd.DataFrame(rs.cv_results_)[['param_C','param_gamma','mean_test_score']])"
   ],
   "outputs": [
    {
     "output_type": "stream",
     "name": "stdout",
     "text": [
      "  param_C param_gamma  mean_test_score\n",
      "0     0.1        0.01         1.000000\n",
      "1     0.1         0.1         0.998514\n",
      "2     0.1       scale         0.997664\n",
      "3    0.05        0.01         0.997452\n",
      "4    0.05         0.1         0.997877\n",
      "5    0.05       scale         0.997240\n",
      "6       1        0.01         1.000000\n",
      "7       1         0.1         0.999575\n",
      "8       1       scale         0.999575\n",
      "Wall time: 30.9 s\n"
     ]
    }
   ],
   "metadata": {}
  },
  {
   "cell_type": "code",
   "execution_count": 13,
   "source": [
    "%%time\r\n",
    "classifier = SVC(kernel='rbf', max_iter=-1 ,tol=1e-3)\r\n",
    "params = {'C': [5e-2, 5e-3],\r\n",
    "          'gamma': [1e-2, 1e-1,'scale'],\r\n",
    "          'decision_function_shape': ['ovr']}\r\n",
    "rs = RandomizedSearchCV(classifier, params, cv=8, scoring='accuracy', n_iter=6)\r\n",
    "rs.fit(X_train, y_train)\r\n",
    "print(pd.DataFrame(rs.cv_results_)[['param_C','param_gamma','mean_test_score']])"
   ],
   "outputs": [
    {
     "output_type": "stream",
     "name": "stdout",
     "text": [
      "  param_C param_gamma  mean_test_score\n",
      "0    0.05        0.01         0.997452\n",
      "1    0.05         0.1         0.997877\n",
      "2    0.05       scale         0.997240\n",
      "3   0.005        0.01         0.365470\n",
      "4   0.005         0.1         0.365470\n",
      "5   0.005       scale         0.366532\n",
      "Wall time: 38 s\n"
     ]
    }
   ],
   "metadata": {}
  },
  {
   "cell_type": "code",
   "execution_count": 14,
   "source": [
    "%%time\r\n",
    "classifier = SVC(kernel='rbf', max_iter=-1 ,tol=1e-3)\r\n",
    "params = {'C': [2e-2, 9e-3],\r\n",
    "          'gamma': [1e-2, 1e-1,'scale'],\r\n",
    "          'decision_function_shape': ['ovr']}\r\n",
    "rs = RandomizedSearchCV(classifier, params, cv=8, scoring='accuracy', n_iter=6)\r\n",
    "rs.fit(X_train, y_train)\r\n",
    "print(pd.DataFrame(rs.cv_results_)[['param_C','param_gamma','mean_test_score']])"
   ],
   "outputs": [
    {
     "output_type": "stream",
     "name": "stdout",
     "text": [
      "  param_C param_gamma  mean_test_score\n",
      "0    0.02        0.01         0.365470\n",
      "1    0.02         0.1         0.998726\n",
      "2    0.02       scale         0.997664\n",
      "3   0.009        0.01         0.365470\n",
      "4   0.009         0.1         0.729880\n",
      "5   0.009       scale         0.759823\n",
      "Wall time: 44.9 s\n"
     ]
    }
   ],
   "metadata": {}
  },
  {
   "cell_type": "code",
   "execution_count": 15,
   "source": [
    "%%time\r\n",
    "classifier = SVC(kernel='rbf', max_iter=-1 ,tol=1e-3)\r\n",
    "params = {'C': [2e-2, 9e-3],\r\n",
    "          'gamma': [5e-2, 1e-1, 'scale'],\r\n",
    "          'decision_function_shape': ['ovr']}\r\n",
    "rs = RandomizedSearchCV(classifier, params, cv=8, scoring='accuracy', n_iter=6)\r\n",
    "rs.fit(X_train, y_train)\r\n",
    "print(pd.DataFrame(rs.cv_results_)[['param_C','param_gamma','mean_test_score']])"
   ],
   "outputs": [
    {
     "output_type": "stream",
     "name": "stdout",
     "text": [
      "  param_C param_gamma  mean_test_score\n",
      "0    0.02        0.05         1.000000\n",
      "1    0.02         0.1         0.998726\n",
      "2    0.02       scale         0.997664\n",
      "3   0.009        0.05         0.553190\n",
      "4   0.009         0.1         0.729880\n",
      "5   0.009       scale         0.759823\n",
      "Wall time: 44.8 s\n"
     ]
    }
   ],
   "metadata": {}
  },
  {
   "cell_type": "code",
   "execution_count": 16,
   "source": [
    "%%time\r\n",
    "classifier = SVC(kernel='rbf', max_iter=-1 ,tol=1e-3)\r\n",
    "params = {'C': [2e-2, 9.5e-3],\r\n",
    "          'gamma': [7e-2, 1e-1, 'scale'],\r\n",
    "          'decision_function_shape': ['ovr']}\r\n",
    "rs = RandomizedSearchCV(classifier, params, cv=8, scoring='accuracy', n_iter=6)\r\n",
    "rs.fit(X_train, y_train)\r\n",
    "print(pd.DataFrame(rs.cv_results_)[['param_C','param_gamma','mean_test_score']])"
   ],
   "outputs": [
    {
     "output_type": "stream",
     "name": "stdout",
     "text": [
      "  param_C param_gamma  mean_test_score\n",
      "0    0.02        0.07         0.999787\n",
      "1    0.02         0.1         0.998726\n",
      "2    0.02       scale         0.997664\n",
      "3  0.0095        0.07         0.726482\n",
      "4  0.0095         0.1         0.779999\n",
      "5  0.0095       scale         0.822468\n",
      "Wall time: 38.6 s\n"
     ]
    }
   ],
   "metadata": {}
  },
  {
   "cell_type": "code",
   "execution_count": 17,
   "source": [
    "%%time\r\n",
    "classifier = SVC(kernel='rbf', max_iter=-1 ,tol=1e-3)\r\n",
    "params = {'C': [2.5e-2, 9.9e-3],\r\n",
    "          'gamma': [7.5e-2, 1e-1, 'scale'],\r\n",
    "          'decision_function_shape': ['ovr']}\r\n",
    "rs = RandomizedSearchCV(classifier, params, cv=8, scoring='accuracy', n_iter=6)\r\n",
    "rs.fit(X_train, y_train)\r\n",
    "print(pd.DataFrame(rs.cv_results_)[['param_C','param_gamma','mean_test_score']])"
   ],
   "outputs": [
    {
     "output_type": "stream",
     "name": "stdout",
     "text": [
      "  param_C param_gamma  mean_test_score\n",
      "0   0.025       0.075         0.999363\n",
      "1   0.025         0.1         0.998089\n",
      "2   0.025       scale         0.997240\n",
      "3  0.0099       0.075         0.728605\n",
      "4  0.0099         0.1         0.841792\n",
      "5  0.0099       scale         0.874711\n",
      "Wall time: 42.7 s\n"
     ]
    }
   ],
   "metadata": {}
  },
  {
   "cell_type": "code",
   "execution_count": 18,
   "source": [
    "%%time\r\n",
    "classifier = SVC(kernel='rbf', max_iter=-1)\r\n",
    "params = {'C': [2.5e-2, 9.9e-3],\r\n",
    "          'gamma': [7.5e-2, 1e-1, 'scale'],\r\n",
    "          'decision_function_shape': ['ovr'],\r\n",
    "          'tol': [1e-5, 1e-3, 1e-1]}\r\n",
    "rs = RandomizedSearchCV(classifier, params, cv=8, scoring='accuracy', n_iter=18)\r\n",
    "rs.fit(X_train, y_train)\r\n",
    "print(pd.DataFrame(rs.cv_results_)[['param_C','param_gamma','param_tol','mean_test_score']])"
   ],
   "outputs": [
    {
     "output_type": "stream",
     "name": "stdout",
     "text": [
      "   param_C param_gamma param_tol  mean_test_score\n",
      "0    0.025       0.075     1e-05         0.999363\n",
      "1    0.025       0.075     0.001         0.999363\n",
      "2    0.025       0.075       0.1         0.999363\n",
      "3    0.025         0.1     1e-05         0.998089\n",
      "4    0.025         0.1     0.001         0.998089\n",
      "5    0.025         0.1       0.1         0.998089\n",
      "6    0.025       scale     1e-05         0.997240\n",
      "7    0.025       scale     0.001         0.997240\n",
      "8    0.025       scale       0.1         0.997240\n",
      "9   0.0099       0.075     1e-05         0.728605\n",
      "10  0.0099       0.075     0.001         0.728605\n",
      "11  0.0099       0.075       0.1         0.730518\n",
      "12  0.0099         0.1     1e-05         0.841792\n",
      "13  0.0099         0.1     0.001         0.841792\n",
      "14  0.0099         0.1       0.1         0.900832\n",
      "15  0.0099       scale     1e-05         0.874711\n",
      "16  0.0099       scale     0.001         0.874711\n",
      "17  0.0099       scale       0.1         0.918032\n",
      "Wall time: 1min 56s\n"
     ]
    }
   ],
   "metadata": {}
  },
  {
   "cell_type": "code",
   "execution_count": 19,
   "source": [
    "%%time\r\n",
    "classifier = SVC(kernel='rbf', max_iter=-1)\r\n",
    "params = {'C': [1.5e-2, 9.9e-3],\r\n",
    "          'gamma': [7.5e-2, 1e-1, 'scale'],\r\n",
    "          'decision_function_shape': ['ovr'],\r\n",
    "          'tol': [1e-3]}\r\n",
    "rs = RandomizedSearchCV(classifier, params, cv=8, scoring='accuracy', n_iter=6)\r\n",
    "rs.fit(X_train, y_train)\r\n",
    "print(pd.DataFrame(rs.cv_results_)[['param_C','param_gamma','mean_test_score']])"
   ],
   "outputs": [
    {
     "output_type": "stream",
     "name": "stderr",
     "text": [
      "D:\\Programas\\anaconda3\\envs\\BCIMusical\\lib\\site-packages\\sklearn\\model_selection\\_search.py:281: UserWarning: The total space of parameters 6 is smaller than n_iter=18. Running 6 iterations. For exhaustive searches, use GridSearchCV.\n",
      "  % (grid_size, self.n_iter, grid_size), UserWarning)\n"
     ]
    },
    {
     "output_type": "stream",
     "name": "stdout",
     "text": [
      "  param_C param_gamma  mean_test_score\n",
      "0   0.015       0.075         0.999788\n",
      "1   0.015         0.1         0.999787\n",
      "2   0.015       scale         0.999787\n",
      "3  0.0099       0.075         0.728605\n",
      "4  0.0099         0.1         0.841792\n",
      "5  0.0099       scale         0.874711\n",
      "Wall time: 43.5 s\n"
     ]
    }
   ],
   "metadata": {}
  },
  {
   "cell_type": "code",
   "execution_count": 20,
   "source": [
    "%%time\r\n",
    "classifier = SVC(kernel='rbf', max_iter=-1)\r\n",
    "params = {'C': [1.5e-2, 8.5e-3],\r\n",
    "          'gamma': [6.5e-2, 8.5e-2, 'scale'],\r\n",
    "          'decision_function_shape': ['ovr'],\r\n",
    "          'tol': [1e-3]}\r\n",
    "rs = RandomizedSearchCV(classifier, params, cv=8, scoring='accuracy', n_iter=6)\r\n",
    "rs.fit(X_train, y_train)\r\n",
    "print(pd.DataFrame(rs.cv_results_)[['param_C','param_gamma','mean_test_score']])"
   ],
   "outputs": [
    {
     "output_type": "stream",
     "name": "stdout",
     "text": [
      "  param_C param_gamma  mean_test_score\n",
      "0   0.015       0.065         0.999576\n",
      "1   0.015       0.085         0.999575\n",
      "2   0.015       scale         0.999787\n",
      "3  0.0085       0.065         0.689536\n",
      "4  0.0085       0.085         0.720536\n",
      "5  0.0085       scale         0.727331\n",
      "Wall time: 45.9 s\n"
     ]
    }
   ],
   "metadata": {}
  },
  {
   "cell_type": "code",
   "execution_count": 21,
   "source": [
    "%%time\r\n",
    "classifier = SVC(kernel='rbf', max_iter=-1)\r\n",
    "params = {'C': [8.5e-3, 9e-3],\r\n",
    "          'gamma': [6.5e-2, 8.5e-2, 'scale'],\r\n",
    "          'decision_function_shape': ['ovr'],\r\n",
    "          'tol': [1e-3]}\r\n",
    "rs = RandomizedSearchCV(classifier, params, cv=8, scoring='accuracy', n_iter=6)\r\n",
    "rs.fit(X_train, y_train)\r\n",
    "print(pd.DataFrame(rs.cv_results_)[['param_C','param_gamma','mean_test_score']])"
   ],
   "outputs": [
    {
     "output_type": "stream",
     "name": "stdout",
     "text": [
      "  param_C param_gamma  mean_test_score\n",
      "0  0.0085       0.065         0.689536\n",
      "1  0.0085       0.085         0.720536\n",
      "2  0.0085       scale         0.727331\n",
      "3   0.009       0.065         0.713318\n",
      "4   0.009       0.085         0.726694\n",
      "5   0.009       scale         0.759823\n",
      "Wall time: 42.9 s\n"
     ]
    }
   ],
   "metadata": {}
  },
  {
   "cell_type": "code",
   "execution_count": 23,
   "source": [
    "%%time\r\n",
    "classifier = SVC(kernel='rbf', max_iter=-1)\r\n",
    "params = {'C': [9.5e-3, 9e-3],\r\n",
    "          'gamma': [6.5e-2, 8.5e-2, 'scale'],\r\n",
    "          'decision_function_shape': ['ovr'],\r\n",
    "          'tol': [1e-3]}\r\n",
    "rs = RandomizedSearchCV(classifier, params, cv=8, scoring='accuracy', n_iter=6)\r\n",
    "rs.fit(X_train, y_train)\r\n",
    "print(pd.DataFrame(rs.cv_results_)[['param_C','param_gamma','mean_test_score']])"
   ],
   "outputs": [
    {
     "output_type": "stream",
     "name": "stdout",
     "text": [
      "  param_C param_gamma  mean_test_score\n",
      "0  0.0095       0.065         0.722660\n",
      "1  0.0095       0.085         0.728605\n",
      "2  0.0095       scale         0.822468\n",
      "3   0.009       0.065         0.713318\n",
      "4   0.009       0.085         0.726694\n",
      "5   0.009       scale         0.759823\n",
      "Wall time: 46.7 s\n"
     ]
    }
   ],
   "metadata": {}
  },
  {
   "cell_type": "code",
   "execution_count": 24,
   "source": [
    "%%time\r\n",
    "classifier = SVC(kernel='rbf', max_iter=-1)\r\n",
    "params = {'C': [9.5e-3, 9.75e-3],\r\n",
    "          'gamma': [6.5e-2, 8.5e-2, 'scale'],\r\n",
    "          'decision_function_shape': ['ovr'],\r\n",
    "          'tol': [1e-3]}\r\n",
    "rs = RandomizedSearchCV(classifier, params, cv=8, scoring='accuracy', n_iter=6)\r\n",
    "rs.fit(X_train, y_train)\r\n",
    "print(pd.DataFrame(rs.cv_results_)[['param_C','param_gamma','mean_test_score']])"
   ],
   "outputs": [
    {
     "output_type": "stream",
     "name": "stdout",
     "text": [
      "   param_C param_gamma  mean_test_score\n",
      "0   0.0095       0.065         0.722660\n",
      "1   0.0095       0.085         0.728605\n",
      "2   0.0095       scale         0.822468\n",
      "3  0.00975       0.065         0.726270\n",
      "4  0.00975       0.085         0.738799\n",
      "5  0.00975       scale         0.856233\n",
      "Wall time: 48.8 s\n"
     ]
    }
   ],
   "metadata": {}
  },
  {
   "cell_type": "code",
   "execution_count": 25,
   "source": [
    "%%time\r\n",
    "classifier = SVC(kernel='rbf', max_iter=-1)\r\n",
    "params = {'C': [9.75e-3, 1e-2],\r\n",
    "          'gamma': [6.5e-2, 8.5e-2, 'scale'],\r\n",
    "          'decision_function_shape': ['ovr'],\r\n",
    "          'tol': [1e-3]}\r\n",
    "rs = RandomizedSearchCV(classifier, params, cv=8, scoring='accuracy', n_iter=6)\r\n",
    "rs.fit(X_train, y_train)\r\n",
    "print(pd.DataFrame(rs.cv_results_)[['param_C','param_gamma','mean_test_score']])"
   ],
   "outputs": [
    {
     "output_type": "stream",
     "name": "stdout",
     "text": [
      "   param_C param_gamma  mean_test_score\n",
      "0  0.00975       0.065         0.726270\n",
      "1  0.00975       0.085         0.738799\n",
      "2  0.00975       scale         0.856233\n",
      "3     0.01       0.065         0.727544\n",
      "4     0.01       0.085         0.774477\n",
      "5     0.01       scale         0.884906\n",
      "Wall time: 52.1 s\n"
     ]
    }
   ],
   "metadata": {}
  },
  {
   "cell_type": "code",
   "execution_count": 26,
   "source": [
    "%%time\r\n",
    "classifier = SVC(kernel='rbf', max_iter=-1)\r\n",
    "params = {'C': [1e-2, 1.5e-2],\r\n",
    "          'gamma': [6.5e-2, 8.5e-2, 'scale'],\r\n",
    "          'decision_function_shape': ['ovr'],\r\n",
    "          'tol': [1e-3]}\r\n",
    "rs = RandomizedSearchCV(classifier, params, cv=8, scoring='accuracy', n_iter=6)\r\n",
    "rs.fit(X_train, y_train)\r\n",
    "print(pd.DataFrame(rs.cv_results_)[['param_C','param_gamma','mean_test_score']])"
   ],
   "outputs": [
    {
     "output_type": "stream",
     "name": "stdout",
     "text": [
      "  param_C param_gamma  mean_test_score\n",
      "0    0.01       0.065         0.727544\n",
      "1    0.01       0.085         0.774477\n",
      "2    0.01       scale         0.884906\n",
      "3   0.015       0.065         0.999576\n",
      "4   0.015       0.085         0.999575\n",
      "5   0.015       scale         0.999787\n",
      "Wall time: 45.8 s\n"
     ]
    }
   ],
   "metadata": {}
  },
  {
   "cell_type": "code",
   "execution_count": 27,
   "source": [
    "%%time\r\n",
    "classifier = SVC(kernel='rbf', max_iter=-1)\r\n",
    "params = {'C': [1.25e-2, 1.5e-2],\r\n",
    "          'gamma': [6.5e-2, 8.5e-2, 'scale'],\r\n",
    "          'decision_function_shape': ['ovr'],\r\n",
    "          'tol': [1e-3]}\r\n",
    "rs = RandomizedSearchCV(classifier, params, cv=8, scoring='accuracy', n_iter=6)\r\n",
    "rs.fit(X_train, y_train)\r\n",
    "print(pd.DataFrame(rs.cv_results_)[['param_C','param_gamma','mean_test_score']])"
   ],
   "outputs": [
    {
     "output_type": "stream",
     "name": "stdout",
     "text": [
      "  param_C param_gamma  mean_test_score\n",
      "0  0.0125       0.065         0.959868\n",
      "1  0.0125       0.085         0.990446\n",
      "2  0.0125       scale         0.992569\n",
      "3   0.015       0.065         0.999576\n",
      "4   0.015       0.085         0.999575\n",
      "5   0.015       scale         0.999787\n",
      "Wall time: 50.7 s\n"
     ]
    }
   ],
   "metadata": {}
  },
  {
   "cell_type": "code",
   "execution_count": 28,
   "source": [
    "%%time\r\n",
    "classifier = SVC(kernel='rbf', max_iter=-1)\r\n",
    "params = {'C': [1.25e-2, 1.35e-2],\r\n",
    "          'gamma': [6.5e-2, 8.5e-2, 'scale'],\r\n",
    "          'decision_function_shape': ['ovr'],\r\n",
    "          'tol': [1e-3]}\r\n",
    "rs = RandomizedSearchCV(classifier, params, cv=8, scoring='accuracy', n_iter=6)\r\n",
    "rs.fit(X_train, y_train)\r\n",
    "print(pd.DataFrame(rs.cv_results_)[['param_C','param_gamma','mean_test_score']])"
   ],
   "outputs": [
    {
     "output_type": "stream",
     "name": "stdout",
     "text": [
      "  param_C param_gamma  mean_test_score\n",
      "0  0.0125       0.065         0.959868\n",
      "1  0.0125       0.085         0.990446\n",
      "2  0.0125       scale         0.992569\n",
      "3  0.0135       0.065         0.991931\n",
      "4  0.0135       0.085         0.998089\n",
      "5  0.0135       scale         0.998301\n",
      "Wall time: 44.1 s\n"
     ]
    }
   ],
   "metadata": {}
  },
  {
   "cell_type": "code",
   "execution_count": 29,
   "source": [
    "%%time\r\n",
    "classifier = SVC(kernel='rbf', max_iter=-1)\r\n",
    "params = {'C': [1.25e-2],\r\n",
    "          'gamma': [6.5e-2],\r\n",
    "          'decision_function_shape': ['ovr'],\r\n",
    "          'tol': [1e-3]}\r\n",
    "rs = RandomizedSearchCV(classifier, params, cv=8, scoring='accuracy', n_iter=6)\r\n",
    "rs.fit(X_train, y_train)\r\n",
    "print(pd.DataFrame(rs.cv_results_)[['param_C','param_gamma','mean_test_score']])"
   ],
   "outputs": [
    {
     "output_type": "stream",
     "name": "stderr",
     "text": [
      "D:\\Programas\\anaconda3\\envs\\BCIMusical\\lib\\site-packages\\sklearn\\model_selection\\_search.py:281: UserWarning: The total space of parameters 1 is smaller than n_iter=6. Running 1 iterations. For exhaustive searches, use GridSearchCV.\n",
      "  % (grid_size, self.n_iter, grid_size), UserWarning)\n"
     ]
    },
    {
     "output_type": "stream",
     "name": "stdout",
     "text": [
      "  param_C param_gamma  mean_test_score\n",
      "0  0.0125       0.065         0.959868\n",
      "Wall time: 9 s\n"
     ]
    }
   ],
   "metadata": {}
  },
  {
   "cell_type": "code",
   "execution_count": 3,
   "source": [
    "%%time\r\n",
    "import joblib\r\n",
    "from sklearn.metrics import classification_report\r\n",
    "#Dividimos el test set en test y val\r\n",
    "X_val, X_test, y_val, y_test = train_test_split(X_test, y_test, random_state=3, test_size=2/3)\r\n",
    "classifier = SVC(kernel='rbf', gamma=6.5e-2, max_iter=-1, C=1.25e-2, tol=1e-3, decision_function_shape='ovr')\r\n",
    "classifier.fit(X_train, y_train)\r\n",
    "print('Clasifier DONE')\r\n",
    "y_predict = classifier.predict(X_test)\r\n",
    "print('TEST SET:')\r\n",
    "print(classification_report(y_test, y_predict))\r\n",
    "print('VAL SET:')\r\n",
    "y_val_predict = classifier.predict(X_val)\r\n",
    "print(classification_report(y_val, y_val_predict))\r\n",
    "joblib.dump(classifier, 'D:/Github/eeg.fem/public/data/Musical/5956733/ML_models/Model_RBF_PCA_64')"
   ],
   "outputs": [
    {
     "output_type": "stream",
     "name": "stdout",
     "text": [
      "Clasifier DONE\n",
      "TEST SET:\n",
      "              precision    recall  f1-score   support\n",
      "\n",
      "         1.0       1.00      1.00      1.00       498\n",
      "         2.0       0.99      1.00      1.00       484\n",
      "         3.0       1.00      0.99      0.99       364\n",
      "\n",
      "    accuracy                           1.00      1346\n",
      "   macro avg       1.00      1.00      1.00      1346\n",
      "weighted avg       1.00      1.00      1.00      1346\n",
      "\n",
      "VAL SET:\n",
      "              precision    recall  f1-score   support\n",
      "\n",
      "         1.0       1.00      1.00      1.00       250\n",
      "         2.0       0.99      1.00      1.00       259\n",
      "         3.0       1.00      0.99      0.99       164\n",
      "\n",
      "    accuracy                           1.00       673\n",
      "   macro avg       1.00      1.00      1.00       673\n",
      "weighted avg       1.00      1.00      1.00       673\n",
      "\n",
      "Wall time: 1.87 s\n"
     ]
    }
   ],
   "metadata": {}
  }
 ],
 "metadata": {
  "orig_nbformat": 4,
  "language_info": {
   "name": "python",
   "version": "3.6.13",
   "mimetype": "text/x-python",
   "codemirror_mode": {
    "name": "ipython",
    "version": 3
   },
   "pygments_lexer": "ipython3",
   "nbconvert_exporter": "python",
   "file_extension": ".py"
  },
  "kernelspec": {
   "name": "python3",
   "display_name": "Python 3.6.13 64-bit ('BCIMusical': conda)"
  },
  "interpreter": {
   "hash": "f9ecac2d14d2bb269a4709d9862e512850489fa6d8ba68695ffcc8a638687dcf"
  }
 },
 "nbformat": 4,
 "nbformat_minor": 2
}