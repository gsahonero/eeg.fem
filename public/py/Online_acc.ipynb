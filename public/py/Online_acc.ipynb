{
 "cells": [
  {
   "cell_type": "code",
   "execution_count": 1,
   "source": [
    "import numpy as np\r\n",
    "import pandas as pd"
   ],
   "outputs": [],
   "metadata": {}
  },
  {
   "cell_type": "markdown",
   "source": [
    "## Kernel RBF"
   ],
   "metadata": {}
  },
  {
   "cell_type": "code",
   "execution_count": 3,
   "source": [
    "df = pd.read_csv('D:/Github/eeg.fem/public/data/Musical/5956733/data predict/Model_RBF/2021_6_18_23_55.csv', delimiter=',',dtype =object)\r\n",
    "old_df = df['MARKERS'].str.split('.').str[1] ##Seprara a partir del punto y solo se queda con la segunda parte\r\n",
    "etiquetado = old_df.apply({'music':'music',\r\n",
    "                            'aurosal':'aurosal'}.get)\r\n",
    "df = df.assign(STEP=etiquetado) #Remplaza\r\n",
    "df.dropna(subset = [\"STEP\"], inplace=True) #Quita todas las filas que tengan NaN en MARKERS\r\n",
    "new_df = df.drop(['COUNTER', 'INTERPOLATED','RAW_CQ','MARKER_HARDWARE','STEP'], axis=1)\r\n",
    "\r\n",
    "y_pred = new_df['MARKERS'].str.split('.').str[0] ##Seprara a partir del punto y solo se queda con la primera parte\r\n",
    "y_true = new_df['MARKERS'].str.split('.').str[1] ##Seprara a partir del punto y solo se queda con la segunda parte\r\n",
    "comparison = np.where(y_pred == y_true, True, False)\r\n",
    "total = comparison.shape[0]\r\n",
    "count = np.sum(comparison)\r\n",
    "\r\n",
    "presition = (count/total)*100\r\n",
    "print('Acertadas: ',count)\r\n",
    "print('Hechas: ',total)\r\n",
    "print('Acc: ',presition)"
   ],
   "outputs": [
    {
     "output_type": "stream",
     "name": "stdout",
     "text": [
      "Acertadas:  10454\n",
      "Hechas:  20322\n",
      "Acc:  51.44178722566677\n"
     ]
    }
   ],
   "metadata": {}
  },
  {
   "cell_type": "markdown",
   "source": [
    "## Kernel Linear"
   ],
   "metadata": {}
  },
  {
   "cell_type": "code",
   "execution_count": 4,
   "source": [
    "df = pd.read_csv('D:/Github/eeg.fem/public/data/Musical/5956733/data predict/Model_Linear/2021_6_18_23_53.csv', delimiter=',',dtype =object)\r\n",
    "old_df = df['MARKERS'].str.split('.').str[1] ##Seprara a partir del punto y solo se queda con la segunda parte\r\n",
    "etiquetado = old_df.apply({'music':'music',\r\n",
    "                            'aurosal':'aurosal'}.get)\r\n",
    "df = df.assign(STEP=etiquetado) #Remplaza\r\n",
    "df.dropna(subset = [\"STEP\"], inplace=True) #Quita todas las filas que tengan NaN en MARKERS\r\n",
    "new_df = df.drop(['COUNTER', 'INTERPOLATED','RAW_CQ','MARKER_HARDWARE','STEP'], axis=1)\r\n",
    "\r\n",
    "y_pred = new_df['MARKERS'].str.split('.').str[0] ##Seprara a partir del punto y solo se queda con la primera parte\r\n",
    "y_true = new_df['MARKERS'].str.split('.').str[1] ##Seprara a partir del punto y solo se queda con la segunda parte\r\n",
    "comparison = np.where(y_pred == y_true, True, False)\r\n",
    "total = comparison.shape[0]\r\n",
    "count = np.sum(comparison)\r\n",
    "\r\n",
    "presition = (count/total)*100\r\n",
    "print('Acertadas: ',count)\r\n",
    "print('Hechas: ',total)\r\n",
    "print('Acc: ',presition)"
   ],
   "outputs": [
    {
     "output_type": "stream",
     "name": "stdout",
     "text": [
      "Acertadas:  9252\n",
      "Hechas:  20418\n",
      "Acc:  45.31295915368792\n"
     ]
    }
   ],
   "metadata": {}
  },
  {
   "cell_type": "code",
   "execution_count": 17,
   "source": [
    "df = pd.read_csv('D:/Github/eeg.fem/public/data/Musical/5956733/data predict/Model_RBF/2021_6_29_19_25.csv', delimiter=',',dtype =object)\r\n",
    "old_df = df['MARKERS'].str.split('.').str[0] ##Seprara a partir del punto y solo se queda con la segunda parte\r\n",
    "etiquetado = old_df.apply({'music':'music',\r\n",
    "                            'aurosal':'aurosal'}.get)\r\n",
    "df = df.assign(COUNTER=etiquetado) #Remplaza\r\n",
    "df.dropna(subset = [\"COUNTER\"], inplace=True) #Quita todas las filas que tengan NaN en MARKERS\r\n",
    "new_df = df.drop(['COUNTER', 'INTERPOLATED','RAW_CQ','MARKER_HARDWARE'], axis=1)\r\n",
    "\r\n",
    "y_pred = new_df['MARKERS'].str.split('.').str[0] ##Seprara a partir del punto y solo se queda con la primera parte\r\n",
    "y_true = new_df['MARKERS'].str.split('.').str[1] ##Seprara a partir del punto y solo se queda con la segunda parte\r\n",
    "lat = new_df['STEP'].astype('int32')\r\n",
    "mean_lat = np.mean(lat, axis=0)\r\n",
    "comparison = np.where(y_pred == y_true, True, False)\r\n",
    "total = comparison.shape[0]\r\n",
    "count = np.sum(comparison)\r\n",
    "\r\n",
    "presition = (count/total)*100\r\n",
    "print('Acertadas: ',count)\r\n",
    "print('Hechas: ',total)\r\n",
    "print('Acc: ',presition)\r\n",
    "print('Latencia promedio: ',mean_lat)"
   ],
   "outputs": [
    {
     "output_type": "stream",
     "name": "stdout",
     "text": [
      "Acertadas:  8864\n",
      "Hechas:  20017\n",
      "Acc:  44.28235999400509\n",
      "Latencia promedio:  55.07758405355448\n"
     ]
    }
   ],
   "metadata": {}
  },
  {
   "cell_type": "code",
   "execution_count": 3,
   "source": [
    "df = pd.read_csv('D:/Github/eeg.fem/public/data/Musical/5956733/data predict/Model_Linear/2021_6_30_10_47.csv', delimiter=',',dtype =object)\r\n",
    "old_df = df['MARKERS'].str.split('.').str[0] ##Seprara a partir del punto y solo se queda con la segunda parte\r\n",
    "etiquetado = old_df.apply({'music':'music',\r\n",
    "                            'aurosal':'aurosal'}.get)\r\n",
    "df = df.assign(COUNTER=etiquetado) #Remplaza\r\n",
    "df.dropna(subset = [\"COUNTER\"], inplace=True) #Quita todas las filas que tengan NaN en MARKERS\r\n",
    "new_df = df.drop(['COUNTER', 'INTERPOLATED','RAW_CQ','MARKER_HARDWARE'], axis=1)\r\n",
    "\r\n",
    "y_pred = new_df['MARKERS'].str.split('.').str[0] ##Seprara a partir del punto y solo se queda con la primera parte\r\n",
    "y_true = new_df['MARKERS'].str.split('.').str[1] ##Seprara a partir del punto y solo se queda con la segunda parte\r\n",
    "lat = new_df['STEP'].astype('int32')\r\n",
    "mean_lat = np.mean(lat, axis=0)\r\n",
    "comparison = np.where(y_pred == y_true, True, False)\r\n",
    "total = comparison.shape[0]\r\n",
    "count = np.sum(comparison)\r\n",
    "\r\n",
    "presition = (count/total)*100\r\n",
    "print('Acertadas: ',count)\r\n",
    "print('Hechas: ',total)\r\n",
    "print('Acc: ',presition)\r\n",
    "print('Latencia promedio: ',mean_lat)"
   ],
   "outputs": [
    {
     "output_type": "stream",
     "name": "stdout",
     "text": [
      "Acertadas:  9906\n",
      "Hechas:  20264\n",
      "Acc:  48.884721673904465\n",
      "Latencia promedio:  85.35822147651007\n"
     ]
    }
   ],
   "metadata": {}
  },
  {
   "cell_type": "code",
   "execution_count": 5,
   "source": [
    "df = pd.read_csv('D:/Github/eeg.fem/public/data/Musical/5956733/data predict/Model_RBF/2021_6_30_10_49.csv', delimiter=',',dtype =object)\r\n",
    "old_df = df['MARKERS'].str.split('.').str[0] ##Seprara a partir del punto y solo se queda con la segunda parte\r\n",
    "etiquetado = old_df.apply({'music':'music',\r\n",
    "                            'aurosal':'aurosal'}.get)\r\n",
    "df = df.assign(COUNTER=etiquetado) #Remplaza\r\n",
    "df.dropna(subset = [\"COUNTER\"], inplace=True) #Quita todas las filas que tengan NaN en MARKERS\r\n",
    "new_df = df.drop(['COUNTER', 'INTERPOLATED','RAW_CQ','MARKER_HARDWARE'], axis=1)\r\n",
    "\r\n",
    "y_pred = new_df['MARKERS'].str.split('.').str[0] ##Seprara a partir del punto y solo se queda con la primera parte\r\n",
    "y_true = new_df['MARKERS'].str.split('.').str[1] ##Seprara a partir del punto y solo se queda con la segunda parte\r\n",
    "lat = new_df['STEP'].astype('int32')\r\n",
    "mean_lat = np.mean(lat, axis=0)\r\n",
    "comparison = np.where(y_pred == y_true, True, False)\r\n",
    "total = comparison.shape[0]\r\n",
    "count = np.sum(comparison)\r\n",
    "\r\n",
    "presition = (count/total)*100\r\n",
    "print('Acertadas: ',count)\r\n",
    "print('Hechas: ',total)\r\n",
    "print('Acc: ',presition)\r\n",
    "print('Latencia promedio: ',mean_lat)"
   ],
   "outputs": [
    {
     "output_type": "stream",
     "name": "stdout",
     "text": [
      "Acertadas:  8572\n",
      "Hechas:  21495\n",
      "Acc:  39.879041637590134\n",
      "Latencia promedio:  75.69509188183298\n"
     ]
    }
   ],
   "metadata": {}
  },
  {
   "cell_type": "code",
   "execution_count": 25,
   "source": [
    "df = pd.read_csv('D:/Github/eeg.fem/public/data/Musical/5956733/data predict/Model_Linear/2021_7_12_13_4.csv', delimiter=',',dtype =object)\r\n",
    "old_df = df['MARKERS'].str.split('.').str[0] ##Seprara a partir del punto y solo se queda con la segunda parte\r\n",
    "etiquetado = old_df.apply({'music':'music',\r\n",
    "                            'aurosal':'aurosal',\r\n",
    "                            'blink': 'blink'}.get)\r\n",
    "df = df.assign(COUNTER=etiquetado) #Remplaza\r\n",
    "df.dropna(subset = [\"COUNTER\"], inplace=True) #Quita todas las filas que tengan NaN en MARKERS\r\n",
    "new_df = df.drop(['COUNTER', 'INTERPOLATED','RAW_CQ','MARKER_HARDWARE'], axis=1)\r\n",
    "\r\n",
    "y_pred = new_df['MARKERS'].str.split('.').str[0] ##Seprara a partir del punto y solo se queda con la primera parte\r\n",
    "y_true = new_df['MARKERS'].str.split('.').str[1] ##Seprara a partir del punto y solo se queda con la segunda parte\r\n",
    "lat = new_df['STEP'].astype('int32')\r\n",
    "mean_lat = np.mean(lat, axis=0)\r\n",
    "comparison = np.where(y_pred == y_true, True, False)\r\n",
    "print(comparison)\r\n",
    "total = comparison.shape[0]\r\n",
    "count = np.sum(comparison)\r\n",
    "\r\n",
    "presition = (count/total)*100\r\n",
    "print('Acertadas: ',count)\r\n",
    "print('Hechas: ',total)\r\n",
    "print('Acc: ',presition)\r\n",
    "print('Latencia promedio: ',mean_lat)"
   ],
   "outputs": [
    {
     "output_type": "stream",
     "name": "stdout",
     "text": [
      "[ True  True  True ... False False False]\n",
      "Acertadas:  6939\n",
      "Hechas:  21353\n",
      "Acc:  32.496604692549056\n",
      "Latencia promedio:  58.78799231958039\n"
     ]
    }
   ],
   "metadata": {}
  },
  {
   "cell_type": "code",
   "execution_count": 34,
   "source": [
    "df = pd.read_csv('D:/Github/eeg.fem/public/data/Musical/5956733/data predict/Model_Linear/2021_7_12_13_4.csv',\n",
    "                 delimiter=',',dtype =object)\n",
    "##Seprara a partir del punto y solo se queda con la segunda parte\n",
    "old_df = df['MARKERS'].str.split('.').str[0]\n",
    "etiquetado = old_df.apply({'music':'music',\n",
    "                            'aurosal':'aurosal',\n",
    "                            'blink': 'blink'}.get)\n",
    "#Remplaza\n",
    "df = df.assign(COUNTER=etiquetado)\n",
    "#Quita todas las filas que tengan NaN en MARKERS\n",
    "df.dropna(subset = [\"COUNTER\"], inplace=True)\n",
    "new_df = df.drop(['COUNTER', 'INTERPOLATED','RAW_CQ','MARKER_HARDWARE'], axis=1)\n",
    "##Seprara a partir del punto y solo se queda con la primera parte\n",
    "y_pred = new_df['MARKERS'].str.split('.').str[0]\n",
    "##Seprara a partir del punto y solo se queda con la segunda parte\n",
    "y_true = new_df['MARKERS'].str.split('.').str[1]\n",
    "lat = new_df['STEP'].astype('int32')\n",
    "mean_lat = np.mean(lat, axis=0)\n",
    "max_lat = lat.max()\n",
    "min_lat = lat.min()\n",
    "print(max_lat, min_lat)\n",
    "comparison = np.where((y_pred == y_true)|((y_pred == 'blink') & ((y_true == 'music') |\n",
    "                                                                (y_true == 'aurosal')))\n",
    "                      ,True, False)\n",
    "print(comparison)\n",
    "total = comparison.shape[0]\n",
    "count = np.sum(comparison)\n",
    "\n",
    "presition = (count/total)*100\n",
    "print('Acertadas: ',count)\n",
    "print('Hechas: ',total)\n",
    "print('Acc: ',presition)\n",
    "print('Latencia promedio: ',mean_lat)"
   ],
   "outputs": [
    {
     "output_type": "stream",
     "name": "stdout",
     "text": [
      "1097 2\n",
      "[ True  True  True ... False False False]\n",
      "Acertadas:  11671\n",
      "Hechas:  21353\n",
      "Acc:  54.657425186156516\n",
      "Latencia promedio:  58.78799231958039\n"
     ]
    }
   ],
   "metadata": {
    "pycharm": {
     "name": "#%%\n"
    }
   }
  },
  {
   "cell_type": "code",
   "execution_count": 35,
   "source": [
    "df = pd.read_csv('D:/Github/eeg.fem/public/data/Musical/5956733/data predict/Model_Linear/2021_7_12_13_6.csv',\n",
    "                 delimiter=',',dtype =object)\n",
    "##Seprara a partir del punto y solo se queda con la segunda parte\n",
    "old_df = df['MARKERS'].str.split('.').str[0]\n",
    "etiquetado = old_df.apply({'music':'music',\n",
    "                            'aurosal':'aurosal',\n",
    "                            'blink': 'blink'}.get)\n",
    "#Remplaza\n",
    "df = df.assign(COUNTER=etiquetado)\n",
    "#Quita todas las filas que tengan NaN en MARKERS\n",
    "df.dropna(subset = [\"COUNTER\"], inplace=True)\n",
    "new_df = df.drop(['COUNTER', 'INTERPOLATED','RAW_CQ','MARKER_HARDWARE'], axis=1)\n",
    "##Seprara a partir del punto y solo se queda con la primera parte\n",
    "y_pred = new_df['MARKERS'].str.split('.').str[0]\n",
    "##Seprara a partir del punto y solo se queda con la segunda parte\n",
    "y_true = new_df['MARKERS'].str.split('.').str[1]\n",
    "lat = new_df['STEP'].astype('int32')\n",
    "mean_lat = np.mean(lat, axis=0)\n",
    "max_lat = lat.max()\n",
    "min_lat = lat.min()\n",
    "print(max_lat, min_lat)\n",
    "comparison = np.where((y_pred == y_true)|((y_pred == 'blink') & ((y_true == 'music') |\n",
    "                                                                (y_true == 'aurosal')))\n",
    "                      ,True, False)\n",
    "print(comparison)\n",
    "total = comparison.shape[0]\n",
    "count = np.sum(comparison)\n",
    "\n",
    "presition = (count/total)*100\n",
    "print('Acertadas: ',count)\n",
    "print('Hechas: ',total)\n",
    "print('Acc: ',presition)\n",
    "print('Latencia promedio: ',mean_lat)"
   ],
   "outputs": [
    {
     "output_type": "stream",
     "name": "stdout",
     "text": [
      "228 2\n",
      "[False False False ... False False False]\n",
      "Acertadas:  12994\n",
      "Hechas:  21262\n",
      "Acc:  61.11372401467406\n",
      "Latencia promedio:  22.122472015802842\n"
     ]
    }
   ],
   "metadata": {
    "pycharm": {
     "name": "#%%\n"
    }
   }
  },
  {
   "cell_type": "code",
   "execution_count": 36,
   "source": [
    "df = pd.read_csv('D:/Github/eeg.fem/public/data/Musical/5956733/data predict/Model_Linear/2021_7_12_13_11.csv',\n",
    "                 delimiter=',',dtype =object)\n",
    "##Seprara a partir del punto y solo se queda con la segunda parte\n",
    "old_df = df['MARKERS'].str.split('.').str[0]\n",
    "etiquetado = old_df.apply({'music':'music',\n",
    "                            'aurosal':'aurosal',\n",
    "                            'blink': 'blink'}.get)\n",
    "#Remplaza\n",
    "df = df.assign(COUNTER=etiquetado)\n",
    "#Quita todas las filas que tengan NaN en MARKERS\n",
    "df.dropna(subset = [\"COUNTER\"], inplace=True)\n",
    "new_df = df.drop(['COUNTER', 'INTERPOLATED','RAW_CQ','MARKER_HARDWARE'], axis=1)\n",
    "##Seprara a partir del punto y solo se queda con la primera parte\n",
    "y_pred = new_df['MARKERS'].str.split('.').str[0]\n",
    "##Seprara a partir del punto y solo se queda con la segunda parte\n",
    "y_true = new_df['MARKERS'].str.split('.').str[1]\n",
    "lat = new_df['STEP'].astype('int32')\n",
    "mean_lat = np.mean(lat, axis=0)\n",
    "max_lat = lat.max()\n",
    "min_lat = lat.min()\n",
    "print(max_lat, min_lat)\n",
    "comparison = np.where((y_pred == y_true)|((y_pred == 'blink') & ((y_true == 'music') |\n",
    "                                                                (y_true == 'aurosal')))\n",
    "                      ,True, False)\n",
    "print(comparison)\n",
    "total = comparison.shape[0]\n",
    "count = np.sum(comparison)\n",
    "\n",
    "presition = (count/total)*100\n",
    "print('Acertadas: ',count)\n",
    "print('Hechas: ',total)\n",
    "print('Acc: ',presition)\n",
    "print('Latencia promedio: ',mean_lat)"
   ],
   "outputs": [
    {
     "output_type": "stream",
     "name": "stdout",
     "text": [
      "1142 3\n",
      "[False False False ... False False False]\n",
      "Acertadas:  10534\n",
      "Hechas:  22014\n",
      "Acc:  47.85136731171073\n",
      "Latencia promedio:  59.550377032797314\n"
     ]
    }
   ],
   "metadata": {
    "pycharm": {
     "name": "#%%\n"
    }
   }
  },
  {
   "cell_type": "code",
   "execution_count": 37,
   "source": [
    "df = pd.read_csv('D:/Github/eeg.fem/public/data/Musical/5956733/data predict/Model_Linear/2021_7_12_13_13.csv',\n",
    "                 delimiter=',',dtype =object)\n",
    "##Seprara a partir del punto y solo se queda con la segunda parte\n",
    "old_df = df['MARKERS'].str.split('.').str[0]\n",
    "etiquetado = old_df.apply({'music':'music',\n",
    "                            'aurosal':'aurosal',\n",
    "                            'blink': 'blink'}.get)\n",
    "#Remplaza\n",
    "df = df.assign(COUNTER=etiquetado)\n",
    "#Quita todas las filas que tengan NaN en MARKERS\n",
    "df.dropna(subset = [\"COUNTER\"], inplace=True)\n",
    "new_df = df.drop(['COUNTER', 'INTERPOLATED','RAW_CQ','MARKER_HARDWARE'], axis=1)\n",
    "##Seprara a partir del punto y solo se queda con la primera parte\n",
    "y_pred = new_df['MARKERS'].str.split('.').str[0]\n",
    "##Seprara a partir del punto y solo se queda con la segunda parte\n",
    "y_true = new_df['MARKERS'].str.split('.').str[1]\n",
    "lat = new_df['STEP'].astype('int32')\n",
    "mean_lat = np.mean(lat, axis=0)\n",
    "max_lat = lat.max()\n",
    "min_lat = lat.min()\n",
    "print(max_lat, min_lat)\n",
    "comparison = np.where((y_pred == y_true)|((y_pred == 'blink') & ((y_true == 'music') |\n",
    "                                                                (y_true == 'aurosal')))\n",
    "                      ,True, False)\n",
    "print(comparison)\n",
    "total = comparison.shape[0]\n",
    "count = np.sum(comparison)\n",
    "\n",
    "presition = (count/total)*100\n",
    "print('Acertadas: ',count)\n",
    "print('Hechas: ',total)\n",
    "print('Acc: ',presition)\n",
    "print('Latencia promedio: ',mean_lat)"
   ],
   "outputs": [
    {
     "output_type": "stream",
     "name": "stdout",
     "text": [
      "1157 2\n",
      "[False False False ... False False False]\n",
      "Acertadas:  11145\n",
      "Hechas:  21992\n",
      "Acc:  50.67751909785376\n",
      "Latencia promedio:  64.52860130956712\n"
     ]
    }
   ],
   "metadata": {
    "pycharm": {
     "name": "#%%\n"
    }
   }
  },
  {
   "cell_type": "code",
   "execution_count": 38,
   "source": [
    "df = pd.read_csv('D:/Github/eeg.fem/public/data/Musical/5956733/data predict/Model_RBF/2021_7_12_13_21.csv',\n",
    "                 delimiter=',',dtype =object)\n",
    "##Seprara a partir del punto y solo se queda con la segunda parte\n",
    "old_df = df['MARKERS'].str.split('.').str[0]\n",
    "etiquetado = old_df.apply({'music':'music',\n",
    "                            'aurosal':'aurosal',\n",
    "                            'blink': 'blink'}.get)\n",
    "#Remplaza\n",
    "df = df.assign(COUNTER=etiquetado)\n",
    "#Quita todas las filas que tengan NaN en MARKERS\n",
    "df.dropna(subset = [\"COUNTER\"], inplace=True)\n",
    "new_df = df.drop(['COUNTER', 'INTERPOLATED','RAW_CQ','MARKER_HARDWARE'], axis=1)\n",
    "##Seprara a partir del punto y solo se queda con la primera parte\n",
    "y_pred = new_df['MARKERS'].str.split('.').str[0]\n",
    "##Seprara a partir del punto y solo se queda con la segunda parte\n",
    "y_true = new_df['MARKERS'].str.split('.').str[1]\n",
    "lat = new_df['STEP'].astype('int32')\n",
    "mean_lat = np.mean(lat, axis=0)\n",
    "max_lat = lat.max()\n",
    "min_lat = lat.min()\n",
    "print(max_lat, min_lat)\n",
    "comparison = np.where((y_pred == y_true)|((y_pred == 'blink') & ((y_true == 'music') |\n",
    "                                                                (y_true == 'aurosal')))\n",
    "                      ,True, False)\n",
    "print(comparison)\n",
    "total = comparison.shape[0]\n",
    "count = np.sum(comparison)\n",
    "\n",
    "presition = (count/total)*100\n",
    "print('Acertadas: ',count)\n",
    "print('Hechas: ',total)\n",
    "print('Acc: ',presition)\n",
    "print('Latencia promedio: ',mean_lat)"
   ],
   "outputs": [
    {
     "output_type": "stream",
     "name": "stdout",
     "text": [
      "1326 2\n",
      "[False False False ... False False False]\n",
      "Acertadas:  9736\n",
      "Hechas:  22178\n",
      "Acc:  43.899359725854445\n",
      "Latencia promedio:  99.26679592388854\n"
     ]
    }
   ],
   "metadata": {
    "pycharm": {
     "name": "#%%\n"
    }
   }
  },
  {
   "cell_type": "code",
   "execution_count": 39,
   "source": [
    "df = pd.read_csv('D:/Github/eeg.fem/public/data/Musical/5956733/data predict/Model_RBF/2021_7_12_13_28.csv',\n",
    "                 delimiter=',',dtype =object)\n",
    "##Seprara a partir del punto y solo se queda con la segunda parte\n",
    "old_df = df['MARKERS'].str.split('.').str[0]\n",
    "etiquetado = old_df.apply({'music':'music',\n",
    "                            'aurosal':'aurosal',\n",
    "                            'blink': 'blink'}.get)\n",
    "#Remplaza\n",
    "df = df.assign(COUNTER=etiquetado)\n",
    "#Quita todas las filas que tengan NaN en MARKERS\n",
    "df.dropna(subset = [\"COUNTER\"], inplace=True)\n",
    "new_df = df.drop(['COUNTER', 'INTERPOLATED','RAW_CQ','MARKER_HARDWARE'], axis=1)\n",
    "##Seprara a partir del punto y solo se queda con la primera parte\n",
    "y_pred = new_df['MARKERS'].str.split('.').str[0]\n",
    "##Seprara a partir del punto y solo se queda con la segunda parte\n",
    "y_true = new_df['MARKERS'].str.split('.').str[1]\n",
    "lat = new_df['STEP'].astype('int32')\n",
    "mean_lat = np.mean(lat, axis=0)\n",
    "max_lat = lat.max()\n",
    "min_lat = lat.min()\n",
    "print(max_lat, min_lat)\n",
    "comparison = np.where((y_pred == y_true)|((y_pred == 'blink') & ((y_true == 'music') |\n",
    "                                                                (y_true == 'aurosal')))\n",
    "                      ,True, False)\n",
    "print(comparison)\n",
    "total = comparison.shape[0]\n",
    "count = np.sum(comparison)\n",
    "\n",
    "presition = (count/total)*100\n",
    "print('Acertadas: ',count)\n",
    "print('Hechas: ',total)\n",
    "print('Acc: ',presition)\n",
    "print('Latencia promedio: ',mean_lat)"
   ],
   "outputs": [
    {
     "output_type": "stream",
     "name": "stdout",
     "text": [
      "238 2\n",
      "[False False False ... False False False]\n",
      "Acertadas:  11877\n",
      "Hechas:  21144\n",
      "Acc:  56.17196367763905\n",
      "Latencia promedio:  18.21850170261067\n"
     ]
    }
   ],
   "metadata": {
    "pycharm": {
     "name": "#%%\n"
    }
   }
  },
  {
   "cell_type": "code",
   "execution_count": 40,
   "source": [
    "df = pd.read_csv('D:/Github/eeg.fem/public/data/Musical/5956733/data predict/Model_RBF/2021_7_12_13_31.csv',\r\n",
    "                 delimiter=',',dtype =object)\r\n",
    "##Seprara a partir del punto y solo se queda con la segunda parte\r\n",
    "old_df = df['MARKERS'].str.split('.').str[0]\r\n",
    "etiquetado = old_df.apply({'music':'music',\r\n",
    "                            'aurosal':'aurosal',\r\n",
    "                            'blink': 'blink'}.get)\r\n",
    "#Remplaza\r\n",
    "df = df.assign(COUNTER=etiquetado)\r\n",
    "#Quita todas las filas que tengan NaN en MARKERS\r\n",
    "df.dropna(subset = [\"COUNTER\"], inplace=True)\r\n",
    "new_df = df.drop(['COUNTER', 'INTERPOLATED','RAW_CQ','MARKER_HARDWARE'], axis=1)\r\n",
    "##Seprara a partir del punto y solo se queda con la primera parte\r\n",
    "y_pred = new_df['MARKERS'].str.split('.').str[0]\r\n",
    "##Seprara a partir del punto y solo se queda con la segunda parte\r\n",
    "y_true = new_df['MARKERS'].str.split('.').str[1]\r\n",
    "lat = new_df['STEP'].astype('int32')\r\n",
    "mean_lat = np.mean(lat, axis=0)\r\n",
    "max_lat = lat.max()\r\n",
    "min_lat = lat.min()\r\n",
    "print(max_lat, min_lat)\r\n",
    "comparison = np.where((y_pred == y_true)|((y_pred == 'blink') & ((y_true == 'music') |\r\n",
    "                                                                (y_true == 'aurosal')))\r\n",
    "                      ,True, False)\r\n",
    "print(comparison)\r\n",
    "total = comparison.shape[0]\r\n",
    "count = np.sum(comparison)\r\n",
    "\r\n",
    "presition = (count/total)*100\r\n",
    "print('Acertadas: ',count)\r\n",
    "print('Hechas: ',total)\r\n",
    "print('Acc: ',presition)\r\n",
    "print('Latencia promedio: ',mean_lat)"
   ],
   "outputs": [
    {
     "output_type": "stream",
     "name": "stdout",
     "text": [
      "139 2\n",
      "[False False False ... False False False]\n",
      "Acertadas:  11515\n",
      "Hechas:  21421\n",
      "Acc:  53.75566033331777\n",
      "Latencia promedio:  17.693198263386396\n"
     ]
    }
   ],
   "metadata": {
    "pycharm": {
     "name": "#%%\n"
    }
   }
  },
  {
   "cell_type": "code",
   "execution_count": 41,
   "source": [
    "df = pd.read_csv('D:/Github/eeg.fem/public/data/Musical/5956733/data predict/Model_RBF/2021_7_12_13_33.csv',\r\n",
    "                 delimiter=',',dtype =object)\r\n",
    "##Seprara a partir del punto y solo se queda con la segunda parte\r\n",
    "old_df = df['MARKERS'].str.split('.').str[0]\r\n",
    "etiquetado = old_df.apply({'music':'music',\r\n",
    "                            'aurosal':'aurosal',\r\n",
    "                            'blink': 'blink'}.get)\r\n",
    "#Remplaza\r\n",
    "df = df.assign(COUNTER=etiquetado)\r\n",
    "#Quita todas las filas que tengan NaN en MARKERS\r\n",
    "df.dropna(subset = [\"COUNTER\"], inplace=True)\r\n",
    "new_df = df.drop(['COUNTER', 'INTERPOLATED','RAW_CQ','MARKER_HARDWARE'], axis=1)\r\n",
    "##Seprara a partir del punto y solo se queda con la primera parte\r\n",
    "y_pred = new_df['MARKERS'].str.split('.').str[0]\r\n",
    "##Seprara a partir del punto y solo se queda con la segunda parte\r\n",
    "y_true = new_df['MARKERS'].str.split('.').str[1]\r\n",
    "lat = new_df['STEP'].astype('int32')\r\n",
    "mean_lat = np.mean(lat, axis=0)\r\n",
    "max_lat = lat.max()\r\n",
    "min_lat = lat.min()\r\n",
    "print(max_lat, min_lat)\r\n",
    "comparison = np.where((y_pred == y_true)|((y_pred == 'blink') & ((y_true == 'music') |\r\n",
    "                                                                (y_true == 'aurosal')))\r\n",
    "                      ,True, False)\r\n",
    "print(comparison)\r\n",
    "total = comparison.shape[0]\r\n",
    "count = np.sum(comparison)\r\n",
    "\r\n",
    "presition = (count/total)*100\r\n",
    "print('Acertadas: ',count)\r\n",
    "print('Hechas: ',total)\r\n",
    "print('Acc: ',presition)\r\n",
    "print('Latencia promedio: ',mean_lat)"
   ],
   "outputs": [
    {
     "output_type": "stream",
     "name": "stdout",
     "text": [
      "155 1\n",
      "[False False False ... False False False]\n",
      "Acertadas:  11764\n",
      "Hechas:  21943\n",
      "Acc:  53.61163013261633\n",
      "Latencia promedio:  19.699494143918333\n"
     ]
    }
   ],
   "metadata": {
    "pycharm": {
     "name": "#%%\n"
    }
   }
  },
  {
   "cell_type": "markdown",
   "source": [
    "## 13/07 Kernel"
   ],
   "metadata": {
    "pycharm": {
     "name": "#%% md\n"
    }
   }
  },
  {
   "cell_type": "code",
   "execution_count": 67,
   "source": [
    "def AccpFile(path, CI, model, file):\r\n",
    "    df = pd.read_csv(str(path)+'/'+str(CI)+'/data predict/'+str(model)+'/'+str(file)+'.csv',delimiter=',',dtype =object)\r\n",
    "    ##Seprara a partir del punto y solo se queda con la segunda parte\r\n",
    "    old_df = df['MARKERS'].str.split('.').str[0]\r\n",
    "    etiquetado = old_df.apply({'music':'music',\r\n",
    "                                'aurosal':'aurosal',\r\n",
    "                                'blink': 'blink'}.get)\r\n",
    "    #Remplaza\r\n",
    "    df = df.assign(COUNTER=etiquetado)\r\n",
    "    #Quita todas las filas que tengan NaN en MARKERS\r\n",
    "    df.dropna(subset = [\"COUNTER\"], inplace=True)\r\n",
    "    new_df = df.drop(['COUNTER', 'INTERPOLATED','RAW_CQ','MARKER_HARDWARE'], axis=1)\r\n",
    "    ##Seprara a partir del punto y solo se queda con la primera parte\r\n",
    "    y_pred = new_df['MARKERS'].str.split('.').str[0]\r\n",
    "    ##Seprara a partir del punto y solo se queda con la segunda parte\r\n",
    "    y_true = new_df['MARKERS'].str.split('.').str[1]\r\n",
    "    lat = new_df['STEP'].astype('int32')\r\n",
    "    mean_lat = np.mean(lat, axis=0)\r\n",
    "    max_lat = lat.max()\r\n",
    "    min_lat = lat.min()\r\n",
    "    \"\"\" comparison = np.where((y_pred == y_true)|((y_pred == 'blink') & ((y_true == 'music') |\r\n",
    "                                                                    (y_true == 'aurosal')))\r\n",
    "                          ,True, False) \"\"\"\r\n",
    "    comparison_1 = np.where((y_pred == y_true) | (y_pred == 'blink'),True, False)\r\n",
    "    \r\n",
    "    hech = np.where((y_true == 'music') | (y_true == 'aurosal'), True, False)\r\n",
    "\r\n",
    "    comparison = np.where((hech == True) & (comparison_1 == True), True, False)\r\n",
    "\r\n",
    "    total = comparison.shape[0]\r\n",
    "    count = np.sum(comparison)\r\n",
    "    presition = (count/total)*100\r\n",
    "    print('--------------------------------------')\r\n",
    "    print(file,' :')\r\n",
    "    print('Modelo: ', model)\r\n",
    "    print('Latencia promedio: ',mean_lat)\r\n",
    "    print('Latencia max: ', max_lat,' Latencia min: ', min_lat)\r\n",
    "    print('Acertadas: ',count)\r\n",
    "    print('Hechas: ',total)\r\n",
    "    print('Acc: ',presition)\r\n",
    "    return print(file,' Done')"
   ],
   "outputs": [],
   "metadata": {
    "pycharm": {
     "name": "#%%\n"
    }
   }
  },
  {
   "cell_type": "code",
   "execution_count": 18,
   "source": [
    "import pandas as pd\r\n",
    "import numpy as np\r\n",
    "\r\n",
    "path = 'D:/Github/eeg.fem/public/data/Musical'\r\n",
    "CI = 5956733\r\n",
    "models = np.array(['Model_RBF','Model_Linear'])\r\n",
    "m_rbf = np.array(['2021_7_13_23_0', '2021_7_13_23_1', '2021_7_13_23_11', '2021_7_13_23_13', '2021_7_13_23_15',\r\n",
    "         '2021_7_13_23_25'])\r\n",
    "m_linear = np.array(['2021_7_13_21_38', '2021_7_13_21_41', '2021_7_13_21_46', '2021_7_13_21_48',\r\n",
    "                       '2021_7_13_21_50', '2021_7_13_21_55', '2021_7_13_21_57', '2021_7_13_21_59',\r\n",
    "                       '2021_7_13_22_1', '2021_7_13_22_3'])\r\n",
    "file = np.empty([0,0])\r\n",
    "for i in range(models.shape[0]):\r\n",
    "    model = models[i]\r\n",
    "    if model == 'Model_RBF':\r\n",
    "        file = m_rbf\r\n",
    "    elif model == 'Model_Linear':\r\n",
    "        file = m_linear\r\n",
    "    for j in range(file.shape[0]):\r\n",
    "        AccpFile(path=path, CI=CI, model=model, file=file[j])"
   ],
   "outputs": [
    {
     "output_type": "stream",
     "name": "stdout",
     "text": [
      "--------------------------------------\n",
      "2021_7_13_23_0  :\n",
      "Modelo:  Model_RBF\n",
      "Latencia promedio:  21.870327320066952\n",
      "Latencia max:  1023  Latencia min:  2\n",
      "Acertadas:  10801\n",
      "Hechas:  21508\n",
      "Acc:  50.2185233401525\n",
      "2021_7_13_23_0  Done\n",
      "--------------------------------------\n",
      "2021_7_13_23_1  :\n",
      "Modelo:  Model_RBF\n",
      "Latencia promedio:  60.7435012652404\n",
      "Latencia max:  1457  Latencia min:  1\n",
      "Acertadas:  10785\n",
      "Hechas:  21735\n",
      "Acc:  49.620427881297445\n",
      "2021_7_13_23_1  Done\n",
      "--------------------------------------\n",
      "2021_7_13_23_11  :\n",
      "Modelo:  Model_RBF\n",
      "Latencia promedio:  63.15827832783278\n",
      "Latencia max:  1440  Latencia min:  1\n",
      "Acertadas:  12473\n",
      "Hechas:  21816\n",
      "Acc:  57.17363403006968\n",
      "2021_7_13_23_11  Done\n",
      "--------------------------------------\n",
      "2021_7_13_23_13  :\n",
      "Modelo:  Model_RBF\n",
      "Latencia promedio:  21.919052364558798\n",
      "Latencia max:  728  Latencia min:  2\n",
      "Acertadas:  12417\n",
      "Hechas:  22076\n",
      "Acc:  56.246602645406774\n",
      "2021_7_13_23_13  Done\n",
      "--------------------------------------\n",
      "2021_7_13_23_15  :\n",
      "Modelo:  Model_RBF\n",
      "Latencia promedio:  19.894401805869073\n",
      "Latencia max:  223  Latencia min:  1\n",
      "Acertadas:  12943\n",
      "Hechas:  22150\n",
      "Acc:  58.4334085778781\n",
      "2021_7_13_23_15  Done\n",
      "--------------------------------------\n",
      "2021_7_13_23_25  :\n",
      "Modelo:  Model_RBF\n",
      "Latencia promedio:  18.658059063805812\n",
      "Latencia max:  112  Latencia min:  1\n",
      "Acertadas:  9606\n",
      "Hechas:  21299\n",
      "Acc:  45.100708953471994\n",
      "2021_7_13_23_25  Done\n",
      "--------------------------------------\n",
      "2021_7_13_21_38  :\n",
      "Modelo:  Model_Linear\n",
      "Latencia promedio:  58.33176359783376\n",
      "Latencia max:  1390  Latencia min:  2\n",
      "Acertadas:  11353\n",
      "Hechas:  21235\n",
      "Acc:  53.4636213797975\n",
      "2021_7_13_21_38  Done\n",
      "--------------------------------------\n",
      "2021_7_13_21_41  :\n",
      "Modelo:  Model_Linear\n",
      "Latencia promedio:  62.451779876498364\n",
      "Latencia max:  1506  Latencia min:  2\n",
      "Acertadas:  10016\n",
      "Hechas:  22024\n",
      "Acc:  45.477660733745005\n",
      "2021_7_13_21_41  Done\n",
      "--------------------------------------\n",
      "2021_7_13_21_46  :\n",
      "Modelo:  Model_Linear\n",
      "Latencia promedio:  68.07351978299505\n",
      "Latencia max:  1417  Latencia min:  2\n",
      "Acertadas:  10031\n",
      "Hechas:  21382\n",
      "Acc:  46.91329155364325\n",
      "2021_7_13_21_46  Done\n",
      "--------------------------------------\n",
      "2021_7_13_21_48  :\n",
      "Modelo:  Model_Linear\n",
      "Latencia promedio:  21.563894896691362\n",
      "Latencia max:  937  Latencia min:  2\n",
      "Acertadas:  11573\n",
      "Hechas:  21731\n",
      "Acc:  53.25571763839676\n",
      "2021_7_13_21_48  Done\n",
      "--------------------------------------\n",
      "2021_7_13_21_50  :\n",
      "Modelo:  Model_Linear\n",
      "Latencia promedio:  73.9420891214144\n",
      "Latencia max:  1642  Latencia min:  2\n",
      "Acertadas:  10898\n",
      "Hechas:  22172\n",
      "Acc:  49.152083709182754\n",
      "2021_7_13_21_50  Done\n",
      "--------------------------------------\n",
      "2021_7_13_21_55  :\n",
      "Modelo:  Model_Linear\n",
      "Latencia promedio:  62.52755333635951\n",
      "Latencia max:  1480  Latencia min:  1\n",
      "Acertadas:  11375\n",
      "Hechas:  22030\n",
      "Acc:  51.63413527008625\n",
      "2021_7_13_21_55  Done\n",
      "--------------------------------------\n",
      "2021_7_13_21_57  :\n",
      "Modelo:  Model_Linear\n",
      "Latencia promedio:  67.05405405405405\n",
      "Latencia max:  1476  Latencia min:  1\n",
      "Acertadas:  10411\n",
      "Hechas:  22200\n",
      "Acc:  46.8963963963964\n",
      "2021_7_13_21_57  Done\n",
      "--------------------------------------\n",
      "2021_7_13_21_59  :\n",
      "Modelo:  Model_Linear\n",
      "Latencia promedio:  124.78879096045198\n",
      "Latencia max:  1547  Latencia min:  1\n",
      "Acertadas:  13088\n",
      "Hechas:  22125\n",
      "Acc:  59.154802259887006\n",
      "2021_7_13_21_59  Done\n",
      "--------------------------------------\n",
      "2021_7_13_22_1  :\n",
      "Modelo:  Model_Linear\n",
      "Latencia promedio:  71.47516316171138\n",
      "Latencia max:  1522  Latencia min:  2\n",
      "Acertadas:  11536\n",
      "Hechas:  22064\n",
      "Acc:  52.28426395939086\n",
      "2021_7_13_22_1  Done\n",
      "--------------------------------------\n",
      "2021_7_13_22_3  :\n",
      "Modelo:  Model_Linear\n",
      "Latencia promedio:  46.105873330927466\n",
      "Latencia max:  1105  Latencia min:  2\n",
      "Acertadas:  10312\n",
      "Hechas:  22168\n",
      "Acc:  46.51750270660411\n",
      "2021_7_13_22_3  Done\n"
     ]
    }
   ],
   "metadata": {
    "pycharm": {
     "name": "#%%\n"
    }
   }
  },
  {
   "cell_type": "markdown",
   "source": [
    "## 14/07"
   ],
   "metadata": {
    "pycharm": {
     "name": "#%% md\n"
    }
   }
  },
  {
   "cell_type": "code",
   "execution_count": 3,
   "source": [
    "import pandas as pd\r\n",
    "import numpy as np\r\n",
    "\r\n",
    "path = 'D:/Github/eeg.fem/public/data/Musical'\r\n",
    "CI = 5956733\r\n",
    "models = np.array(['Model_RBF','Model_Linear'])\r\n",
    "m_rbf = np.array(['2021_7_14_22_46', '2021_7_14_22_50', '2021_7_14_22_52',\r\n",
    "                  '2021_7_14_22_58', '2021_7_14_23_3', '2021_7_14_23_5',\r\n",
    "                  '2021_7_14_23_25', '2021_7_14_23_26', '2021_7_14_23_28',\r\n",
    "                  '2021_7_14_23_30'])\r\n",
    "m_linear = np.array(['2021_7_14_21_36', '2021_7_14_21_38', '2021_7_14_21_39',\r\n",
    "                     '2021_7_14_21_41', '2021_7_14_21_43', '2021_7_14_21_49',\r\n",
    "                     '2021_7_14_21_51', '2021_7_14_21_52', '2021_7_14_21_54',\r\n",
    "                     '2021_7_14_21_58'])\r\n",
    "file = np.empty([0,0])\r\n",
    "for i in range(models.shape[0]):\r\n",
    "    model = models[i]\r\n",
    "    if model == 'Model_RBF':\r\n",
    "        file = m_rbf\r\n",
    "    elif model == 'Model_Linear':\r\n",
    "        file = m_linear\r\n",
    "    for j in range(file.shape[0]):\r\n",
    "        AccpFile(path=path, CI=CI, model=model, file=file[j])"
   ],
   "outputs": [
    {
     "output_type": "stream",
     "name": "stdout",
     "text": [
      "--------------------------------------\n",
      "2021_7_14_22_46  :\n",
      "Modelo:  Model_RBF\n",
      "Latencia promedio:  100.83691647880354\n",
      "Latencia max:  406  Latencia min:  4\n",
      "Acertadas:  10487\n",
      "Hechas:  18187\n",
      "Acc:  57.662066311101334\n",
      "2021_7_14_22_46  Done\n",
      "--------------------------------------\n",
      "2021_7_14_22_50  :\n",
      "Modelo:  Model_RBF\n",
      "Latencia promedio:  154.58233236151602\n",
      "Latencia max:  1487  Latencia min:  6\n",
      "Acertadas:  9474\n",
      "Hechas:  17150\n",
      "Acc:  55.24198250728863\n",
      "2021_7_14_22_50  Done\n",
      "--------------------------------------\n",
      "2021_7_14_22_52  :\n",
      "Modelo:  Model_RBF\n",
      "Latencia promedio:  97.90117294734215\n",
      "Latencia max:  438  Latencia min:  3\n",
      "Acertadas:  9491\n",
      "Hechas:  20035\n",
      "Acc:  47.37209882705265\n",
      "2021_7_14_22_52  Done\n",
      "--------------------------------------\n",
      "2021_7_14_22_58  :\n",
      "Modelo:  Model_RBF\n",
      "Latencia promedio:  211.65252760023242\n",
      "Latencia max:  1699  Latencia min:  1\n",
      "Acertadas:  10682\n",
      "Hechas:  20652\n",
      "Acc:  51.72380398992834\n",
      "2021_7_14_22_58  Done\n",
      "--------------------------------------\n",
      "2021_7_14_23_3  :\n",
      "Modelo:  Model_RBF\n",
      "Latencia promedio:  102.70639024840706\n",
      "Latencia max:  519  Latencia min:  2\n",
      "Acertadas:  11414\n",
      "Hechas:  21658\n",
      "Acc:  52.701080432172866\n",
      "2021_7_14_23_3  Done\n",
      "--------------------------------------\n",
      "2021_7_14_23_5  :\n",
      "Modelo:  Model_RBF\n",
      "Latencia promedio:  109.74477872849388\n",
      "Latencia max:  528  Latencia min:  5\n",
      "Acertadas:  14044\n",
      "Hechas:  21738\n",
      "Acc:  64.60575949949397\n",
      "2021_7_14_23_5  Done\n",
      "--------------------------------------\n",
      "2021_7_14_23_25  :\n",
      "Modelo:  Model_RBF\n",
      "Latencia promedio:  60.731178377391224\n",
      "Latencia max:  239  Latencia min:  2\n",
      "Acertadas:  11717\n",
      "Hechas:  21903\n",
      "Acc:  53.49495502899146\n",
      "2021_7_14_23_25  Done\n",
      "--------------------------------------\n",
      "2021_7_14_23_26  :\n",
      "Modelo:  Model_RBF\n",
      "Latencia promedio:  87.59467753755955\n",
      "Latencia max:  1024  Latencia min:  2\n",
      "Acertadas:  11284\n",
      "Hechas:  21832\n",
      "Acc:  51.68559912055698\n",
      "2021_7_14_23_26  Done\n",
      "--------------------------------------\n",
      "2021_7_14_23_28  :\n",
      "Modelo:  Model_RBF\n",
      "Latencia promedio:  83.08983873923401\n",
      "Latencia max:  597  Latencia min:  1\n",
      "Acertadas:  12384\n",
      "Hechas:  21828\n",
      "Acc:  56.73446948873006\n",
      "2021_7_14_23_28  Done\n",
      "--------------------------------------\n",
      "2021_7_14_23_30  :\n",
      "Modelo:  Model_RBF\n",
      "Latencia promedio:  53.88016122228992\n",
      "Latencia max:  264  Latencia min:  1\n",
      "Acertadas:  11119\n",
      "Hechas:  21337\n",
      "Acc:  52.11135586071144\n",
      "2021_7_14_23_30  Done\n",
      "--------------------------------------\n",
      "2021_7_14_21_36  :\n",
      "Modelo:  Model_Linear\n",
      "Latencia promedio:  76.09191782149433\n",
      "Latencia max:  929  Latencia min:  2\n",
      "Acertadas:  8991\n",
      "Hechas:  20638\n",
      "Acc:  43.565267952320966\n",
      "2021_7_14_21_36  Done\n",
      "--------------------------------------\n",
      "2021_7_14_21_38  :\n",
      "Modelo:  Model_Linear\n",
      "Latencia promedio:  78.98240362811791\n",
      "Latencia max:  1048  Latencia min:  1\n",
      "Acertadas:  10526\n",
      "Hechas:  22050\n",
      "Acc:  47.73696145124717\n",
      "2021_7_14_21_38  Done\n",
      "--------------------------------------\n",
      "2021_7_14_21_39  :\n",
      "Modelo:  Model_Linear\n",
      "Latencia promedio:  63.15219276228723\n",
      "Latencia max:  271  Latencia min:  3\n",
      "Acertadas:  10441\n",
      "Hechas:  21913\n",
      "Acc:  47.64751517364122\n",
      "2021_7_14_21_39  Done\n",
      "--------------------------------------\n",
      "2021_7_14_21_41  :\n",
      "Modelo:  Model_Linear\n",
      "Latencia promedio:  89.77718408914463\n",
      "Latencia max:  1060  Latencia min:  1\n",
      "Acertadas:  11781\n",
      "Hechas:  21897\n",
      "Acc:  53.80189066995479\n",
      "2021_7_14_21_41  Done\n",
      "--------------------------------------\n",
      "2021_7_14_21_43  :\n",
      "Modelo:  Model_Linear\n",
      "Latencia promedio:  55.633610394573424\n",
      "Latencia max:  527  Latencia min:  2\n",
      "Acertadas:  11984\n",
      "Hechas:  20934\n",
      "Acc:  57.24658450367822\n",
      "2021_7_14_21_43  Done\n",
      "--------------------------------------\n",
      "2021_7_14_21_49  :\n",
      "Modelo:  Model_Linear\n",
      "Latencia promedio:  97.66367041198502\n",
      "Latencia max:  1305  Latencia min:  2\n",
      "Acertadas:  11853\n",
      "Hechas:  21360\n",
      "Acc:  55.491573033707866\n",
      "2021_7_14_21_49  Done\n",
      "--------------------------------------\n",
      "2021_7_14_21_51  :\n",
      "Modelo:  Model_Linear\n",
      "Latencia promedio:  82.15640306243759\n",
      "Latencia max:  1021  Latencia min:  2\n",
      "Acertadas:  12185\n",
      "Hechas:  21029\n",
      "Acc:  57.94379190641495\n",
      "2021_7_14_21_51  Done\n",
      "--------------------------------------\n",
      "2021_7_14_21_52  :\n",
      "Modelo:  Model_Linear\n",
      "Latencia promedio:  60.052554275485384\n",
      "Latencia max:  782  Latencia min:  2\n",
      "Acertadas:  9828\n",
      "Hechas:  21787\n",
      "Acc:  45.10946894937348\n",
      "2021_7_14_21_52  Done\n",
      "--------------------------------------\n",
      "2021_7_14_21_54  :\n",
      "Modelo:  Model_Linear\n",
      "Latencia promedio:  59.97897218293258\n",
      "Latencia max:  430  Latencia min:  4\n",
      "Acertadas:  11373\n",
      "Hechas:  21210\n",
      "Acc:  53.62093352192362\n",
      "2021_7_14_21_54  Done\n",
      "--------------------------------------\n",
      "2021_7_14_21_58  :\n",
      "Modelo:  Model_Linear\n",
      "Latencia promedio:  56.97791229610461\n",
      "Latencia max:  950  Latencia min:  1\n",
      "Acertadas:  10645\n",
      "Hechas:  21641\n",
      "Acc:  49.18903932350631\n",
      "2021_7_14_21_58  Done\n"
     ]
    }
   ],
   "metadata": {
    "pycharm": {
     "name": "#%%\n"
    }
   }
  },
  {
   "cell_type": "markdown",
   "source": [
    "## 15/07"
   ],
   "metadata": {
    "pycharm": {
     "name": "#%%\n"
    }
   }
  },
  {
   "cell_type": "code",
   "execution_count": 2,
   "source": [
    "import pandas as pd\r\n",
    "import numpy as np\r\n",
    "\r\n",
    "path = 'D:/Github/eeg.fem/public/data/Musical'\r\n",
    "CI = 5956733\r\n",
    "models = np.array(['Model_RBF','Model_Linear'])\r\n",
    "m_rbf = np.array(['2021_7_15_10_16', '2021_7_15_10_18', '2021_7_15_10_19',\r\n",
    "                  '2021_7_15_10_21', '2021_7_15_10_23'])\r\n",
    "m_linear = np.array(['2021_7_15_10_7', '2021_7_15_10_9', '2021_7_15_10_10',\r\n",
    "                     '2021_7_15_10_12', '2021_7_15_10_14'])\r\n",
    "file = np.empty([0,0])\r\n",
    "for i in range(models.shape[0]):\r\n",
    "    model = models[i]\r\n",
    "    if model == 'Model_RBF':\r\n",
    "        file = m_rbf\r\n",
    "    elif model == 'Model_Linear':\r\n",
    "        file = m_linear\r\n",
    "    for j in range(file.shape[0]):\r\n",
    "        AccpFile(path=path, CI=CI, model=model, file=file[j])"
   ],
   "outputs": [
    {
     "output_type": "stream",
     "name": "stdout",
     "text": [
      "--------------------------------------\n",
      "2021_7_15_10_16  :\n",
      "Modelo:  Model_RBF\n",
      "Latencia promedio:  96.82650822669105\n",
      "Latencia max:  1043  Latencia min:  3\n",
      "Acertadas:  12002\n",
      "Hechas:  21880\n",
      "Acc:  54.853747714808044\n",
      "2021_7_15_10_16  Done\n",
      "--------------------------------------\n",
      "2021_7_15_10_18  :\n",
      "Modelo:  Model_RBF\n",
      "Latencia promedio:  80.74878789251892\n",
      "Latencia max:  290  Latencia min:  1\n",
      "Acertadas:  11873\n",
      "Hechas:  22069\n",
      "Acc:  53.79944718836377\n",
      "2021_7_15_10_18  Done\n",
      "--------------------------------------\n",
      "2021_7_15_10_19  :\n",
      "Modelo:  Model_RBF\n",
      "Latencia promedio:  69.6277034457478\n",
      "Latencia max:  278  Latencia min:  2\n",
      "Acertadas:  12371\n",
      "Hechas:  21824\n",
      "Acc:  56.685300586510266\n",
      "2021_7_15_10_19  Done\n",
      "--------------------------------------\n",
      "2021_7_15_10_21  :\n",
      "Modelo:  Model_RBF\n",
      "Latencia promedio:  78.57456621004566\n",
      "Latencia max:  815  Latencia min:  0\n",
      "Acertadas:  12857\n",
      "Hechas:  21900\n",
      "Acc:  58.70776255707762\n",
      "2021_7_15_10_21  Done\n",
      "--------------------------------------\n",
      "2021_7_15_10_23  :\n",
      "Modelo:  Model_RBF\n",
      "Latencia promedio:  71.83254972875226\n",
      "Latencia max:  346  Latencia min:  2\n",
      "Acertadas:  12068\n",
      "Hechas:  22120\n",
      "Acc:  54.55696202531646\n",
      "2021_7_15_10_23  Done\n",
      "--------------------------------------\n",
      "2021_7_15_10_7  :\n",
      "Modelo:  Model_Linear\n",
      "Latencia promedio:  61.15260987057317\n",
      "Latencia max:  274  Latencia min:  0\n",
      "Acertadas:  10457\n",
      "Hechas:  21093\n",
      "Acc:  49.57568861707676\n",
      "2021_7_15_10_7  Done\n",
      "--------------------------------------\n",
      "2021_7_15_10_9  :\n",
      "Modelo:  Model_Linear\n",
      "Latencia promedio:  67.42377071696731\n",
      "Latencia max:  260  Latencia min:  1\n",
      "Acertadas:  13117\n",
      "Hechas:  21842\n",
      "Acc:  60.05402435674389\n",
      "2021_7_15_10_9  Done\n",
      "--------------------------------------\n",
      "2021_7_15_10_10  :\n",
      "Modelo:  Model_Linear\n",
      "Latencia promedio:  78.37456295690869\n",
      "Latencia max:  443  Latencia min:  2\n",
      "Acertadas:  9673\n",
      "Hechas:  22023\n",
      "Acc:  43.922263088589204\n",
      "2021_7_15_10_10  Done\n",
      "--------------------------------------\n",
      "2021_7_15_10_12  :\n",
      "Modelo:  Model_Linear\n",
      "Latencia promedio:  65.52801840822956\n",
      "Latencia max:  399  Latencia min:  1\n",
      "Acertadas:  11471\n",
      "Hechas:  22164\n",
      "Acc:  51.75509835769717\n",
      "2021_7_15_10_12  Done\n",
      "--------------------------------------\n",
      "2021_7_15_10_14  :\n",
      "Modelo:  Model_Linear\n",
      "Latencia promedio:  66.65032322680506\n",
      "Latencia max:  267  Latencia min:  0\n",
      "Acertadas:  10103\n",
      "Hechas:  21966\n",
      "Acc:  45.99380861331148\n",
      "2021_7_15_10_14  Done\n"
     ]
    }
   ],
   "metadata": {
    "pycharm": {
     "is_executing": true,
     "name": "#%%\n"
    }
   }
  },
  {
   "cell_type": "code",
   "execution_count": 68,
   "source": [
    "import pandas as pd\r\n",
    "import numpy as np\r\n",
    "\r\n",
    "path = 'D:/Github/eeg.fem/public/data/Musical'\r\n",
    "CI = 5956733\r\n",
    "models = np.array(['Model_RBF','Model_Linear'])\r\n",
    "m_rbf = np.array(['2021_7_15_16_30'])\r\n",
    "m_linear = np.array(['2021_7_15_16_28'])\r\n",
    "file = np.empty([0,0])\r\n",
    "for i in range(models.shape[0]):\r\n",
    "    model = models[i]\r\n",
    "    if model == 'Model_RBF':\r\n",
    "        file = m_rbf\r\n",
    "    elif model == 'Model_Linear':\r\n",
    "        file = m_linear\r\n",
    "    for j in range(file.shape[0]):\r\n",
    "        AccpFile(path=path, CI=CI, model=model, file=file[j])"
   ],
   "outputs": [
    {
     "output_type": "stream",
     "name": "stdout",
     "text": [
      "--------------------------------------\n",
      "2021_7_15_16_30  :\n",
      "Modelo:  Model_RBF\n",
      "Latencia promedio:  83.2696152266192\n",
      "Latencia max:  559  Latencia min:  2\n",
      "Acertadas:  10493\n",
      "Hechas:  21909\n",
      "Acc:  47.89355972431421\n",
      "2021_7_15_16_30  Done\n",
      "--------------------------------------\n",
      "2021_7_15_16_28  :\n",
      "Modelo:  Model_Linear\n",
      "Latencia promedio:  34.2102526367427\n",
      "Latencia max:  563  Latencia min:  1\n",
      "Acertadas:  10249\n",
      "Hechas:  20385\n",
      "Acc:  50.27716458180035\n",
      "2021_7_15_16_28  Done\n"
     ]
    }
   ],
   "metadata": {}
  },
  {
   "cell_type": "markdown",
   "source": [
    "## 11/08 data_128 "
   ],
   "metadata": {}
  },
  {
   "cell_type": "code",
   "execution_count": 76,
   "source": [
    "def AccpFile(path, CI, model, file):\r\n",
    "    df = pd.read_csv(str(path)+'/'+str(CI)+'/data predict/'+str(model)+'/'+str(file)+'.csv',delimiter=',',dtype =object)\r\n",
    "    ##Seprara a partir del punto y solo se queda con la segunda parte\r\n",
    "    old_df = df['MARKERS'].str.split('.').str[0]\r\n",
    "    etiquetado = old_df.apply({'music':'music',\r\n",
    "                                'aurosal':'aurosal',\r\n",
    "                                'blink': 'blink'}.get)\r\n",
    "    #Remplaza\r\n",
    "    df = df.assign(COUNTER=etiquetado)\r\n",
    "    #Quita todas las filas que tengan NaN en MARKERS\r\n",
    "    df.dropna(subset = [\"COUNTER\"], inplace=True)\r\n",
    "    new_df = df.drop(['COUNTER', 'INTERPOLATED','RAW_CQ','MARKER_HARDWARE'], axis=1)\r\n",
    "    ##Seprara a partir del punto y solo se queda con la primera parte\r\n",
    "    y_pred = new_df['MARKERS'].str.split('.').str[0]\r\n",
    "    ##Seprara a partir del punto y solo se queda con la segunda parte\r\n",
    "    y_true = new_df['MARKERS'].str.split('.').str[1]\r\n",
    "    lat = new_df['STEP'].astype('int32')\r\n",
    "    mean_lat = np.mean(lat, axis=0)\r\n",
    "    max_lat = lat.max()\r\n",
    "    min_lat = lat.min()\r\n",
    "    \"\"\" comparison = np.where((y_pred == y_true or y_pred == 'blink') and (y_true == 'music' or y_true == 'aurosal')\r\n",
    "                          ,True, False) \"\"\"\r\n",
    "\r\n",
    "    comparison_1 = np.where((y_pred == y_true) | (y_pred == 'blink'),True, False)\r\n",
    "    \"\"\" comparison_1 = np.where((y_pred == y_true),True, False) \"\"\"\r\n",
    "    \r\n",
    "    hech = np.where((y_true == 'music') | (y_true == 'aurosal') | (y_true == 'blink'), True, False)\r\n",
    "    \"\"\" hech = np.where((y_true == 'music') | (y_true == 'aurosal'), True, False) \"\"\"\r\n",
    "\r\n",
    "    comparison = np.where((hech == True) & (comparison_1 == True), True, False)\r\n",
    "    \r\n",
    "    total = np.sum(hech)\r\n",
    "    count = np.sum(comparison)\r\n",
    "    presition = (count/total)*100\r\n",
    "    print('--------------------------------------')\r\n",
    "    print(file,' :')\r\n",
    "    print('Modelo: ', model)\r\n",
    "    print('Latencia promedio: ',mean_lat)\r\n",
    "    print('Latencia max: ', max_lat,' Latencia min: ', min_lat)\r\n",
    "    print('Acertadas: ',count)\r\n",
    "    print('Hechas: ',total)\r\n",
    "    print('Acc: ',presition)\r\n",
    "    return print(file,' Done')"
   ],
   "outputs": [],
   "metadata": {}
  },
  {
   "cell_type": "code",
   "execution_count": 4,
   "source": [
    "import pandas as pd\r\n",
    "import numpy as np\r\n",
    "\r\n",
    "path = 'D:/Github/eeg.fem/public/data/Musical'\r\n",
    "CI = 5956733\r\n",
    "model = 'Model_Linear'\r\n",
    "file = '2021_8_11_15_16'\r\n",
    "AccpFile(path=path, CI=CI, model=model, file=file)"
   ],
   "outputs": [
    {
     "output_type": "stream",
     "name": "stdout",
     "text": [
      "--------------------------------------\n",
      "2021_8_11_15_16  :\n",
      "Modelo:  Model_Linear\n",
      "Latencia promedio:  62.789840391362354\n",
      "Latencia max:  1172  Latencia min:  1\n",
      "Acertadas:  10540\n",
      "Hechas:  20237\n",
      "Acc:  52.0828185995948\n",
      "2021_8_11_15_16  Done\n"
     ]
    }
   ],
   "metadata": {}
  },
  {
   "cell_type": "code",
   "execution_count": 77,
   "source": [
    "file = '2021_8_11_15_26'\r\n",
    "AccpFile(path=path, CI=CI, model=model, file=file)"
   ],
   "outputs": [
    {
     "output_type": "stream",
     "name": "stdout",
     "text": [
      "--------------------------------------\n",
      "2021_8_11_15_26  :\n",
      "Modelo:  Model_Linear\n",
      "Latencia promedio:  298.1986355045406\n",
      "Latencia max:  2606  Latencia min:  2\n",
      "Acertadas:  9855\n",
      "Hechas:  18969\n",
      "Acc:  51.95318677842796\n",
      "2021_8_11_15_26  Done\n"
     ]
    }
   ],
   "metadata": {}
  },
  {
   "cell_type": "code",
   "execution_count": 78,
   "source": [
    "file = '2021_8_11_19_34'\r\n",
    "AccpFile(path=path, CI=CI, model=model, file=file)"
   ],
   "outputs": [
    {
     "output_type": "stream",
     "name": "stdout",
     "text": [
      "--------------------------------------\n",
      "2021_8_11_19_34  :\n",
      "Modelo:  Model_Linear\n",
      "Latencia promedio:  94.35808389034196\n",
      "Latencia max:  1732  Latencia min:  3\n",
      "Acertadas:  10293\n",
      "Hechas:  17752\n",
      "Acc:  57.98219918882379\n",
      "2021_8_11_19_34  Done\n"
     ]
    }
   ],
   "metadata": {}
  },
  {
   "cell_type": "code",
   "execution_count": 79,
   "source": [
    "file = '2021_8_11_19_39'\r\n",
    "AccpFile(path=path, CI=CI, model=model, file=file)"
   ],
   "outputs": [
    {
     "output_type": "stream",
     "name": "stdout",
     "text": [
      "--------------------------------------\n",
      "2021_8_11_19_39  :\n",
      "Modelo:  Model_Linear\n",
      "Latencia promedio:  58.14472499881567\n",
      "Latencia max:  638  Latencia min:  2\n",
      "Acertadas:  11055\n",
      "Hechas:  18997\n",
      "Acc:  58.19339895773017\n",
      "2021_8_11_19_39  Done\n"
     ]
    }
   ],
   "metadata": {}
  },
  {
   "cell_type": "code",
   "execution_count": 80,
   "source": [
    "file = '2021_8_11_19_46'\r\n",
    "AccpFile(path=path, CI=CI, model=model, file=file)"
   ],
   "outputs": [
    {
     "output_type": "stream",
     "name": "stdout",
     "text": [
      "--------------------------------------\n",
      "2021_8_11_19_46  :\n",
      "Modelo:  Model_Linear\n",
      "Latencia promedio:  70.42848115549538\n",
      "Latencia max:  1671  Latencia min:  3\n",
      "Acertadas:  10514\n",
      "Hechas:  19212\n",
      "Acc:  54.726212783676864\n",
      "2021_8_11_19_46  Done\n"
     ]
    }
   ],
   "metadata": {}
  },
  {
   "cell_type": "code",
   "execution_count": 81,
   "source": [
    "file = '2021_8_11_19_49'\r\n",
    "AccpFile(path=path, CI=CI, model=model, file=file)"
   ],
   "outputs": [
    {
     "output_type": "stream",
     "name": "stdout",
     "text": [
      "--------------------------------------\n",
      "2021_8_11_19_49  :\n",
      "Modelo:  Model_Linear\n",
      "Latencia promedio:  243.84526516874374\n",
      "Latencia max:  3048  Latencia min:  3\n",
      "Acertadas:  14316\n",
      "Hechas:  18977\n",
      "Acc:  75.43868893924224\n",
      "2021_8_11_19_49  Done\n"
     ]
    }
   ],
   "metadata": {}
  },
  {
   "cell_type": "code",
   "execution_count": 82,
   "source": [
    "file = '2021_8_11_19_52'\r\n",
    "AccpFile(path=path, CI=CI, model=model, file=file)"
   ],
   "outputs": [
    {
     "output_type": "stream",
     "name": "stdout",
     "text": [
      "--------------------------------------\n",
      "2021_8_11_19_52  :\n",
      "Modelo:  Model_Linear\n",
      "Latencia promedio:  96.84226122635059\n",
      "Latencia max:  1350  Latencia min:  2\n",
      "Acertadas:  12250\n",
      "Hechas:  19073\n",
      "Acc:  64.22691763225502\n",
      "2021_8_11_19_52  Done\n"
     ]
    }
   ],
   "metadata": {}
  },
  {
   "cell_type": "code",
   "execution_count": 83,
   "source": [
    "file = '2021_8_11_19_57'\r\n",
    "AccpFile(path=path, CI=CI, model=model, file=file)"
   ],
   "outputs": [
    {
     "output_type": "stream",
     "name": "stdout",
     "text": [
      "--------------------------------------\n",
      "2021_8_11_19_57  :\n",
      "Modelo:  Model_Linear\n",
      "Latencia promedio:  54.89426680856971\n",
      "Latencia max:  2051  Latencia min:  2\n",
      "Acertadas:  11770\n",
      "Hechas:  18950\n",
      "Acc:  62.11081794195251\n",
      "2021_8_11_19_57  Done\n"
     ]
    }
   ],
   "metadata": {}
  },
  {
   "cell_type": "code",
   "execution_count": 84,
   "source": [
    "file = '2021_8_11_20_18'\r\n",
    "AccpFile(path=path, CI=CI, model=model, file=file)"
   ],
   "outputs": [
    {
     "output_type": "stream",
     "name": "stdout",
     "text": [
      "--------------------------------------\n",
      "2021_8_11_20_18  :\n",
      "Modelo:  Model_Linear\n",
      "Latencia promedio:  171.55164725154714\n",
      "Latencia max:  1602  Latencia min:  2\n",
      "Acertadas:  10456\n",
      "Hechas:  19022\n",
      "Acc:  54.96793186836295\n",
      "2021_8_11_20_18  Done\n"
     ]
    }
   ],
   "metadata": {}
  }
 ],
 "metadata": {
  "kernelspec": {
   "name": "python3",
   "display_name": "Python 3.6.13 64-bit ('BCIMusical': conda)"
  },
  "language_info": {
   "codemirror_mode": {
    "name": "ipython",
    "version": 3
   },
   "file_extension": ".py",
   "mimetype": "text/x-python",
   "name": "python",
   "nbconvert_exporter": "python",
   "pygments_lexer": "ipython3",
   "version": "3.6.13"
  },
  "interpreter": {
   "hash": "f9ecac2d14d2bb269a4709d9862e512850489fa6d8ba68695ffcc8a638687dcf"
  }
 },
 "nbformat": 4,
 "nbformat_minor": 5
}