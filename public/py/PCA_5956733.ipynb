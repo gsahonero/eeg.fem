{
 "cells": [
  {
   "cell_type": "markdown",
   "source": [
    "## 0. Packages"
   ],
   "metadata": {}
  },
  {
   "cell_type": "code",
   "execution_count": 2,
   "source": [
    "import numpy as np\r\n",
    "import pandas as pd\r\n",
    "import matplotlib.pyplot as plt\r\n",
    "from sklearn.decomposition import PCA\r\n",
    "from sklearn.preprocessing import MinMaxScaler"
   ],
   "outputs": [],
   "metadata": {}
  },
  {
   "cell_type": "markdown",
   "source": [
    "## 1. Load Data"
   ],
   "metadata": {}
  },
  {
   "cell_type": "code",
   "execution_count": 9,
   "source": [
    "df_1 = np.genfromtxt('D:/Github/eeg.fem/public/data/Musical/6080072/All_Data/ALL_3C.csv',delimiter=',')\r\n",
    "df_2 = np.genfromtxt('D:/Github/eeg.fem/public/data/Musical/5956733/All_Data/ALL_3C.csv',delimiter=',')\r\n",
    "print(df_1.shape)\r\n",
    "print(df_2.shape)"
   ],
   "outputs": [
    {
     "output_type": "stream",
     "name": "stdout",
     "text": [
      "(6728, 2690)\n",
      "(6728, 2690)\n"
     ]
    }
   ],
   "metadata": {}
  },
  {
   "cell_type": "markdown",
   "source": [
    "## 2. Data preparation"
   ],
   "metadata": {}
  },
  {
   "cell_type": "markdown",
   "source": [
    "2.1 Data assign"
   ],
   "metadata": {}
  },
  {
   "cell_type": "code",
   "execution_count": 10,
   "source": [
    "x_1 = df_1[:, :-2]\r\n",
    "old_y_1 = np.array([df_1[:, -2].astype('int')])\r\n",
    "y_1 = df_1[:, -1].astype('int')\r\n",
    "\r\n",
    "x_2 = df_2[:, :-2]\r\n",
    "old_y_2 = np.array([df_2[:, -2].astype('int')])\r\n",
    "y_2 = df_2[:, -1].astype('int')"
   ],
   "outputs": [],
   "metadata": {}
  },
  {
   "cell_type": "markdown",
   "source": [
    "2.2 Data MaxMin Scaler"
   ],
   "metadata": {}
  },
  {
   "cell_type": "code",
   "execution_count": 11,
   "source": [
    "x_escala = MinMaxScaler()\r\n",
    "print('Maximun Value in X',np.amax(x_1),'Minimun value in x:', np.amin(x_1))\r\n",
    "print('Maximun Value in X',np.amax(x_2),'Minimun value in x:', np.amin(x_2))"
   ],
   "outputs": [
    {
     "output_type": "stream",
     "name": "stdout",
     "text": [
      "Maximun Value in X 592.0065113392678 Minimun value in x: -612.7294312385559\n",
      "Maximun Value in X 73.97159864092326 Minimun value in x: -71.59862874481881\n"
     ]
    }
   ],
   "metadata": {}
  }
 ],
 "metadata": {
  "orig_nbformat": 4,
  "language_info": {
   "name": "python",
   "version": "3.6.13",
   "mimetype": "text/x-python",
   "codemirror_mode": {
    "name": "ipython",
    "version": 3
   },
   "pygments_lexer": "ipython3",
   "nbconvert_exporter": "python",
   "file_extension": ".py"
  },
  "kernelspec": {
   "name": "python3",
   "display_name": "Python 3.6.13 64-bit ('BCIMusical': conda)"
  },
  "interpreter": {
   "hash": "f9ecac2d14d2bb269a4709d9862e512850489fa6d8ba68695ffcc8a638687dcf"
  }
 },
 "nbformat": 4,
 "nbformat_minor": 2
}